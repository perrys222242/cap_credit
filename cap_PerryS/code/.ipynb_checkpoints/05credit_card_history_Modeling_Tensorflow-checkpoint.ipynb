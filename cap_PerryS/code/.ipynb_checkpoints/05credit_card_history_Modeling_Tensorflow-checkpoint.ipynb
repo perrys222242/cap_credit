{
 "cells": [
  {
   "cell_type": "markdown",
   "metadata": {},
   "source": [
    "# Credit-Card Default Risk\n",
    "#### by Perry Shyr\n",
    "## _5-of-7. Modeling with TensorFlow_\n",
    "![](../images/cards.png)"
   ]
  },
  {
   "cell_type": "markdown",
   "metadata": {},
   "source": [
    "## Problem Statement\n",
    "\n",
    "### Credit-card lenders need help in detecting default-risk anomalies.   Customer demographic and borrowing history is studied and modeled to identify credit-card default risk.  The misclassifications must be carefully considered when making decisions affecting both loss mitigation and customer retention.  This is a supervised binary-classification problem with customers who default as the positive class, and unbalanced classes.  The baseline model predicts slightly more than 22% with default risk.  models should ideally be optimized to reduce false-negatives in applicant screening and false-positives active loss mitigation.\n",
    "\n",
    "## Executive Summary\n",
    "\n",
    "### Financial losses from credit-card default are a big part of the cost of doing business as a consumer lender.  However, decisions based on identifying default risk must be made delicately to balance customer-retention interests.  A canonical dataset for credit-card borrowing history was used to train several predictive models for default risk.  Combining an easily-interpretable model with neural-network-based ones can lead to a robust solution for minimizing misclassifications.  A ‘logcosh’ loss-function was found to be effective for minimizing False-negative misclassifications while a ‘mean-squared-logarithmic-error’ loss function works to minimize False-positive misclassifications.  The former ‘logcosh’ model is also good at finding True-positives.  The logistic-regression model can find the strongest feature predictors which can be re-fed into the neural-network models to produce a better result.\n"
   ]
  },
  {
   "cell_type": "markdown",
   "metadata": {},
   "source": [
    "## A. Code Libraries Used"
   ]
  },
  {
   "cell_type": "code",
   "execution_count": 30,
   "metadata": {},
   "outputs": [],
   "source": [
    "import numpy as np\n",
    "import pandas as pd\n",
    "import matplotlib.pyplot as plt\n",
    "import seaborn as sns\n",
    "from numpy import genfromtxt\n",
    "\n",
    "from sklearn.preprocessing import StandardScaler\n",
    "from sklearn.model_selection import train_test_split\n",
    "from sklearn.metrics import confusion_matrix\n",
    "\n",
    "from keras.models import Sequential\n",
    "from keras.layers import Dense, Dropout\n",
    "from keras import regularizers\n",
    "import tensorflow as tf\n",
    "from tensorflow.python.saved_model import tag_constants\n",
    "from sklearn import metrics\n",
    "from sklearn.pipeline import Pipeline\n",
    "from sklearn.model_selection import GridSearchCV\n",
    "\n",
    "from keras.wrappers.scikit_learn import KerasClassifier\n",
    "\n",
    "%matplotlib inline"
   ]
  },
  {
   "cell_type": "markdown",
   "metadata": {},
   "source": [
    "## B. Load data\n",
    "\n",
    "### In the last notebook I was manually editing which dataset I wasnted test, either the 23-feature-set or the 35-feature-set.  I made sense now to just import all the files I might use from the beginning."
   ]
  },
  {
   "cell_type": "code",
   "execution_count": 13,
   "metadata": {},
   "outputs": [],
   "source": [
    "accts_nf = pd.read_csv('../assets/credit_new_features.csv', index_col='ID')\n",
    "accts = pd.read_csv('../assets/credit_data_processed.csv', index_col='ID')"
   ]
  },
  {
   "cell_type": "code",
   "execution_count": 11,
   "metadata": {},
   "outputs": [
    {
     "name": "stdout",
     "output_type": "stream",
     "text": [
      "(29965, 36)\n"
     ]
    },
    {
     "data": {
      "text/html": [
       "<div>\n",
       "<style scoped>\n",
       "    .dataframe tbody tr th:only-of-type {\n",
       "        vertical-align: middle;\n",
       "    }\n",
       "\n",
       "    .dataframe tbody tr th {\n",
       "        vertical-align: top;\n",
       "    }\n",
       "\n",
       "    .dataframe thead th {\n",
       "        text-align: right;\n",
       "    }\n",
       "</style>\n",
       "<table border=\"1\" class=\"dataframe\">\n",
       "  <thead>\n",
       "    <tr style=\"text-align: right;\">\n",
       "      <th></th>\n",
       "      <th>credit_limit</th>\n",
       "      <th>gender</th>\n",
       "      <th>EDUCATION</th>\n",
       "      <th>MARRIAGE</th>\n",
       "      <th>AGE</th>\n",
       "      <th>PAY_0</th>\n",
       "      <th>PAY_2</th>\n",
       "      <th>PAY_3</th>\n",
       "      <th>PAY_4</th>\n",
       "      <th>PAY_5</th>\n",
       "      <th>...</th>\n",
       "      <th>leverage_3</th>\n",
       "      <th>leverage_4</th>\n",
       "      <th>leverage_5</th>\n",
       "      <th>leverage_6</th>\n",
       "      <th>bill_to_pay1</th>\n",
       "      <th>bill_to_pay2</th>\n",
       "      <th>bill_to_pay3</th>\n",
       "      <th>bill_to_pay4</th>\n",
       "      <th>bill_to_pay5</th>\n",
       "      <th>bill_to_pay6</th>\n",
       "    </tr>\n",
       "    <tr>\n",
       "      <th>ID</th>\n",
       "      <th></th>\n",
       "      <th></th>\n",
       "      <th></th>\n",
       "      <th></th>\n",
       "      <th></th>\n",
       "      <th></th>\n",
       "      <th></th>\n",
       "      <th></th>\n",
       "      <th></th>\n",
       "      <th></th>\n",
       "      <th></th>\n",
       "      <th></th>\n",
       "      <th></th>\n",
       "      <th></th>\n",
       "      <th></th>\n",
       "      <th></th>\n",
       "      <th></th>\n",
       "      <th></th>\n",
       "      <th></th>\n",
       "      <th></th>\n",
       "      <th></th>\n",
       "    </tr>\n",
       "  </thead>\n",
       "  <tbody>\n",
       "    <tr>\n",
       "      <th>1</th>\n",
       "      <td>20000</td>\n",
       "      <td>2</td>\n",
       "      <td>2</td>\n",
       "      <td>1</td>\n",
       "      <td>24</td>\n",
       "      <td>2</td>\n",
       "      <td>2</td>\n",
       "      <td>-1</td>\n",
       "      <td>-1</td>\n",
       "      <td>-2</td>\n",
       "      <td>...</td>\n",
       "      <td>0.034450</td>\n",
       "      <td>0.000000</td>\n",
       "      <td>0.000000</td>\n",
       "      <td>0.000000</td>\n",
       "      <td>319999.000000</td>\n",
       "      <td>4.502177</td>\n",
       "      <td>319999.000000</td>\n",
       "      <td>0.000000</td>\n",
       "      <td>0.000000</td>\n",
       "      <td>0.000000</td>\n",
       "    </tr>\n",
       "    <tr>\n",
       "      <th>2</th>\n",
       "      <td>120000</td>\n",
       "      <td>2</td>\n",
       "      <td>2</td>\n",
       "      <td>2</td>\n",
       "      <td>26</td>\n",
       "      <td>-1</td>\n",
       "      <td>2</td>\n",
       "      <td>0</td>\n",
       "      <td>0</td>\n",
       "      <td>0</td>\n",
       "      <td>...</td>\n",
       "      <td>0.022350</td>\n",
       "      <td>0.027267</td>\n",
       "      <td>0.028792</td>\n",
       "      <td>0.027175</td>\n",
       "      <td>319999.000000</td>\n",
       "      <td>1.725000</td>\n",
       "      <td>2.682000</td>\n",
       "      <td>3.272000</td>\n",
       "      <td>319999.000000</td>\n",
       "      <td>1.630500</td>\n",
       "    </tr>\n",
       "    <tr>\n",
       "      <th>3</th>\n",
       "      <td>90000</td>\n",
       "      <td>2</td>\n",
       "      <td>2</td>\n",
       "      <td>2</td>\n",
       "      <td>34</td>\n",
       "      <td>0</td>\n",
       "      <td>0</td>\n",
       "      <td>0</td>\n",
       "      <td>0</td>\n",
       "      <td>0</td>\n",
       "      <td>...</td>\n",
       "      <td>0.150656</td>\n",
       "      <td>0.159233</td>\n",
       "      <td>0.166089</td>\n",
       "      <td>0.172767</td>\n",
       "      <td>19.261528</td>\n",
       "      <td>9.351333</td>\n",
       "      <td>13.559000</td>\n",
       "      <td>14.331000</td>\n",
       "      <td>14.948000</td>\n",
       "      <td>3.109800</td>\n",
       "    </tr>\n",
       "    <tr>\n",
       "      <th>4</th>\n",
       "      <td>50000</td>\n",
       "      <td>2</td>\n",
       "      <td>2</td>\n",
       "      <td>1</td>\n",
       "      <td>37</td>\n",
       "      <td>0</td>\n",
       "      <td>0</td>\n",
       "      <td>0</td>\n",
       "      <td>0</td>\n",
       "      <td>0</td>\n",
       "      <td>...</td>\n",
       "      <td>0.985820</td>\n",
       "      <td>0.566280</td>\n",
       "      <td>0.579180</td>\n",
       "      <td>0.590940</td>\n",
       "      <td>23.495000</td>\n",
       "      <td>23.889549</td>\n",
       "      <td>41.075833</td>\n",
       "      <td>25.740000</td>\n",
       "      <td>27.089804</td>\n",
       "      <td>29.547000</td>\n",
       "    </tr>\n",
       "    <tr>\n",
       "      <th>5</th>\n",
       "      <td>50000</td>\n",
       "      <td>1</td>\n",
       "      <td>2</td>\n",
       "      <td>1</td>\n",
       "      <td>57</td>\n",
       "      <td>-1</td>\n",
       "      <td>0</td>\n",
       "      <td>-1</td>\n",
       "      <td>0</td>\n",
       "      <td>0</td>\n",
       "      <td>...</td>\n",
       "      <td>0.716700</td>\n",
       "      <td>0.418800</td>\n",
       "      <td>0.382920</td>\n",
       "      <td>0.382620</td>\n",
       "      <td>4.308500</td>\n",
       "      <td>0.154576</td>\n",
       "      <td>3.583500</td>\n",
       "      <td>2.326667</td>\n",
       "      <td>27.788099</td>\n",
       "      <td>28.175258</td>\n",
       "    </tr>\n",
       "  </tbody>\n",
       "</table>\n",
       "<p>5 rows × 36 columns</p>\n",
       "</div>"
      ],
      "text/plain": [
       "    credit_limit  gender  EDUCATION  MARRIAGE  AGE  PAY_0  PAY_2  PAY_3  \\\n",
       "ID                                                                        \n",
       "1          20000       2          2         1   24      2      2     -1   \n",
       "2         120000       2          2         2   26     -1      2      0   \n",
       "3          90000       2          2         2   34      0      0      0   \n",
       "4          50000       2          2         1   37      0      0      0   \n",
       "5          50000       1          2         1   57     -1      0     -1   \n",
       "\n",
       "    PAY_4  PAY_5      ...       leverage_3  leverage_4  leverage_5  \\\n",
       "ID                    ...                                            \n",
       "1      -1     -2      ...         0.034450    0.000000    0.000000   \n",
       "2       0      0      ...         0.022350    0.027267    0.028792   \n",
       "3       0      0      ...         0.150656    0.159233    0.166089   \n",
       "4       0      0      ...         0.985820    0.566280    0.579180   \n",
       "5       0      0      ...         0.716700    0.418800    0.382920   \n",
       "\n",
       "    leverage_6   bill_to_pay1  bill_to_pay2   bill_to_pay3  bill_to_pay4  \\\n",
       "ID                                                                         \n",
       "1     0.000000  319999.000000      4.502177  319999.000000      0.000000   \n",
       "2     0.027175  319999.000000      1.725000       2.682000      3.272000   \n",
       "3     0.172767      19.261528      9.351333      13.559000     14.331000   \n",
       "4     0.590940      23.495000     23.889549      41.075833     25.740000   \n",
       "5     0.382620       4.308500      0.154576       3.583500      2.326667   \n",
       "\n",
       "     bill_to_pay5  bill_to_pay6  \n",
       "ID                               \n",
       "1        0.000000      0.000000  \n",
       "2   319999.000000      1.630500  \n",
       "3       14.948000      3.109800  \n",
       "4       27.089804     29.547000  \n",
       "5       27.788099     28.175258  \n",
       "\n",
       "[5 rows x 36 columns]"
      ]
     },
     "execution_count": 11,
     "metadata": {},
     "output_type": "execute_result"
    }
   ],
   "source": [
    "print(accts_nf.shape)\n",
    "accts_nf.head(5)"
   ]
  },
  {
   "cell_type": "code",
   "execution_count": 14,
   "metadata": {},
   "outputs": [],
   "source": [
    "X_train_nf = pd.read_csv('../assets/X_train_split_nf.csv', index_col='ID')\n",
    "X_test_nf = pd.read_csv('../assets/X_test_split_nf.csv', index_col='ID')\n",
    "\n",
    "X_train_sc_nf = genfromtxt('../assets/X_train_scaled_nf.csv', delimiter=',')\n",
    "X_test_sc_nf = genfromtxt('../assets/X_test_scaled_nf.csv', delimiter=',')\n",
    "\n",
    "X_train_sc = genfromtxt('../assets/X_train_scaled.csv', delimiter=',')\n",
    "X_test_sc = genfromtxt('../assets/X_test_scaled.csv', delimiter=',')"
   ]
  },
  {
   "cell_type": "code",
   "execution_count": 16,
   "metadata": {},
   "outputs": [],
   "source": [
    "y_train = pd.read_csv('../assets/y_train_split.csv', index_col=0, header=None)\n",
    "y_test = pd.read_csv('../assets/y_test_split.csv', index_col=0, header=None)"
   ]
  },
  {
   "cell_type": "markdown",
   "metadata": {},
   "source": [
    "### I first imagined this notebook to support the previous notebook where I got an initial working model under my belt.  I considered applying some gradient descent and back-propagation technique, on top of building Grid-tuning for my Keras model and starting a TensorFlow model, but I learned from some reading from our local instruction Team (Douglas and Tim) that gradient-descent and back-propagation are already integrated into the loss-learning and optimizer components of our neural-network packages.\n",
    "\n",
    "## C. GridSearchCV:"
   ]
  },
  {
   "cell_type": "code",
   "execution_count": 20,
   "metadata": {},
   "outputs": [
    {
     "name": "stdout",
     "output_type": "stream",
     "text": [
      "0.819516752586077\n"
     ]
    },
    {
     "data": {
      "text/plain": [
       "{'nn__batch_size': 150, 'nn__epochs': 20, 'nn__layer_one_dropout': 0.5}"
      ]
     },
     "execution_count": 20,
     "metadata": {},
     "output_type": "execute_result"
    }
   ],
   "source": [
    "def model_func(layer_one_neurons=35, layer_one_dropout=.5):\n",
    "    model = Sequential()\n",
    "    model.add(Dense(layer_one_neurons, activation='relu', input_dim=35))\n",
    "    model.add(Dense(layer_one_neurons, activation='relu', input_dim=35))\n",
    "    model.add(Dropout(layer_one_dropout))\n",
    "    model.add(Dense(1, activation='sigmoid'))\n",
    "\n",
    "    model.compile(loss='logcosh', optimizer='adam', metrics=['accuracy'])\n",
    "    return model\n",
    "\n",
    "nn = KerasClassifier(build_fn=model_func, verbose=0)\n",
    "ss = StandardScaler()\n",
    "\n",
    "\n",
    "pipe = Pipeline([\n",
    "    ('ss', ss),\n",
    "    ('nn', nn)\n",
    "])\n",
    "\n",
    "params = {\n",
    "    'nn__epochs':[5, 10, 15, 20],\n",
    "    'nn__batch_size':[35,150,300],\n",
    "    'nn__layer_one_dropout': [.5,.6]\n",
    "}\n",
    "gs = GridSearchCV(pipe, param_grid=params)\n",
    "gs.fit(X_train_nf, y_train)\n",
    "print(gs.best_score_)\n",
    "gs.best_params_"
   ]
  },
  {
   "cell_type": "code",
   "execution_count": 21,
   "metadata": {},
   "outputs": [
    {
     "data": {
      "text/plain": [
       "0.818206088322086"
      ]
     },
     "execution_count": 21,
     "metadata": {},
     "output_type": "execute_result"
    }
   ],
   "source": [
    "gs.score(X_test_nf, y_test)"
   ]
  },
  {
   "cell_type": "markdown",
   "metadata": {},
   "source": [
    "### We see that the extended dataset with 12 additional features introduced some slight overfitting.  This was expected and consistent with my Keras testing in Notebook-4.  These best_params_ are very close to where I chose values for manual testing."
   ]
  },
  {
   "cell_type": "markdown",
   "metadata": {},
   "source": [
    "## E. Neural-network model using TensorFlow:"
   ]
  },
  {
   "cell_type": "code",
   "execution_count": 22,
   "metadata": {},
   "outputs": [],
   "source": [
    "y_train = y_train.values.reshape(-1, 1)\n",
    "y_test = y_test.values.reshape(-1, 1)"
   ]
  },
  {
   "cell_type": "code",
   "execution_count": 17,
   "metadata": {},
   "outputs": [
    {
     "data": {
      "text/plain": [
       "array([[0],\n",
       "       [1],\n",
       "       [0],\n",
       "       ...,\n",
       "       [1],\n",
       "       [1],\n",
       "       [0]])"
      ]
     },
     "execution_count": 17,
     "metadata": {},
     "output_type": "execute_result"
    }
   ],
   "source": [
    "y_train.values.reshape(-1,1)"
   ]
  },
  {
   "cell_type": "code",
   "execution_count": 40,
   "metadata": {},
   "outputs": [],
   "source": [
    "tf.reset_default_graph()\n",
    "\n",
    "X = tf.placeholder(dtype=tf.float32, shape=(None,35))\n",
    "y = tf.placeholder(dtype=tf.float32, shape=(None,1))\n",
    "\n",
    "h1 = tf.layers.dense(X, 35, activation=tf.nn.relu)\n",
    "# h2 = tf.layers.dense(h1, 35, activation=tf.nn.relu)  # Second hidden layer excluded.\n",
    "# h3 = tf.layers.dense(h2, 35, activation=tf.nn.relu)  # Third hidden layer excluded\n",
    "y_hat = tf.layers.dense(h1, 1, activation=tf.nn.sigmoid)\n",
    "\n",
    "loss = tf.losses.sigmoid_cross_entropy(y,y_hat)\n",
    "optimizer = tf.train.AdamOptimizer(.01)\n",
    "training_op = optimizer.minimize(loss)"
   ]
  },
  {
   "cell_type": "markdown",
   "metadata": {},
   "source": [
    "### The model results were worse for a second or third hidden layers."
   ]
  },
  {
   "cell_type": "code",
   "execution_count": 24,
   "metadata": {},
   "outputs": [],
   "source": [
    "init = tf.global_variables_initializer()\n",
    "\n",
    "train_losses = []\n",
    "test_losses = []\n",
    "\n",
    "with tf.Session() as sess:\n",
    "    sess.run(init)\n",
    "    \n",
    "    for epoch in range(100):\n",
    "        sess.run(training_op, feed_dict={X: X_train_sc_nf, y: y_train})\n",
    "        trl = sess.run(loss,feed_dict = {X:X_train_sc_nf,y:y_train})\n",
    "        tsl = sess.run(loss,feed_dict = {X:X_test_sc_nf,y:y_test})\n",
    "        \n",
    "        train_losses.append(trl)\n",
    "        test_losses.append(tsl)\n",
    "    pred = sess.run(y_hat, feed_dict={X:X_test_sc_nf})"
   ]
  },
  {
   "cell_type": "markdown",
   "metadata": {},
   "source": [
    "### There is an alternative to using 'feed-dict' involving a built-in API named 'Dataset.' (https://towardsdatascience.com/how-to-use-dataset-in-tensorflow-c758ef9e4428)\n",
    "\n",
    "#### (Note: I added this research here planning to revisit it's use at some point.)"
   ]
  },
  {
   "cell_type": "code",
   "execution_count": 25,
   "metadata": {},
   "outputs": [],
   "source": [
    "predicted_classes = (pred > .10).astype(int)   # threshold set at 0.1"
   ]
  },
  {
   "cell_type": "code",
   "execution_count": 41,
   "metadata": {},
   "outputs": [
    {
     "name": "stdout",
     "output_type": "stream",
     "text": [
      "471.81113\n"
     ]
    },
    {
     "data": {
      "text/plain": [
       "array([[2.9964605e-04],\n",
       "       [6.6589351e-08],\n",
       "       [3.9385448e-04],\n",
       "       ...,\n",
       "       [5.4418524e-06],\n",
       "       [6.2892737e-05],\n",
       "       [2.1916903e-05]], dtype=float32)"
      ]
     },
     "execution_count": 41,
     "metadata": {},
     "output_type": "execute_result"
    }
   ],
   "source": [
    "print(np.sum(pred))\n",
    "pred                # ...is an array of continuous probabilities"
   ]
  },
  {
   "cell_type": "code",
   "execution_count": 35,
   "metadata": {},
   "outputs": [
    {
     "data": {
      "text/plain": [
       "array([[0],\n",
       "       [0],\n",
       "       [0],\n",
       "       ...,\n",
       "       [0],\n",
       "       [0],\n",
       "       [0]])"
      ]
     },
     "execution_count": 35,
     "metadata": {},
     "output_type": "execute_result"
    }
   ],
   "source": [
    "np.max(predicted_classes)\n",
    "predicted_classes   # ...is an array of integers."
   ]
  },
  {
   "cell_type": "code",
   "execution_count": 28,
   "metadata": {},
   "outputs": [
    {
     "data": {
      "text/plain": [
       "0.8126001067805659"
      ]
     },
     "execution_count": 28,
     "metadata": {},
     "output_type": "execute_result"
    }
   ],
   "source": [
    "metrics.accuracy_score(y_test,predicted_classes)"
   ]
  },
  {
   "cell_type": "code",
   "execution_count": 29,
   "metadata": {},
   "outputs": [
    {
     "data": {
      "text/plain": [
       "array([[5571,  263],\n",
       "       [1141,  517]])"
      ]
     },
     "execution_count": 29,
     "metadata": {},
     "output_type": "execute_result"
    }
   ],
   "source": [
    "metrics.confusion_matrix(y_test, predicted_classes)"
   ]
  },
  {
   "cell_type": "markdown",
   "metadata": {},
   "source": [
    "### The True-Positive Rate (TPR) for this model is ..."
   ]
  },
  {
   "cell_type": "code",
   "execution_count": 36,
   "metadata": {},
   "outputs": [
    {
     "data": {
      "text/plain": [
       "0.3395657418576598"
      ]
     },
     "execution_count": 36,
     "metadata": {},
     "output_type": "execute_result"
    }
   ],
   "source": [
    "# 517 / (517+1141)\n",
    "563 / (563+1095)"
   ]
  },
  {
   "cell_type": "markdown",
   "metadata": {},
   "source": [
    "### ... 31.2% for the discrete classification.  This improves to 34% based on the probabilities."
   ]
  },
  {
   "cell_type": "code",
   "execution_count": 32,
   "metadata": {},
   "outputs": [
    {
     "data": {
      "text/plain": [
       "780"
      ]
     },
     "execution_count": 32,
     "metadata": {},
     "output_type": "execute_result"
    }
   ],
   "source": [
    "np.sum(predicted_classes)"
   ]
  },
  {
   "cell_type": "code",
   "execution_count": 33,
   "metadata": {},
   "outputs": [
    {
     "name": "stdout",
     "output_type": "stream",
     "text": [
      "['TN', 'FP']\n",
      "['FN', 'TP']\n",
      "\n",
      "[[0.76294714 0.01575013]\n",
      " [0.17685531 0.04444741]]\n"
     ]
    }
   ],
   "source": [
    "C = confusion_matrix(y_test, [np.around(y) for y in pred])\n",
    "\n",
    "print([\"TN\", \"FP\"])\n",
    "print([\"FN\", \"TP\"])\n",
    "print()\n",
    "print(C / C.astype(np.float).sum())"
   ]
  },
  {
   "cell_type": "code",
   "execution_count": 34,
   "metadata": {},
   "outputs": [],
   "source": [
    "tn, fp, fn, tp = confusion_matrix(y_test, [np.around(y) for y in predicted_classes]).ravel()\n",
    "df_cm1 = pd.DataFrame(confusion_matrix(y_test, \n",
    "                                       [np.around(y) for y in predicted_classes]), \n",
    "                      columns=[\"\",\"Actual Oct-Default\"])"
   ]
  },
  {
   "cell_type": "code",
   "execution_count": 172,
   "metadata": {},
   "outputs": [
    {
     "data": {
      "text/plain": [
       "<matplotlib.axes._subplots.AxesSubplot at 0x1a2a6996d8>"
      ]
     },
     "execution_count": 172,
     "metadata": {},
     "output_type": "execute_result"
    },
    {
     "data": {
      "image/png": "[encoded data removed]",
      "text/plain": [
       "<Figure size 216x216 with 1 Axes>"
      ]
     },
     "metadata": {},
     "output_type": "display_data"
    }
   ],
   "source": [
    "fig, ax = plt.subplots(figsize=(3,3))\n",
    "title= \"Confusion Matrix - Keras-NN (Score=.82)\"\n",
    "plt.title(title, fontsize=18)\n",
    "sns.heatmap(df_cm1, \n",
    "            annot=True, \n",
    "            annot_kws={\"size\": 30}, \n",
    "            linewidths=.5, \n",
    "            fmt=\"g\", \n",
    "            cmap=\"BuGn\", \n",
    "            cbar=False,\n",
    "            xticklabels=False,\n",
    "            yticklabels=False)"
   ]
  },
  {
   "cell_type": "code",
   "execution_count": 37,
   "metadata": {},
   "outputs": [
    {
     "data": {
      "text/plain": [
       "<matplotlib.legend.Legend at 0x1a2cf88ef0>"
      ]
     },
     "execution_count": 37,
     "metadata": {},
     "output_type": "execute_result"
    },
    {
     "data": {
      "image/png": "[encoded data removed]",
      "text/plain": [
       "<Figure size 432x288 with 1 Axes>"
      ]
     },
     "metadata": {},
     "output_type": "display_data"
    }
   ],
   "source": [
    "N = 2\n",
    "pred_right = (tn, tp)\n",
    "pred_wrong = (fp, fn)\n",
    "ind = np.arange(N)    # the x locations for the groups\n",
    "width = 0.35       # the width of the bars: can also be len(x) sequence\n",
    "\n",
    "p1 = plt.bar(ind, pred_right, width, color='g')\n",
    "p2 = plt.bar(ind, pred_wrong, width, color='y',\n",
    "             bottom=pred_right)\n",
    "\n",
    "plt.title('TensorFlow-NN Classification Test-counts')\n",
    "plt.xticks(ind, ('Non-Default', 'Oct-Default'))\n",
    "plt.yticks(np.arange(0, 6000, 500))\n",
    "plt.legend((p2[0], p1[0]), ('Predicted-incorrect', 'Predicted-correct'))"
   ]
  },
  {
   "cell_type": "markdown",
   "metadata": {},
   "source": [
    "### Let's plot the loss history."
   ]
  },
  {
   "cell_type": "code",
   "execution_count": 38,
   "metadata": {},
   "outputs": [
    {
     "data": {
      "text/plain": [
       "<matplotlib.legend.Legend at 0x1a3d772eb8>"
      ]
     },
     "execution_count": 38,
     "metadata": {},
     "output_type": "execute_result"
    },
    {
     "data": {
      "image/png": "[encoded data removed]",
      "text/plain": [
       "<Figure size 432x288 with 1 Axes>"
      ]
     },
     "metadata": {},
     "output_type": "display_data"
    }
   ],
   "source": [
    "plt.plot(train_losses,label='train losses')\n",
    "plt.plot(test_losses,label='test losses')\n",
    "plt.legend()"
   ]
  },
  {
   "cell_type": "markdown",
   "metadata": {},
   "source": [
    "### Then, we can look at the Receiver-Operator Characteristic plot for the misclassification rate of the probailities."
   ]
  },
  {
   "cell_type": "code",
   "execution_count": 39,
   "metadata": {},
   "outputs": [
    {
     "data": {
      "image/png": "[encoded data removed]",
      "text/plain": [
       "<Figure size 432x288 with 1 Axes>"
      ]
     },
     "metadata": {},
     "output_type": "display_data"
    }
   ],
   "source": [
    "from sklearn.metrics import roc_curve, auc\n",
    "\n",
    "# Generate False positive rate and True positive rate\n",
    "# fpr, tpr, _ = roc_curve(y_test, predicted_classes)\n",
    "fpr, tpr, _ = roc_curve(y_test, pred)\n",
    "roc_auc = auc(fpr, tpr)\n",
    "# fpr\n",
    "\n",
    "# Plot \n",
    "plt.figure()\n",
    "line_width = 2\n",
    "\n",
    "plt.plot(fpr, tpr, lw = line_width, color=\"darkorange\", label = \"ROC Curve %.2f\" % roc_auc)\n",
    "plt.plot([0,1],[0,1], lw = line_width, linestyle = \"--\", color=\"navy\")\n",
    "\n",
    "plt.xlim([0.0, 1.0])\n",
    "plt.ylim([0.0, 1.05])\n",
    "plt.xlabel('False Positive Rate')\n",
    "plt.ylabel('True Positive Rate')\n",
    "plt.title('ROC Curve for TensorFlow-pred')\n",
    "plt.legend(loc=\"lower right\")\n",
    "plt.show()"
   ]
  },
  {
   "cell_type": "markdown",
   "metadata": {},
   "source": [
    "### The same plot for the discrete predictions from an adjusted threshold."
   ]
  },
  {
   "cell_type": "code",
   "execution_count": 177,
   "metadata": {},
   "outputs": [
    {
     "data": {
      "image/png": "[encoded data removed]",
      "text/plain": [
       "<Figure size 432x288 with 1 Axes>"
      ]
     },
     "metadata": {},
     "output_type": "display_data"
    }
   ],
   "source": [
    "fpr, tpr, _ = roc_curve(y_test, predicted_classes)\n",
    "roc_auc = auc(fpr, tpr)\n",
    "# fpr\n",
    "\n",
    "# Plot \n",
    "plt.figure()\n",
    "line_width = 2\n",
    "\n",
    "plt.plot(fpr, tpr, lw = line_width, color=\"darkgreen\", label = \"ROC Curve %.2f\" % roc_auc)\n",
    "plt.plot([0,1],[0,1], lw = line_width, linestyle = \"--\", color=\"navy\")\n",
    "\n",
    "plt.xlim([0.0, 1.0])\n",
    "plt.ylim([0.0, 1.05])\n",
    "plt.xlabel('False Positive Rate')\n",
    "plt.ylabel('True Positive Rate')\n",
    "plt.title('ROC Curve for TensorFlow-predicted_classes, threshold=0.1')\n",
    "plt.legend(loc=\"lower right\")\n",
    "plt.show()"
   ]
  },
  {
   "cell_type": "markdown",
   "metadata": {},
   "source": [
    "## Continue to Notebook-6: Other Classifiers\n",
    "\n",
    "### The tuning of the Keras model from Notebook-4 used GridSearch in the current notebook above.  A comparable Tensorflow version was built without a workable way to save it.  Based on a higher TPR score (0.353 to be confirmed in Notebook-7), the Keras model will be considered for the final evaluation.  As a result, saving the current Tensorflow model is not a necessity for the time being.\n",
    "\n",
    "### In the next notebook, we build three basic classifier models, including Logistic Regression, Naive-Bayes, and DecisionTreeClassifier.  The best two of those models will be saved and considered for final evaluation in the last notebook in this kernel."
   ]
  }
 ],
 "metadata": {
  "kernelspec": {
   "display_name": "Python 3",
   "language": "python",
   "name": "python3"
  },
  "language_info": {
   "codemirror_mode": {
    "name": "ipython",
    "version": 3
   },
   "file_extension": ".py",
   "mimetype": "text/x-python",
   "name": "python",
   "nbconvert_exporter": "python",
   "pygments_lexer": "ipython3",
   "version": "3.6.5"
  }
 },
 "nbformat": 4,
 "nbformat_minor": 2
}
