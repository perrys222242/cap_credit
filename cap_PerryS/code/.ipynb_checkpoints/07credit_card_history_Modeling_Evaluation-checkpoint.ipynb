{
 "cells": [
  {
   "cell_type": "markdown",
   "metadata": {},
   "source": [
    "# Credit-card Default Risk\n",
    "#### by Perry Shyr\n",
    "___\n",
    "## _7-of-7. Model Evaluation for Deployment in Production_\n",
    "![](../images/cards.png)"
   ]
  },
  {
   "cell_type": "markdown",
   "metadata": {},
   "source": [
    "## Problem Statement\n",
    "\n",
    "### Credit-card lenders need help in detecting default-risk anomalies.   Customer demographic and borrowing history is studied and modeled to identify credit-card default risk.  The misclassifications must be carefully considered when making decisions affecting both loss mitigation and customer retention.  This is a supervised binary-classification problem with customers who default as the positive class, and unbalanced classes.  The baseline model predicts slightly more than 22% with default risk.  models should ideally be optimized to reduce false-negatives in applicant screening and false-positives active loss mitigation.\n",
    "\n",
    "## Executive Summary\n",
    "\n",
    "### Financial losses from credit-card default are a big part of the cost of doing business as a consumer lender.  However, decisions based on identifying default risk must be made delicately to balance customer-retention interests.  A canonical dataset for credit-card borrowing history was used to train several predictive models for default risk.  Combining an easily-interpretable model with neural-network-based ones can lead to a robust solution for minimizing misclassifications.  A ‘logcosh’ loss-function was found to be effective for minimizing False-negative misclassifications while a ‘mean-squared-logarithmic-error’ loss function works to minimize False-positive misclassifications.  The former ‘logcosh’ model is also good at finding True-positives.  The logistic-regression model can find the strongest feature predictors which can be re-fed into the neural-network models to produce a better result.\n"
   ]
  },
  {
   "cell_type": "markdown",
   "metadata": {},
   "source": [
    "## A. Code Libraries Used"
   ]
  },
  {
   "cell_type": "code",
   "execution_count": 2,
   "metadata": {},
   "outputs": [],
   "source": [
    "import numpy as np\n",
    "import pandas as pd\n",
    "import matplotlib.pyplot as plt\n",
    "import seaborn as sns\n",
    "from numpy import genfromtxt\n",
    "import pickle\n",
    "\n",
    "from sklearn.metrics import confusion_matrix\n",
    "\n",
    "%matplotlib inline"
   ]
  },
  {
   "cell_type": "markdown",
   "metadata": {},
   "source": [
    "## B. Import Split/Scaled data and Earlier Models "
   ]
  },
  {
   "cell_type": "code",
   "execution_count": 5,
   "metadata": {},
   "outputs": [
    {
     "name": "stderr",
     "output_type": "stream",
     "text": [
      "/Users/perry/anaconda3/lib/python3.6/site-packages/h5py/__init__.py:36: FutureWarning: Conversion of the second argument of issubdtype from `float` to `np.floating` is deprecated. In future, it will be treated as `np.float64 == np.dtype(float).type`.\n",
      "  from ._conv import register_converters as _register_converters\n",
      "Using TensorFlow backend.\n"
     ]
    }
   ],
   "source": [
    "from keras.models import load_model\n",
    "keras_model = load_model('../assets/model_keras.h5')"
   ]
  },
  {
   "cell_type": "code",
   "execution_count": 3,
   "metadata": {},
   "outputs": [],
   "source": [
    "X_train_nf = pd.read_csv('../assets/X_train_split_nf.csv', index_col='ID')\n",
    "X_test_nf = pd.read_csv('../assets/X_test_split_nf.csv', index_col='ID')\n",
    "\n",
    "X_train_sc_nf = genfromtxt('../assets/X_train_scaled_nf.csv', delimiter=',')\n",
    "X_test_sc_nf = genfromtxt('../assets/X_test_scaled_nf.csv', delimiter=',')\n",
    "\n",
    "X_train_sc = genfromtxt('../assets/X_train_scaled.csv', delimiter=',')\n",
    "X_test_sc = genfromtxt('../assets/X_test_scaled.csv', delimiter=',')"
   ]
  },
  {
   "cell_type": "code",
   "execution_count": 4,
   "metadata": {},
   "outputs": [],
   "source": [
    "y_train = pd.read_csv('../assets/y_train_split.csv', index_col=0, header=None)\n",
    "y_test = pd.read_csv('../assets/y_test_split.csv', index_col=0, header=None)"
   ]
  },
  {
   "cell_type": "code",
   "execution_count": 5,
   "metadata": {},
   "outputs": [],
   "source": [
    "with open('../pickles/logreg_model.pkl', 'rb') as f:       #  Logistic Regression.\n",
    "    logreg = pickle.load(f)"
   ]
  },
  {
   "cell_type": "code",
   "execution_count": 9,
   "metadata": {},
   "outputs": [],
   "source": [
    "with open('../pickles/cart_model.pkl', 'rb') as f:         #  Decision-Tree Classifier.\n",
    "    model_cart = pickle.load(f)"
   ]
  },
  {
   "cell_type": "markdown",
   "metadata": {},
   "source": [
    "## C. Model Comparison by Misclassification Metrics\n",
    "\n",
    "### (i) Neural Networks using Keras front-end"
   ]
  },
  {
   "cell_type": "code",
   "execution_count": 10,
   "metadata": {},
   "outputs": [
    {
     "data": {
      "text/plain": [
       "array([[0.07609029],\n",
       "       [0.10932643],\n",
       "       [0.0774623 ],\n",
       "       ...,\n",
       "       [0.05350976],\n",
       "       [0.08976264],\n",
       "       [0.0775344 ]], dtype=float32)"
      ]
     },
     "execution_count": 10,
     "metadata": {},
     "output_type": "execute_result"
    }
   ],
   "source": [
    "prediction=keras_model.predict(np.array(X_test_sc_nf))\n",
    "prediction"
   ]
  },
  {
   "cell_type": "code",
   "execution_count": 11,
   "metadata": {},
   "outputs": [
    {
     "data": {
      "text/plain": [
       "array([[0.07609029],\n",
       "       [0.10932643],\n",
       "       [0.0774623 ],\n",
       "       ...,\n",
       "       [0.05350976],\n",
       "       [0.08976264],\n",
       "       [0.0775344 ]], dtype=float32)"
      ]
     },
     "execution_count": 11,
     "metadata": {},
     "output_type": "execute_result"
    }
   ],
   "source": [
    "probas=keras_model.predict_proba(np.array(X_test_sc_nf))\n",
    "probas"
   ]
  },
  {
   "cell_type": "markdown",
   "metadata": {},
   "source": [
    "### Let's adjust the classification threshold to 0.35 down from 0.5"
   ]
  },
  {
   "cell_type": "code",
   "execution_count": 12,
   "metadata": {},
   "outputs": [],
   "source": [
    "X_test_copy = X_test_nf.copy()\n",
    "X_test_copy['probas_y_hat']=probas\n",
    "X_test_copy['y'] = y_test\n",
    "# X_test_copy.loc[:,'pred_thr_35'] = X_test_copy['probas_y_hat'].map(lambda p: 1 if p > .35 else 0)\n",
    "X_test_copy.loc[:,'pred_thr_50'] = X_test_copy['probas_y_hat'].map(lambda p: 1 if p > .5 else 0)"
   ]
  },
  {
   "cell_type": "markdown",
   "metadata": {},
   "source": [
    "### Let's plot the effect of this adjustment"
   ]
  },
  {
   "cell_type": "code",
   "execution_count": 13,
   "metadata": {},
   "outputs": [
    {
     "data": {
      "image/png": "[encoded data removed]",
      "text/plain": [
       "<Figure size 432x288 with 1 Axes>"
      ]
     },
     "metadata": {},
     "output_type": "display_data"
    }
   ],
   "source": [
    "from sklearn.metrics import roc_curve, auc\n",
    "\n",
    "# Generate False positive rate and True positive rate\n",
    "fpr, tpr, _ = roc_curve(y_test, X_test_copy['pred_thr_50'])  # Use this if threshold is .5\n",
    "# fpr, tpr, _ = roc_curve(y_test, X_test_copy['pred_thr_35'])\n",
    "roc_auc = auc(fpr, tpr)\n",
    "# fpr\n",
    "\n",
    "# Plot \n",
    "plt.figure()\n",
    "line_width = 2\n",
    "\n",
    "plt.plot(fpr, tpr, lw = line_width, color=\"darkorange\", label = \"ROC Curve %.2f\" % roc_auc)\n",
    "plt.plot([0,1],[0,1], lw = line_width, linestyle = \"--\", color=\"navy\")\n",
    "\n",
    "plt.xlim([0.0, 1.0])\n",
    "plt.ylim([0.0, 1.05])\n",
    "plt.xlabel('False Positive Rate')\n",
    "plt.ylabel('True Positive Rate')\n",
    "plt.title('ROC')\n",
    "plt.legend(loc=\"lower right\")\n",
    "plt.show()"
   ]
  },
  {
   "cell_type": "markdown",
   "metadata": {},
   "source": [
    "### Let's look at the missclassifications that we are most keenly interested in."
   ]
  },
  {
   "cell_type": "code",
   "execution_count": 14,
   "metadata": {},
   "outputs": [],
   "source": [
    "tn, fp, fn, tp = confusion_matrix(y_test, X_test_copy['pred_thr_50']).ravel()\n",
    "df_cm1 = pd.DataFrame(confusion_matrix(y_test, \n",
    "                                       X_test_copy['pred_thr_50']), \n",
    "                      columns=[\"\",\"Actual Oct-Default\"])\n",
    "\n",
    "# tn, fp, fn, tp = confusion_matrix(y_test, X_test_copy['pred_thr_35']).ravel()\n",
    "# df_cm1 = pd.DataFrame(confusion_matrix(y_test, \n",
    "#                                        X_test_copy['pred_thr_35']), \n",
    "#                       columns=[\"\",\"Actual Oct-Default\"])"
   ]
  },
  {
   "cell_type": "code",
   "execution_count": 15,
   "metadata": {},
   "outputs": [
    {
     "data": {
      "text/plain": [
       "<matplotlib.axes._subplots.AxesSubplot at 0x11010ecc0>"
      ]
     },
     "execution_count": 15,
     "metadata": {},
     "output_type": "execute_result"
    },
    {
     "data": {
      "image/png": "[encoded data removed]",
      "text/plain": [
       "<Figure size 216x216 with 1 Axes>"
      ]
     },
     "metadata": {},
     "output_type": "display_data"
    }
   ],
   "source": [
    "fig, ax = plt.subplots(figsize=(3,3))\n",
    "title= \"Confusion Matrix - Keras-NN (Score=.82)\"\n",
    "plt.title(title, fontsize=18)\n",
    "sns.heatmap(df_cm1, \n",
    "            annot=True, \n",
    "            annot_kws={\"size\": 30}, \n",
    "            linewidths=.5, \n",
    "            fmt=\"g\", \n",
    "            cmap=\"BuGn\", \n",
    "            cbar=False,\n",
    "            xticklabels=False,\n",
    "            yticklabels=False)"
   ]
  },
  {
   "cell_type": "markdown",
   "metadata": {},
   "source": [
    "### The True-Positive Rate (TPR) for a screen-threshold of 0.35 is..."
   ]
  },
  {
   "cell_type": "code",
   "execution_count": 16,
   "metadata": {},
   "outputs": [
    {
     "data": {
      "text/plain": [
       "0.4746682750301568"
      ]
     },
     "execution_count": 16,
     "metadata": {},
     "output_type": "execute_result"
    }
   ],
   "source": [
    "787 / (787+871)"
   ]
  },
  {
   "cell_type": "markdown",
   "metadata": {},
   "source": [
    "### ...47.5%."
   ]
  },
  {
   "cell_type": "markdown",
   "metadata": {},
   "source": [
    "### The True-Positive Rate (TPR) for a diagnostic-threshold of 0.5 is...¶"
   ]
  },
  {
   "cell_type": "code",
   "execution_count": 17,
   "metadata": {},
   "outputs": [
    {
     "data": {
      "text/plain": [
       "0.35705669481302776"
      ]
     },
     "execution_count": 17,
     "metadata": {},
     "output_type": "execute_result"
    }
   ],
   "source": [
    "592 / (592+1066)"
   ]
  },
  {
   "cell_type": "markdown",
   "metadata": {},
   "source": [
    "### ...35.7%."
   ]
  },
  {
   "cell_type": "code",
   "execution_count": 18,
   "metadata": {},
   "outputs": [
    {
     "data": {
      "text/plain": [
       "<matplotlib.legend.Legend at 0x1101ac7b8>"
      ]
     },
     "execution_count": 18,
     "metadata": {},
     "output_type": "execute_result"
    },
    {
     "data": {
      "image/png": "[encoded data removed]",
      "text/plain": [
       "<Figure size 432x288 with 1 Axes>"
      ]
     },
     "metadata": {},
     "output_type": "display_data"
    }
   ],
   "source": [
    "N = 2\n",
    "pred_right = (tn, tp)\n",
    "pred_wrong = (fp, fn)\n",
    "ind = np.arange(N)    # the x locations for the groups\n",
    "width = 0.35       # the width of the bars: can also be len(x) sequence\n",
    "\n",
    "p1 = plt.bar(ind, pred_right, width, color='g')\n",
    "p2 = plt.bar(ind, pred_wrong, width, color='y',\n",
    "             bottom=pred_right)\n",
    "\n",
    "plt.title('Keras-NN Classification Test-counts')\n",
    "plt.xticks(ind, ('Non-Default', 'Oct-Default'))\n",
    "plt.yticks(np.arange(0, 6000, 500))\n",
    "plt.legend((p2[0], p1[0]), ('Predicted-incorrect', 'Predicted-correct'))"
   ]
  },
  {
   "cell_type": "markdown",
   "metadata": {},
   "source": [
    "### (ii) Logistic Regressor Modeling:"
   ]
  },
  {
   "cell_type": "code",
   "execution_count": 6,
   "metadata": {},
   "outputs": [],
   "source": [
    "predictions_logreg = logreg.predict(X_test_sc_nf)"
   ]
  },
  {
   "cell_type": "code",
   "execution_count": 7,
   "metadata": {},
   "outputs": [],
   "source": [
    "tn, fp, fn, tp = confusion_matrix(y_test, predictions_logreg).ravel()"
   ]
  },
  {
   "cell_type": "code",
   "execution_count": 8,
   "metadata": {},
   "outputs": [],
   "source": [
    "lr_cm1 = pd.DataFrame(confusion_matrix(y_test, predictions_logreg), \n",
    "                      columns=[\"\",\"True Oct-Default\"])"
   ]
  },
  {
   "cell_type": "code",
   "execution_count": 10,
   "metadata": {},
   "outputs": [
    {
     "data": {
      "text/plain": [
       "<matplotlib.axes._subplots.AxesSubplot at 0x1a120d4550>"
      ]
     },
     "execution_count": 10,
     "metadata": {},
     "output_type": "execute_result"
    },
    {
     "data": {
      "image/png": "[encoded data removed]",
      "text/plain": [
       "<Figure size 216x216 with 1 Axes>"
      ]
     },
     "metadata": {},
     "output_type": "display_data"
    }
   ],
   "source": [
    "fig, ax = plt.subplots(figsize=(3,3))\n",
    "title= \"Confusion Matrix - LogReg (Score=.75)\"\n",
    "plt.title(title, fontsize=18)\n",
    "sns.heatmap(lr_cm1, \n",
    "            annot=True, \n",
    "            annot_kws={\"size\": 30}, \n",
    "            linewidths=.5, \n",
    "            fmt=\"g\", \n",
    "            cmap=\"YlGnBu\", \n",
    "            cbar=False,\n",
    "            xticklabels=False,\n",
    "            yticklabels=False)"
   ]
  },
  {
   "cell_type": "code",
   "execution_count": 11,
   "metadata": {},
   "outputs": [
    {
     "data": {
      "text/plain": [
       "<matplotlib.legend.Legend at 0x1a174c5da0>"
      ]
     },
     "execution_count": 11,
     "metadata": {},
     "output_type": "execute_result"
    },
    {
     "data": {
      "image/png": "[encoded data removed]",
      "text/plain": [
       "<Figure size 432x288 with 1 Axes>"
      ]
     },
     "metadata": {},
     "output_type": "display_data"
    }
   ],
   "source": [
    "N = 2\n",
    "pred_right = (tn, tp)\n",
    "pred_wrong = (fp, fn)\n",
    "ind = np.arange(N)    \n",
    "width = 0.35       \n",
    "\n",
    "p1 = plt.bar(ind, pred_right, width)\n",
    "p2 = plt.bar(ind, pred_wrong, width, color='c',\n",
    "             bottom=pred_right)\n",
    "\n",
    "plt.title('Log-Reg Classification Test-counts')\n",
    "plt.xticks(ind, ('Non-Default', 'Oct-Default'))\n",
    "plt.yticks(np.arange(0, 4500, 500))\n",
    "plt.legend((p2[0], p1[0]), ('Predicted-incorrect', 'Predicted-correct'))"
   ]
  },
  {
   "cell_type": "code",
   "execution_count": 12,
   "metadata": {},
   "outputs": [],
   "source": [
    "importances = pd.DataFrame(\n",
    "    {'features': X_train_nf.columns.values.tolist(),\n",
    "     'coefs': logreg.coef_.tolist()[0]\n",
    "    })"
   ]
  },
  {
   "cell_type": "markdown",
   "metadata": {},
   "source": [
    "### Let's list the feature importances in order."
   ]
  },
  {
   "cell_type": "code",
   "execution_count": 14,
   "metadata": {},
   "outputs": [],
   "source": [
    "importances = importances.reset_index()"
   ]
  },
  {
   "cell_type": "code",
   "execution_count": 17,
   "metadata": {},
   "outputs": [],
   "source": [
    "importances = importances.drop('index',axis=1)"
   ]
  },
  {
   "cell_type": "code",
   "execution_count": 19,
   "metadata": {},
   "outputs": [],
   "source": [
    "importances = importances.set_index('features')"
   ]
  },
  {
   "cell_type": "code",
   "execution_count": 37,
   "metadata": {},
   "outputs": [
    {
     "data": {
      "text/plain": [
       "Text(0, 0.5, 'Feature Groups')"
      ]
     },
     "execution_count": 37,
     "metadata": {},
     "output_type": "execute_result"
    },
    {
     "data": {
      "image/png": "[encoded data removed]",
      "text/plain": [
       "<Figure size 432x288 with 1 Axes>"
      ]
     },
     "metadata": {},
     "output_type": "display_data"
    }
   ],
   "source": [
    "top_10 = importances.sort_values('coefs',ascending=False).head(10)\n",
    "top_10 = top_10.sort_values('coefs',ascending=True)\n",
    "bot_10 = importances.sort_values('coefs',ascending=True).head(10)\n",
    "bot_10 = bot_10.sort_values('coefs',ascending=False)\n",
    "top_10.plot(kind='barh', title='Logistic-Regression Feature Importances')\n",
    "plt.xlabel('Feature Weights')\n",
    "plt.ylabel('Feature Groups')"
   ]
  },
  {
   "cell_type": "code",
   "execution_count": 38,
   "metadata": {},
   "outputs": [
    {
     "data": {
      "text/plain": [
       "Text(0, 0.5, 'Feature Groups')"
      ]
     },
     "execution_count": 38,
     "metadata": {},
     "output_type": "execute_result"
    },
    {
     "data": {
      "image/png": "[encoded data removed]",
      "text/plain": [
       "<Figure size 432x288 with 1 Axes>"
      ]
     },
     "metadata": {},
     "output_type": "display_data"
    }
   ],
   "source": [
    "bot_10.plot(kind='barh', title='Logistic-Regression Feature Importances')\n",
    "plt.xlabel('Feature Weights')\n",
    "plt.ylabel('Feature Groups')"
   ]
  },
  {
   "cell_type": "markdown",
   "metadata": {},
   "source": [
    "# Thank you."
   ]
  }
 ],
 "metadata": {
  "kernelspec": {
   "display_name": "Python 3",
   "language": "python",
   "name": "python3"
  },
  "language_info": {
   "codemirror_mode": {
    "name": "ipython",
    "version": 3
   },
   "file_extension": ".py",
   "mimetype": "text/x-python",
   "name": "python",
   "nbconvert_exporter": "python",
   "pygments_lexer": "ipython3",
   "version": "3.6.5"
  }
 },
 "nbformat": 4,
 "nbformat_minor": 2
}
