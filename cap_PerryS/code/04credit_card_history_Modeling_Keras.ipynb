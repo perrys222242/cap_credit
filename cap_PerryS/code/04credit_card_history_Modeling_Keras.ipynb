{
 "cells": [
  {
   "cell_type": "markdown",
   "metadata": {},
   "source": [
    "# Credit-Card Default Risk\n",
    "#### by Perry Shyr\n",
    "## _4-of-7. Modeling with Keras_\n",
    "![](../images/cards.png)"
   ]
  },
  {
   "cell_type": "markdown",
   "metadata": {},
   "source": [
    "## Problem Statement\n",
    "\n",
    "### Credit-card lenders absorb significant losses from consumer defaults.  This capstone revolves around the detection of anomalies in customer demographic and borrowing history to identify credit-card default risk.  It is a binary classification problem with customers who default as the positive class, and unbalanced classes.  For supervised modeling, lenders are probably interested in not just the True-Positive (TP) rate, but also in the False-Negative (FN) and False-Positve (FP) rates. The best Estimator should minimize for both FN's and FP's while generalizing for TP's.\n",
    "\n",
    "## Executive Summary\n",
    "\n",
    "### Neural networks have been found to be the best estimators in the literature."
   ]
  },
  {
   "cell_type": "markdown",
   "metadata": {},
   "source": [
    "## A. Code Libraries Used"
   ]
  },
  {
   "cell_type": "code",
   "execution_count": 1,
   "metadata": {},
   "outputs": [
    {
     "name": "stderr",
     "output_type": "stream",
     "text": [
      "/Users/perry/anaconda3/lib/python3.6/site-packages/h5py/__init__.py:36: FutureWarning: Conversion of the second argument of issubdtype from `float` to `np.floating` is deprecated. In future, it will be treated as `np.float64 == np.dtype(float).type`.\n",
      "  from ._conv import register_converters as _register_converters\n",
      "Using TensorFlow backend.\n"
     ]
    }
   ],
   "source": [
    "import numpy as np\n",
    "import pandas as pd\n",
    "import matplotlib.pyplot as plt\n",
    "import seaborn as sns\n",
    "\n",
    "from sklearn.preprocessing import StandardScaler\n",
    "from sklearn.model_selection import train_test_split\n",
    "\n",
    "from keras.models import Sequential\n",
    "from keras.layers import Dense, Dropout\n",
    "from keras import regularizers\n",
    "from sklearn.metrics import confusion_matrix\n",
    "\n",
    "%matplotlib inline"
   ]
  },
  {
   "cell_type": "markdown",
   "metadata": {},
   "source": [
    "## B. Load Data from Notebook-3\n",
    "\n",
    "### In the previous notebook of this kernel-series, we added six new features to the cleaned and validated dataset from the first notebook."
   ]
  },
  {
   "cell_type": "code",
   "execution_count": 350,
   "metadata": {},
   "outputs": [],
   "source": [
    "accts_nf = pd.read_csv('../assets/credit_new_features.csv', index_col='ID')"
   ]
  },
  {
   "cell_type": "markdown",
   "metadata": {},
   "source": [
    "### 'X' is the training set containing all the features without the dependent target variable, 'y.'"
   ]
  },
  {
   "cell_type": "code",
   "execution_count": 351,
   "metadata": {},
   "outputs": [],
   "source": [
    "X = accts_nf.drop(['Oct_Default'], axis=1)"
   ]
  },
  {
   "cell_type": "code",
   "execution_count": 352,
   "metadata": {},
   "outputs": [],
   "source": [
    "y = accts_nf['Oct_Default']"
   ]
  },
  {
   "cell_type": "markdown",
   "metadata": {},
   "source": [
    "### C. Validation-splitting and Scaling\n",
    "\n",
    "### It is necessary to set stratify to ensure that the proportions of the classes present in folds match that in the original target-series.  Scaling is needed because some of the features have small ranges and the others have very large ranges."
   ]
  },
  {
   "cell_type": "code",
   "execution_count": 353,
   "metadata": {},
   "outputs": [],
   "source": [
    "X_train, X_test, y_train, y_test = train_test_split(X, \n",
    "                                                    y, \n",
    "                                                    stratify=y,\n",
    "                                                    random_state=42)"
   ]
  },
  {
   "cell_type": "code",
   "execution_count": 354,
   "metadata": {},
   "outputs": [],
   "source": [
    "ss = StandardScaler()\n",
    "\n",
    "X_train_sc = ss.fit_transform(X_train)\n",
    "X_test_sc = ss.transform(X_test)"
   ]
  },
  {
   "cell_type": "code",
   "execution_count": 367,
   "metadata": {},
   "outputs": [
    {
     "name": "stdout",
     "output_type": "stream",
     "text": [
      "(7492, 35)\n"
     ]
    },
    {
     "data": {
      "text/plain": [
       "numpy.ndarray"
      ]
     },
     "execution_count": 367,
     "metadata": {},
     "output_type": "execute_result"
    }
   ],
   "source": [
    "print(X_test_sc.shape)\n",
    "type(X_test_sc)"
   ]
  },
  {
   "cell_type": "code",
   "execution_count": 356,
   "metadata": {},
   "outputs": [
    {
     "data": {
      "text/html": [
       "<div>\n",
       "<style scoped>\n",
       "    .dataframe tbody tr th:only-of-type {\n",
       "        vertical-align: middle;\n",
       "    }\n",
       "\n",
       "    .dataframe tbody tr th {\n",
       "        vertical-align: top;\n",
       "    }\n",
       "\n",
       "    .dataframe thead th {\n",
       "        text-align: right;\n",
       "    }\n",
       "</style>\n",
       "<table border=\"1\" class=\"dataframe\">\n",
       "  <thead>\n",
       "    <tr style=\"text-align: right;\">\n",
       "      <th></th>\n",
       "      <th>credit_limit</th>\n",
       "      <th>gender</th>\n",
       "      <th>EDUCATION</th>\n",
       "      <th>MARRIAGE</th>\n",
       "      <th>AGE</th>\n",
       "      <th>PAY_0</th>\n",
       "      <th>PAY_2</th>\n",
       "      <th>PAY_3</th>\n",
       "      <th>PAY_4</th>\n",
       "      <th>PAY_5</th>\n",
       "      <th>...</th>\n",
       "      <th>leverage_3</th>\n",
       "      <th>leverage_4</th>\n",
       "      <th>leverage_5</th>\n",
       "      <th>leverage_6</th>\n",
       "      <th>bill_to_pay1</th>\n",
       "      <th>bill_to_pay2</th>\n",
       "      <th>bill_to_pay3</th>\n",
       "      <th>bill_to_pay4</th>\n",
       "      <th>bill_to_pay5</th>\n",
       "      <th>bill_to_pay6</th>\n",
       "    </tr>\n",
       "    <tr>\n",
       "      <th>ID</th>\n",
       "      <th></th>\n",
       "      <th></th>\n",
       "      <th></th>\n",
       "      <th></th>\n",
       "      <th></th>\n",
       "      <th></th>\n",
       "      <th></th>\n",
       "      <th></th>\n",
       "      <th></th>\n",
       "      <th></th>\n",
       "      <th></th>\n",
       "      <th></th>\n",
       "      <th></th>\n",
       "      <th></th>\n",
       "      <th></th>\n",
       "      <th></th>\n",
       "      <th></th>\n",
       "      <th></th>\n",
       "      <th></th>\n",
       "      <th></th>\n",
       "      <th></th>\n",
       "    </tr>\n",
       "  </thead>\n",
       "  <tbody>\n",
       "    <tr>\n",
       "      <th>7362</th>\n",
       "      <td>150000</td>\n",
       "      <td>2</td>\n",
       "      <td>1</td>\n",
       "      <td>2</td>\n",
       "      <td>30</td>\n",
       "      <td>0</td>\n",
       "      <td>0</td>\n",
       "      <td>0</td>\n",
       "      <td>0</td>\n",
       "      <td>0</td>\n",
       "      <td>...</td>\n",
       "      <td>0.956587</td>\n",
       "      <td>0.949460</td>\n",
       "      <td>0.967333</td>\n",
       "      <td>1.021527</td>\n",
       "      <td>27.251087</td>\n",
       "      <td>29.048462</td>\n",
       "      <td>28.134902</td>\n",
       "      <td>26.871509</td>\n",
       "      <td>13.311927</td>\n",
       "      <td>319999.0000</td>\n",
       "    </tr>\n",
       "    <tr>\n",
       "      <th>12267</th>\n",
       "      <td>290000</td>\n",
       "      <td>2</td>\n",
       "      <td>3</td>\n",
       "      <td>2</td>\n",
       "      <td>37</td>\n",
       "      <td>-1</td>\n",
       "      <td>-1</td>\n",
       "      <td>-1</td>\n",
       "      <td>-1</td>\n",
       "      <td>-1</td>\n",
       "      <td>...</td>\n",
       "      <td>0.001366</td>\n",
       "      <td>0.001366</td>\n",
       "      <td>0.001366</td>\n",
       "      <td>0.001366</td>\n",
       "      <td>1.000000</td>\n",
       "      <td>1.000000</td>\n",
       "      <td>1.000000</td>\n",
       "      <td>1.000000</td>\n",
       "      <td>1.000000</td>\n",
       "      <td>1.0000</td>\n",
       "    </tr>\n",
       "    <tr>\n",
       "      <th>29379</th>\n",
       "      <td>290000</td>\n",
       "      <td>1</td>\n",
       "      <td>1</td>\n",
       "      <td>2</td>\n",
       "      <td>28</td>\n",
       "      <td>0</td>\n",
       "      <td>0</td>\n",
       "      <td>0</td>\n",
       "      <td>2</td>\n",
       "      <td>2</td>\n",
       "      <td>...</td>\n",
       "      <td>0.030038</td>\n",
       "      <td>0.032445</td>\n",
       "      <td>0.035010</td>\n",
       "      <td>0.033952</td>\n",
       "      <td>5.329167</td>\n",
       "      <td>4.886667</td>\n",
       "      <td>8.711000</td>\n",
       "      <td>10.454444</td>\n",
       "      <td>319999.000000</td>\n",
       "      <td>12.3075</td>\n",
       "    </tr>\n",
       "    <tr>\n",
       "      <th>24609</th>\n",
       "      <td>360000</td>\n",
       "      <td>1</td>\n",
       "      <td>1</td>\n",
       "      <td>1</td>\n",
       "      <td>39</td>\n",
       "      <td>-1</td>\n",
       "      <td>-1</td>\n",
       "      <td>2</td>\n",
       "      <td>-1</td>\n",
       "      <td>-1</td>\n",
       "      <td>...</td>\n",
       "      <td>0.000733</td>\n",
       "      <td>0.006092</td>\n",
       "      <td>0.001467</td>\n",
       "      <td>0.000733</td>\n",
       "      <td>0.231782</td>\n",
       "      <td>319999.000000</td>\n",
       "      <td>0.120383</td>\n",
       "      <td>4.153409</td>\n",
       "      <td>319999.000000</td>\n",
       "      <td>1.0000</td>\n",
       "    </tr>\n",
       "    <tr>\n",
       "      <th>14979</th>\n",
       "      <td>480000</td>\n",
       "      <td>2</td>\n",
       "      <td>2</td>\n",
       "      <td>2</td>\n",
       "      <td>31</td>\n",
       "      <td>-1</td>\n",
       "      <td>-1</td>\n",
       "      <td>-1</td>\n",
       "      <td>-1</td>\n",
       "      <td>-1</td>\n",
       "      <td>...</td>\n",
       "      <td>0.003665</td>\n",
       "      <td>0.003665</td>\n",
       "      <td>0.003665</td>\n",
       "      <td>0.003665</td>\n",
       "      <td>1.000000</td>\n",
       "      <td>1.000000</td>\n",
       "      <td>1.000000</td>\n",
       "      <td>1.000000</td>\n",
       "      <td>1.000000</td>\n",
       "      <td>1.0000</td>\n",
       "    </tr>\n",
       "  </tbody>\n",
       "</table>\n",
       "<p>5 rows × 35 columns</p>\n",
       "</div>"
      ],
      "text/plain": [
       "       credit_limit  gender  EDUCATION  MARRIAGE  AGE  PAY_0  PAY_2  PAY_3  \\\n",
       "ID                                                                           \n",
       "7362         150000       2          1         2   30      0      0      0   \n",
       "12267        290000       2          3         2   37     -1     -1     -1   \n",
       "29379        290000       1          1         2   28      0      0      0   \n",
       "24609        360000       1          1         1   39     -1     -1      2   \n",
       "14979        480000       2          2         2   31     -1     -1     -1   \n",
       "\n",
       "       PAY_4  PAY_5      ...       leverage_3  leverage_4  leverage_5  \\\n",
       "ID                       ...                                            \n",
       "7362       0      0      ...         0.956587    0.949460    0.967333   \n",
       "12267     -1     -1      ...         0.001366    0.001366    0.001366   \n",
       "29379      2      2      ...         0.030038    0.032445    0.035010   \n",
       "24609     -1     -1      ...         0.000733    0.006092    0.001467   \n",
       "14979     -1     -1      ...         0.003665    0.003665    0.003665   \n",
       "\n",
       "       leverage_6  bill_to_pay1   bill_to_pay2  bill_to_pay3  bill_to_pay4  \\\n",
       "ID                                                                           \n",
       "7362     1.021527     27.251087      29.048462     28.134902     26.871509   \n",
       "12267    0.001366      1.000000       1.000000      1.000000      1.000000   \n",
       "29379    0.033952      5.329167       4.886667      8.711000     10.454444   \n",
       "24609    0.000733      0.231782  319999.000000      0.120383      4.153409   \n",
       "14979    0.003665      1.000000       1.000000      1.000000      1.000000   \n",
       "\n",
       "        bill_to_pay5  bill_to_pay6  \n",
       "ID                                  \n",
       "7362       13.311927   319999.0000  \n",
       "12267       1.000000        1.0000  \n",
       "29379  319999.000000       12.3075  \n",
       "24609  319999.000000        1.0000  \n",
       "14979       1.000000        1.0000  \n",
       "\n",
       "[5 rows x 35 columns]"
      ]
     },
     "execution_count": 356,
     "metadata": {},
     "output_type": "execute_result"
    }
   ],
   "source": [
    "X_test.head()"
   ]
  },
  {
   "cell_type": "markdown",
   "metadata": {},
   "source": [
    "## D. First Model\n",
    "\n",
    "### The artificial neural network approach of Keras running TensorFlow in the back end was chosen for initial testing based largely on the original academic [publication](https://bradzzz.gitbooks.io/ga-seattle-dsi/content/dsi/dsi_05_classification_databases/2.1-lesson/assets/datasets/DefaultCreditCardClients_yeh_2009.pdf) that introduced the original dataset in 2009.  In that paper, their neural-network model performed the best on a variation of an AOC-related metric.\n",
    "\n",
    "### In this notebook, a wide set of hyperparameters was tested manually including:\n",
    "#### -topologic (number of neurons, number of hidden layers)\n",
    "#### -features (original set of 23 features and a later set with 12 interaction features)\n",
    "#### -epochs\n",
    "#### -batch-size (based a [blog](https://blogs.oracle.com/meena/simple-neural-network-model-using-keras-and-grid-search-hyperparameterstuning) from a literature search)\n",
    "#### -all available optimizers\n",
    "#### (James Hampton of GA suggested creating a custom loss-function to minimize for either the False-negative or False-positive rates, but we could not find an online example for making one work)\n",
    "\n",
    "### The rationale for performing the manual tuning came from relatively few number of epochs needed for convergence and eventual overfitting."
   ]
  },
  {
   "cell_type": "code",
   "execution_count": 359,
   "metadata": {
    "scrolled": false
   },
   "outputs": [],
   "source": [
    "model = Sequential()\n",
    "model.add(Dense(35, activation='relu', input_dim=X.shape[1]))\n",
    "model.add(Dense(35, activation='relu', input_dim=X.shape[1]))\n",
    "model.add(Dropout(0.5))\n",
    "model.add(Dense(1, activation='sigmoid')) # always have 1 neuron, with no activation function\n",
    "\n",
    "model.compile(loss='logcosh', optimizer='adam', metrics=['accuracy'])\n",
    "results = model.fit(X_train_sc, y_train,\n",
    "                    validation_data=(X_test_sc, y_test), verbose=0,\n",
    "                    epochs=32, batch_size=320)"
   ]
  },
  {
   "cell_type": "markdown",
   "metadata": {},
   "source": [
    "### The main observation is that not many epochs are needed before convergence and eventual overfitting takes place.  Possibly as few as 9 epochs are needed to see a bottoming of test losses (and topping of test-accuracies). \n",
    "\n",
    "### Let's plot the progression of loss reduction through the specified number of epochs."
   ]
  },
  {
   "cell_type": "code",
   "execution_count": 360,
   "metadata": {},
   "outputs": [
    {
     "data": {
      "text/plain": [
       "<matplotlib.legend.Legend at 0x1a44c982b0>"
      ]
     },
     "execution_count": 360,
     "metadata": {},
     "output_type": "execute_result"
    },
    {
     "data": {
      "image/png": "[encoded data removed]",
      "text/plain": [
       "<Figure size 432x288 with 1 Axes>"
      ]
     },
     "metadata": {},
     "output_type": "display_data"
    }
   ],
   "source": [
    "results.history.keys()\n",
    "\n",
    "plt.plot(results.history['val_loss'], label='Test Loss')\n",
    "plt.plot(results.history['loss'], label='Train Loss')\n",
    "plt.legend()"
   ]
  },
  {
   "cell_type": "markdown",
   "metadata": {},
   "source": [
    "### We can see that with 12 additional features added to the feature-set, the model has started to show overfitting.  From the manual testing, I don't see evidence that adding the extra interaction terms hurts the modeling, so perhaps any collinearity is not having a negative effect.\n",
    "\n",
    "### With \"verbose=1\" we can see that the measure of accuracy reaches about 0.82.  Unfortunately, due to lenders' intent for customer retention, they will invariably want to manage their risk exposure from False-negatives.  From a customer service standpoint, they also want to minimize False-positives, so it becomes a balancing act, walking the fine line between disparate commercial interests.  Customers want to feel valued, and business want to curb losses from default.\n",
    "\n",
    "### Just out of curiosity, let's calculate the percentage difference between our baseline model from Notebook-2 and our current result of 0.82."
   ]
  },
  {
   "cell_type": "code",
   "execution_count": 366,
   "metadata": {},
   "outputs": [
    {
     "name": "stdout",
     "output_type": "stream",
     "text": [
      "percentage lift above baseline of 77.9% is: 0.05285208913649029\n"
     ]
    }
   ],
   "source": [
    "baseline = 1-(y.sum()/len(y))\n",
    "print('percentage lift above baseline of 77.9% is:',(0.8199-(baseline))/baseline)"
   ]
  },
  {
   "cell_type": "markdown",
   "metadata": {},
   "source": [
    "### There is only a slim margin of separation, probably not enough to be worth reporting.  A 10% lift would be more impressive."
   ]
  },
  {
   "cell_type": "markdown",
   "metadata": {},
   "source": [
    "## E. Save the model, splits and scaling:"
   ]
  },
  {
   "cell_type": "code",
   "execution_count": 365,
   "metadata": {},
   "outputs": [],
   "source": [
    "model.save('../assets/model_keras.h5')"
   ]
  },
  {
   "cell_type": "code",
   "execution_count": null,
   "metadata": {},
   "outputs": [],
   "source": [
    "X.to_csv('../assets/X_processed.csv', index=True)\n",
    "y.to_csv('../assets/y_target.csv', index=True)"
   ]
  },
  {
   "cell_type": "code",
   "execution_count": null,
   "metadata": {},
   "outputs": [],
   "source": [
    "X_train.to_csv('../assets/X_train_split.csv')\n",
    "X_test.to_csv('../assets/X_test_split.csv')\n",
    "y_train.to_csv('../assets/y_train_split.csv')\n",
    "y_test.to_csv('../assets/y_test_split.csv')"
   ]
  },
  {
   "cell_type": "code",
   "execution_count": null,
   "metadata": {},
   "outputs": [],
   "source": [
    "np.savetxt(\"../assets/X_train_scaled.csv\", X_train_sc, delimiter=\",\")\n",
    "np.savetxt(\"../assets/X_test_scaled.csv\", X_test_sc, delimiter=\",\")"
   ]
  },
  {
   "cell_type": "markdown",
   "metadata": {},
   "source": [
    "### Let's add the code to save the the split data separately."
   ]
  },
  {
   "cell_type": "code",
   "execution_count": 368,
   "metadata": {},
   "outputs": [],
   "source": [
    "X.to_csv('../assets/X_new_features.csv', index=True)"
   ]
  },
  {
   "cell_type": "code",
   "execution_count": 369,
   "metadata": {},
   "outputs": [],
   "source": [
    "X_train.to_csv('../assets/X_train_split_nf.csv')\n",
    "X_test.to_csv('../assets/X_test_split_nf.csv')"
   ]
  },
  {
   "cell_type": "code",
   "execution_count": 370,
   "metadata": {},
   "outputs": [],
   "source": [
    "np.savetxt(\"../assets/X_train_scaled_nf.csv\", X_train_sc, delimiter=\",\")\n",
    "np.savetxt(\"../assets/X_test_scaled_nf.csv\", X_test_sc, delimiter=\",\")"
   ]
  },
  {
   "cell_type": "markdown",
   "metadata": {},
   "source": [
    "## Continue to Notebook-5, Model Building, Part-2.\n",
    "\n",
    "### A serious effort was made to target False-Negatives and/or False-Positives optimization.  I learned that adjusting the 'metrics=' input (which I tried) has no effect on any back-propagation process, but serves only to inform the user for reporting purposes.  Also, any gradient descent activity is superfluous because it is already built into the optimization process.\n",
    "\n",
    "### I was told about possibly using weights to penalize misclassification and about building a custom loss function connected to the backend built on TensorFlow, but I thought I only had time to try a custom loss function based on the formulae for False-Negative and False-Positive rates.  There wasn't an online discussion that I or James Hampton could find to accomplish this.\n",
    "\n",
    "### I did try the various other available loss functions and found Mean_Squared_Logarithmic_Errors(MSLE)-loss as optimized for penalizing False-Positives, while Logcosh-loss seemed to act in the same way for penalizing False-Negatives.  Based on this manual work.  I would consider the Logcosh-loss function to be the best performing in terms minimizing False-Negatives and maximizing True-positives.  Binary_crossentropy-loss would be a close second-best performer and MSLE the third-best because it does not lift True-Positives. \n",
    "\n",
    "### For the next notebook, I would like to show some Grid-searching and a separate TensorFlow neural-network.  That notebook will be followed by more basic/interpretable classification models.\n",
    "\n",
    "### Finally, in the last notebook I will evaluate all five models for misclassification and inference on the best estimator and best predictors."
   ]
  }
 ],
 "metadata": {
  "kernelspec": {
   "display_name": "Python 3",
   "language": "python",
   "name": "python3"
  },
  "language_info": {
   "codemirror_mode": {
    "name": "ipython",
    "version": 3
   },
   "file_extension": ".py",
   "mimetype": "text/x-python",
   "name": "python",
   "nbconvert_exporter": "python",
   "pygments_lexer": "ipython3",
   "version": "3.6.5"
  }
 },
 "nbformat": 4,
 "nbformat_minor": 2
}
