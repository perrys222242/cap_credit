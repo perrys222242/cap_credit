{
 "cells": [
  {
   "cell_type": "markdown",
   "metadata": {},
   "source": [
    "# Credit-Card Default Risk\n",
    "#### by Perry Shyr\n",
    "## _2-of-7. Exploratory Data Analysis_\n",
    "![](../image_files/cards.png)"
   ]
  },
  {
   "cell_type": "markdown",
   "metadata": {},
   "source": [
    "## Problem Statement\n",
    "\n",
    "### Given a dataset with demographic and borrowing history data for accounts classified as defaulting or not defaulting in October-2005, can I build a supervised model that performs better than identifying only members of the negative non-default class (baseline model) while minimizing the misclassification of either class?  In the context of credit-card lending, if I can predict accounts as belonging to the defaulting class, I want to minimize the number of predicted defaulters who did not actually default that October (lost revenues) while minimizing the number of predicted non-defaulters who did end up defaulting (lost profits).\n",
    "\n",
    "## Preamble for Exploration Notebook\n",
    "\n",
    "### In this notebook, I\n"
   ]
  },
  {
   "cell_type": "markdown",
   "metadata": {},
   "source": [
    "## A. Code Libraries Used"
   ]
  },
  {
   "cell_type": "code",
   "execution_count": 1,
   "metadata": {},
   "outputs": [],
   "source": [
    "import numpy as np\n",
    "import pandas as pd\n",
    "import matplotlib.pyplot as plt\n",
    "\n",
    "%matplotlib inline"
   ]
  },
  {
   "cell_type": "markdown",
   "metadata": {},
   "source": [
    "## B. Load Data from Notebook-1\n",
    "\n",
    "### Let's use a more descriptive name for our data, like 'accts' for accounts."
   ]
  },
  {
   "cell_type": "code",
   "execution_count": 2,
   "metadata": {},
   "outputs": [],
   "source": [
    "accts = pd.read_csv('../asset_files/credit_data_processed.csv', index_col='ID')"
   ]
  },
  {
   "cell_type": "markdown",
   "metadata": {},
   "source": [
    "### Let's verify the shape and head of our dataframe."
   ]
  },
  {
   "cell_type": "code",
   "execution_count": 7,
   "metadata": {},
   "outputs": [
    {
     "name": "stdout",
     "output_type": "stream",
     "text": [
      "(29965, 24)\n"
     ]
    },
    {
     "data": {
      "text/html": [
       "<div>\n",
       "<style scoped>\n",
       "    .dataframe tbody tr th:only-of-type {\n",
       "        vertical-align: middle;\n",
       "    }\n",
       "\n",
       "    .dataframe tbody tr th {\n",
       "        vertical-align: top;\n",
       "    }\n",
       "\n",
       "    .dataframe thead th {\n",
       "        text-align: right;\n",
       "    }\n",
       "</style>\n",
       "<table border=\"1\" class=\"dataframe\">\n",
       "  <thead>\n",
       "    <tr style=\"text-align: right;\">\n",
       "      <th></th>\n",
       "      <th>credit_limit</th>\n",
       "      <th>gender</th>\n",
       "      <th>EDUCATION</th>\n",
       "      <th>MARRIAGE</th>\n",
       "      <th>AGE</th>\n",
       "      <th>PAY_0</th>\n",
       "      <th>PAY_2</th>\n",
       "      <th>PAY_3</th>\n",
       "      <th>PAY_4</th>\n",
       "      <th>PAY_5</th>\n",
       "      <th>...</th>\n",
       "      <th>BILL_AMT4</th>\n",
       "      <th>BILL_AMT5</th>\n",
       "      <th>BILL_AMT6</th>\n",
       "      <th>PAY_AMT1</th>\n",
       "      <th>PAY_AMT2</th>\n",
       "      <th>PAY_AMT3</th>\n",
       "      <th>PAY_AMT4</th>\n",
       "      <th>PAY_AMT5</th>\n",
       "      <th>PAY_AMT6</th>\n",
       "      <th>Oct_Default</th>\n",
       "    </tr>\n",
       "    <tr>\n",
       "      <th>ID</th>\n",
       "      <th></th>\n",
       "      <th></th>\n",
       "      <th></th>\n",
       "      <th></th>\n",
       "      <th></th>\n",
       "      <th></th>\n",
       "      <th></th>\n",
       "      <th></th>\n",
       "      <th></th>\n",
       "      <th></th>\n",
       "      <th></th>\n",
       "      <th></th>\n",
       "      <th></th>\n",
       "      <th></th>\n",
       "      <th></th>\n",
       "      <th></th>\n",
       "      <th></th>\n",
       "      <th></th>\n",
       "      <th></th>\n",
       "      <th></th>\n",
       "      <th></th>\n",
       "    </tr>\n",
       "  </thead>\n",
       "  <tbody>\n",
       "    <tr>\n",
       "      <th>1</th>\n",
       "      <td>20000</td>\n",
       "      <td>2</td>\n",
       "      <td>2</td>\n",
       "      <td>1</td>\n",
       "      <td>24</td>\n",
       "      <td>2</td>\n",
       "      <td>2</td>\n",
       "      <td>-1</td>\n",
       "      <td>-1</td>\n",
       "      <td>-2</td>\n",
       "      <td>...</td>\n",
       "      <td>0</td>\n",
       "      <td>0</td>\n",
       "      <td>0</td>\n",
       "      <td>0</td>\n",
       "      <td>689</td>\n",
       "      <td>0</td>\n",
       "      <td>0</td>\n",
       "      <td>0</td>\n",
       "      <td>0</td>\n",
       "      <td>1</td>\n",
       "    </tr>\n",
       "    <tr>\n",
       "      <th>2</th>\n",
       "      <td>120000</td>\n",
       "      <td>2</td>\n",
       "      <td>2</td>\n",
       "      <td>2</td>\n",
       "      <td>26</td>\n",
       "      <td>-1</td>\n",
       "      <td>2</td>\n",
       "      <td>0</td>\n",
       "      <td>0</td>\n",
       "      <td>0</td>\n",
       "      <td>...</td>\n",
       "      <td>3272</td>\n",
       "      <td>3455</td>\n",
       "      <td>3261</td>\n",
       "      <td>0</td>\n",
       "      <td>1000</td>\n",
       "      <td>1000</td>\n",
       "      <td>1000</td>\n",
       "      <td>0</td>\n",
       "      <td>2000</td>\n",
       "      <td>1</td>\n",
       "    </tr>\n",
       "    <tr>\n",
       "      <th>3</th>\n",
       "      <td>90000</td>\n",
       "      <td>2</td>\n",
       "      <td>2</td>\n",
       "      <td>2</td>\n",
       "      <td>34</td>\n",
       "      <td>0</td>\n",
       "      <td>0</td>\n",
       "      <td>0</td>\n",
       "      <td>0</td>\n",
       "      <td>0</td>\n",
       "      <td>...</td>\n",
       "      <td>14331</td>\n",
       "      <td>14948</td>\n",
       "      <td>15549</td>\n",
       "      <td>1518</td>\n",
       "      <td>1500</td>\n",
       "      <td>1000</td>\n",
       "      <td>1000</td>\n",
       "      <td>1000</td>\n",
       "      <td>5000</td>\n",
       "      <td>0</td>\n",
       "    </tr>\n",
       "    <tr>\n",
       "      <th>4</th>\n",
       "      <td>50000</td>\n",
       "      <td>2</td>\n",
       "      <td>2</td>\n",
       "      <td>1</td>\n",
       "      <td>37</td>\n",
       "      <td>0</td>\n",
       "      <td>0</td>\n",
       "      <td>0</td>\n",
       "      <td>0</td>\n",
       "      <td>0</td>\n",
       "      <td>...</td>\n",
       "      <td>28314</td>\n",
       "      <td>28959</td>\n",
       "      <td>29547</td>\n",
       "      <td>2000</td>\n",
       "      <td>2019</td>\n",
       "      <td>1200</td>\n",
       "      <td>1100</td>\n",
       "      <td>1069</td>\n",
       "      <td>1000</td>\n",
       "      <td>0</td>\n",
       "    </tr>\n",
       "    <tr>\n",
       "      <th>5</th>\n",
       "      <td>50000</td>\n",
       "      <td>1</td>\n",
       "      <td>2</td>\n",
       "      <td>1</td>\n",
       "      <td>57</td>\n",
       "      <td>-1</td>\n",
       "      <td>0</td>\n",
       "      <td>-1</td>\n",
       "      <td>0</td>\n",
       "      <td>0</td>\n",
       "      <td>...</td>\n",
       "      <td>20940</td>\n",
       "      <td>19146</td>\n",
       "      <td>19131</td>\n",
       "      <td>2000</td>\n",
       "      <td>36681</td>\n",
       "      <td>10000</td>\n",
       "      <td>9000</td>\n",
       "      <td>689</td>\n",
       "      <td>679</td>\n",
       "      <td>0</td>\n",
       "    </tr>\n",
       "  </tbody>\n",
       "</table>\n",
       "<p>5 rows × 24 columns</p>\n",
       "</div>"
      ],
      "text/plain": [
       "    credit_limit  gender  EDUCATION  MARRIAGE  AGE  PAY_0  PAY_2  PAY_3  \\\n",
       "ID                                                                        \n",
       "1          20000       2          2         1   24      2      2     -1   \n",
       "2         120000       2          2         2   26     -1      2      0   \n",
       "3          90000       2          2         2   34      0      0      0   \n",
       "4          50000       2          2         1   37      0      0      0   \n",
       "5          50000       1          2         1   57     -1      0     -1   \n",
       "\n",
       "    PAY_4  PAY_5     ...       BILL_AMT4  BILL_AMT5  BILL_AMT6  PAY_AMT1  \\\n",
       "ID                   ...                                                   \n",
       "1      -1     -2     ...               0          0          0         0   \n",
       "2       0      0     ...            3272       3455       3261         0   \n",
       "3       0      0     ...           14331      14948      15549      1518   \n",
       "4       0      0     ...           28314      28959      29547      2000   \n",
       "5       0      0     ...           20940      19146      19131      2000   \n",
       "\n",
       "    PAY_AMT2  PAY_AMT3  PAY_AMT4  PAY_AMT5  PAY_AMT6  Oct_Default  \n",
       "ID                                                                 \n",
       "1        689         0         0         0         0            1  \n",
       "2       1000      1000      1000         0      2000            1  \n",
       "3       1500      1000      1000      1000      5000            0  \n",
       "4       2019      1200      1100      1069      1000            0  \n",
       "5      36681     10000      9000       689       679            0  \n",
       "\n",
       "[5 rows x 24 columns]"
      ]
     },
     "execution_count": 7,
     "metadata": {},
     "output_type": "execute_result"
    }
   ],
   "source": [
    "print(accts.shape)\n",
    "accts.head()"
   ]
  },
  {
   "cell_type": "markdown",
   "metadata": {},
   "source": [
    "## Let's look at the distribution of the target variable:"
   ]
  },
  {
   "cell_type": "code",
   "execution_count": 10,
   "metadata": {},
   "outputs": [
    {
     "data": {
      "text/plain": [
       "0    0.778742\n",
       "1    0.221258\n",
       "Name: Oct_Default, dtype: float64"
      ]
     },
     "execution_count": 10,
     "metadata": {},
     "output_type": "execute_result"
    }
   ],
   "source": [
    "accts['Oct_Default'].value_counts()/accts.shape[0]"
   ]
  },
  {
   "cell_type": "markdown",
   "metadata": {},
   "source": [
    "### This confirms our target classes; \"1\" for the positive class and \"0\" for the negative class.\n",
    "\n",
    "## C. Baseline Model\n",
    "\n",
    "### We are not ready to start modeling, but we might as well state out baseline model.  A random estimator should be able to generalize the class based simply on the distribution of 'Oct_Default,' our target variable.  That is, our baseline model predicts default 22.12% of the time.\n",
    "\n",
    "## D. Data Exploration\n",
    "\n",
    "### Let's start with the 'gender'-feature column:\n",
    "### We are interested in the proportion of accounts by gender and target-default.  Let's assign these to a new dataframe, 'mf.'"
   ]
  },
  {
   "cell_type": "code",
   "execution_count": 21,
   "metadata": {},
   "outputs": [
    {
     "data": {
      "text/html": [
       "<div>\n",
       "<style scoped>\n",
       "    .dataframe tbody tr th:only-of-type {\n",
       "        vertical-align: middle;\n",
       "    }\n",
       "\n",
       "    .dataframe tbody tr th {\n",
       "        vertical-align: top;\n",
       "    }\n",
       "\n",
       "    .dataframe thead th {\n",
       "        text-align: right;\n",
       "    }\n",
       "</style>\n",
       "<table border=\"1\" class=\"dataframe\">\n",
       "  <thead>\n",
       "    <tr style=\"text-align: right;\">\n",
       "      <th>Oct_Default</th>\n",
       "      <th>0</th>\n",
       "      <th>1</th>\n",
       "    </tr>\n",
       "    <tr>\n",
       "      <th>gender</th>\n",
       "      <th></th>\n",
       "      <th></th>\n",
       "    </tr>\n",
       "  </thead>\n",
       "  <tbody>\n",
       "    <tr>\n",
       "      <th>1</th>\n",
       "      <td>9005</td>\n",
       "      <td>2869</td>\n",
       "    </tr>\n",
       "    <tr>\n",
       "      <th>2</th>\n",
       "      <td>14330</td>\n",
       "      <td>3761</td>\n",
       "    </tr>\n",
       "  </tbody>\n",
       "</table>\n",
       "</div>"
      ],
      "text/plain": [
       "Oct_Default      0     1\n",
       "gender                  \n",
       "1             9005  2869\n",
       "2            14330  3761"
      ]
     },
     "execution_count": 21,
     "metadata": {},
     "output_type": "execute_result"
    }
   ],
   "source": [
    "mf = pd.crosstab(accts['gender'], accts['Oct_Default'])\n",
    "mf   # 'mf' for 'Male:Female'"
   ]
  },
  {
   "cell_type": "code",
   "execution_count": 22,
   "metadata": {},
   "outputs": [
    {
     "data": {
      "text/plain": [
       "Text(0.5, 0, 'Gender')"
      ]
     },
     "execution_count": 22,
     "metadata": {},
     "output_type": "execute_result"
    },
    {
     "data": {
      "image/png": "[encoded data removed]",
      "text/plain": [
       "<Figure size 432x288 with 1 Axes>"
      ]
     },
     "metadata": {},
     "output_type": "display_data"
    }
   ],
   "source": [
    "mf.plot(kind='bar', stacked=True, title='Positive Class by Gender', rot=0)\n",
    "plt.xlabel(\"Gender\")"
   ]
  },
  {
   "cell_type": "markdown",
   "metadata": {},
   "source": [
    "### We can see from a quick plot how accounts breakdown by gender and target-status.\n",
    "\n",
    "### Let's look at this in a slightly different way, normalizing for the number of accounts."
   ]
  },
  {
   "cell_type": "code",
   "execution_count": 37,
   "metadata": {},
   "outputs": [
    {
     "data": {
      "text/html": [
       "<div>\n",
       "<style scoped>\n",
       "    .dataframe tbody tr th:only-of-type {\n",
       "        vertical-align: middle;\n",
       "    }\n",
       "\n",
       "    .dataframe tbody tr th {\n",
       "        vertical-align: top;\n",
       "    }\n",
       "\n",
       "    .dataframe thead th {\n",
       "        text-align: right;\n",
       "    }\n",
       "</style>\n",
       "<table border=\"1\" class=\"dataframe\">\n",
       "  <thead>\n",
       "    <tr style=\"text-align: right;\">\n",
       "      <th>Oct_Default</th>\n",
       "      <th>0</th>\n",
       "      <th>1</th>\n",
       "    </tr>\n",
       "    <tr>\n",
       "      <th>gender</th>\n",
       "      <th></th>\n",
       "      <th></th>\n",
       "    </tr>\n",
       "  </thead>\n",
       "  <tbody>\n",
       "    <tr>\n",
       "      <th>1</th>\n",
       "      <td>0.758380</td>\n",
       "      <td>0.241620</td>\n",
       "    </tr>\n",
       "    <tr>\n",
       "      <th>2</th>\n",
       "      <td>0.792107</td>\n",
       "      <td>0.207893</td>\n",
       "    </tr>\n",
       "  </tbody>\n",
       "</table>\n",
       "</div>"
      ],
      "text/plain": [
       "Oct_Default         0         1\n",
       "gender                         \n",
       "1            0.758380  0.241620\n",
       "2            0.792107  0.207893"
      ]
     },
     "execution_count": 37,
     "metadata": {},
     "output_type": "execute_result"
    }
   ],
   "source": [
    "mf.loc[1,:] = mf.loc[1,:]/mf.loc[1,:].sum()\n",
    "mf.loc[2,:] = mf.loc[2,:]/mf.loc[2,:].sum()\n",
    "mf"
   ]
  },
  {
   "cell_type": "markdown",
   "metadata": {},
   "source": [
    "### We see the percentages, but it's unclear which is which from the indices.  Let's rename the indices:"
   ]
  },
  {
   "cell_type": "code",
   "execution_count": 38,
   "metadata": {},
   "outputs": [
    {
     "data": {
      "text/html": [
       "<div>\n",
       "<style scoped>\n",
       "    .dataframe tbody tr th:only-of-type {\n",
       "        vertical-align: middle;\n",
       "    }\n",
       "\n",
       "    .dataframe tbody tr th {\n",
       "        vertical-align: top;\n",
       "    }\n",
       "\n",
       "    .dataframe thead th {\n",
       "        text-align: right;\n",
       "    }\n",
       "</style>\n",
       "<table border=\"1\" class=\"dataframe\">\n",
       "  <thead>\n",
       "    <tr style=\"text-align: right;\">\n",
       "      <th>Oct_Default</th>\n",
       "      <th>Non-default</th>\n",
       "      <th>Default</th>\n",
       "    </tr>\n",
       "    <tr>\n",
       "      <th>gender</th>\n",
       "      <th></th>\n",
       "      <th></th>\n",
       "    </tr>\n",
       "  </thead>\n",
       "  <tbody>\n",
       "    <tr>\n",
       "      <th>Male</th>\n",
       "      <td>0.758380</td>\n",
       "      <td>0.241620</td>\n",
       "    </tr>\n",
       "    <tr>\n",
       "      <th>Female</th>\n",
       "      <td>0.792107</td>\n",
       "      <td>0.207893</td>\n",
       "    </tr>\n",
       "  </tbody>\n",
       "</table>\n",
       "</div>"
      ],
      "text/plain": [
       "Oct_Default  Non-default   Default\n",
       "gender                            \n",
       "Male            0.758380  0.241620\n",
       "Female          0.792107  0.207893"
      ]
     },
     "execution_count": 38,
     "metadata": {},
     "output_type": "execute_result"
    }
   ],
   "source": [
    "mf = mf.rename(columns={0:'Non-default',1:'Default'})\n",
    "mf = mf.rename(index={1:'Male',2:'Female'})\n",
    "mf.reindex()"
   ]
  },
  {
   "cell_type": "markdown",
   "metadata": {},
   "source": [
    "### That's easier to understand.  Let's plot it now."
   ]
  },
  {
   "cell_type": "code",
   "execution_count": 39,
   "metadata": {},
   "outputs": [
    {
     "data": {
      "text/plain": [
       "Text(0.5, 0, 'Gender')"
      ]
     },
     "execution_count": 39,
     "metadata": {},
     "output_type": "execute_result"
    },
    {
     "data": {
      "image/png": "[encoded data removed]",
      "text/plain": [
       "<Figure size 432x288 with 1 Axes>"
      ]
     },
     "metadata": {},
     "output_type": "display_data"
    }
   ],
   "source": [
    "mf.plot(kind='bar', stacked=True, title='Normalized Positive Class by Gender', rot=0)\n",
    "plt.xlabel(\"Gender\")"
   ]
  },
  {
   "cell_type": "markdown",
   "metadata": {},
   "source": [
    "### What we can see from this is that the default rate is slightly greater for men than it is for women.  By just plotting stacked-bars to find that there are significantly more female account-holders than men, it would not have been clear what the risk-profiles looked like.\n",
    "\n",
    "### Let's do the same for the 'EDUCATION' column."
   ]
  },
  {
   "cell_type": "code",
   "execution_count": 7,
   "metadata": {},
   "outputs": [
    {
     "data": {
      "text/plain": [
       "Text(0.5, 0, 'Education Level')"
      ]
     },
     "execution_count": 7,
     "metadata": {},
     "output_type": "execute_result"
    },
    {
     "data": {
      "image/png": "[encoded data removed]",
      "text/plain": [
       "<Figure size 432x288 with 1 Axes>"
      ]
     },
     "metadata": {},
     "output_type": "display_data"
    }
   ],
   "source": [
    "ed = pd.crosstab(accts['EDUCATION'], accts['Oct_Default'])\n",
    "ed = ed.rename(columns={0:'Non-default',1:'Default'})\n",
    "ed = ed.rename(index={1:'Graduate',2:'College',3:'High-School',4:'Other'})\n",
    "ed.plot(kind='bar', stacked=True, title='Default Class by Level of Education', rot=0, color=['y','g'])\n",
    "plt.xlabel(\"Education Level\")"
   ]
  },
  {
   "cell_type": "code",
   "execution_count": 5,
   "metadata": {},
   "outputs": [
    {
     "data": {
      "text/plain": [
       "Text(0.5, 0, 'Education Level')"
      ]
     },
     "execution_count": 5,
     "metadata": {},
     "output_type": "execute_result"
    },
    {
     "data": {
      "image/png": "[encoded data removed]",
      "text/plain": [
       "<Figure size 432x288 with 1 Axes>"
      ]
     },
     "metadata": {},
     "output_type": "display_data"
    }
   ],
   "source": [
    "ed.loc[1,:] = ed.loc[1,:]/ed.loc[1,:].sum()\n",
    "ed.loc[2,:] = ed.loc[2,:]/ed.loc[2,:].sum()\n",
    "ed.loc[3,:] = ed.loc[3,:]/ed.loc[3,:].sum()\n",
    "ed.loc[4,:] = ed.loc[4,:]/ed.loc[4,:].sum()\n",
    "ed = ed.rename(columns={0:'Non-default',1:'Default'})\n",
    "ed = ed.rename(index={1:'Graduate',2:'College',3:'High-School',4:'Other'})\n",
    "ed.plot(kind='bar', stacked=True, title='Normalized Positive Class by Education', rot=0, color=['y','g'])\n",
    "plt.xlabel(\"Education Level\")"
   ]
  },
  {
   "cell_type": "markdown",
   "metadata": {},
   "source": [
    "### We can see visually that the risk-profile appears to drop with the level of advanced education.\n",
    "\n",
    "### For Marital-Status?"
   ]
  },
  {
   "cell_type": "code",
   "execution_count": 45,
   "metadata": {},
   "outputs": [
    {
     "data": {
      "text/plain": [
       "Text(0.5, 0, 'Marital Status')"
      ]
     },
     "execution_count": 45,
     "metadata": {},
     "output_type": "execute_result"
    },
    {
     "data": {
      "image/png": "[encoded data removed]",
      "text/plain": [
       "<Figure size 432x288 with 1 Axes>"
      ]
     },
     "metadata": {},
     "output_type": "display_data"
    }
   ],
   "source": [
    "wed = pd.crosstab(accts['MARRIAGE'], accts['Oct_Default'])\n",
    "wed.plot(kind='bar', stacked=True, title='Positive Class by Marital Status', rot=0)\n",
    "plt.xlabel(\"Marital Status\")"
   ]
  },
  {
   "cell_type": "code",
   "execution_count": 47,
   "metadata": {},
   "outputs": [
    {
     "data": {
      "text/plain": [
       "Text(0.5, 0, 'Marital Status')"
      ]
     },
     "execution_count": 47,
     "metadata": {},
     "output_type": "execute_result"
    },
    {
     "data": {
      "image/png": "[encoded data removed]",
      "text/plain": [
       "<Figure size 432x288 with 1 Axes>"
      ]
     },
     "metadata": {},
     "output_type": "display_data"
    }
   ],
   "source": [
    "wed.loc[0,:] = wed.loc[0,:]/wed.loc[0,:].sum()\n",
    "wed.loc[1,:] = wed.loc[1,:]/wed.loc[1,:].sum()\n",
    "wed.loc[2,:] = wed.loc[2,:]/wed.loc[2,:].sum()\n",
    "wed.loc[3,:] = wed.loc[3,:]/wed.loc[3,:].sum()\n",
    "wed = wed.rename(columns={0:'Non-default',1:'Default'})\n",
    "wed = wed.rename(index={0:'Other',1:'Married',2:'Single',3:'Divorced'})\n",
    "wed.plot(kind='bar', stacked=True, title='Normalized Positive Class by Marital Status', rot=0)\n",
    "plt.xlabel(\"Marital Status\")"
   ]
  },
  {
   "cell_type": "markdown",
   "metadata": {},
   "source": [
    "### We can see that customers who are married or were married are slightly less likely to default than single customers.  This may be correlated with age.  We can look at that next.\n",
    "\n",
    "### Since 'AGE' is a continuous feature, we can use masking for the distributions."
   ]
  },
  {
   "cell_type": "code",
   "execution_count": 9,
   "metadata": {},
   "outputs": [
    {
     "data": {
      "image/png": "[encoded data removed]",
      "text/plain": [
       "<Figure size 720x432 with 1 Axes>"
      ]
     },
     "metadata": {},
     "output_type": "display_data"
    }
   ],
   "source": [
    "accts_0 = accts[accts['Oct_Default']==0]\n",
    "accts_1 = accts[accts['Oct_Default']==1]\n",
    "plt.figure(figsize=(10, 6))\n",
    "plt.hist([accts_0['AGE'],accts_1['AGE']], stacked=True, bins=20)\n",
    "plt.title('Distribution of Customer Age')\n",
    "labels= ['Non-Default', 'Default']\n",
    "plt.legend(labels, fontsize=12)\n",
    "plt.xlabel('Age')\n",
    "plt.ylabel('Frequency')\n",
    "plt.show()"
   ]
  },
  {
   "cell_type": "markdown",
   "metadata": {},
   "source": [
    "### We can try binning to calculate the risk profiles by age.  My local instructor Douglas Strodtman helped me a great deal on this.  Below we copy our data and create a new column for our age-binning."
   ]
  },
  {
   "cell_type": "code",
   "execution_count": 14,
   "metadata": {},
   "outputs": [],
   "source": [
    "accts_copy = accts.copy()"
   ]
  },
  {
   "cell_type": "code",
   "execution_count": 9,
   "metadata": {},
   "outputs": [],
   "source": [
    "age_bins = [*range(0, accts_copy['AGE'].max()+1, int(accts_copy['AGE'].max()/20))]"
   ]
  },
  {
   "cell_type": "code",
   "execution_count": 10,
   "metadata": {},
   "outputs": [],
   "source": [
    "for i in range(len(age_bins)-1):\n",
    "    accts_copy.loc[(accts_copy['AGE'] > age_bins[i]) & (accts_copy['AGE'] <= age_bins[i+1]),'age_bin'] = age_bins[i]"
   ]
  },
  {
   "cell_type": "code",
   "execution_count": 11,
   "metadata": {},
   "outputs": [
    {
     "data": {
      "text/html": [
       "<div>\n",
       "<style scoped>\n",
       "    .dataframe tbody tr th:only-of-type {\n",
       "        vertical-align: middle;\n",
       "    }\n",
       "\n",
       "    .dataframe tbody tr th {\n",
       "        vertical-align: top;\n",
       "    }\n",
       "\n",
       "    .dataframe thead th {\n",
       "        text-align: right;\n",
       "    }\n",
       "</style>\n",
       "<table border=\"1\" class=\"dataframe\">\n",
       "  <thead>\n",
       "    <tr style=\"text-align: right;\">\n",
       "      <th></th>\n",
       "      <th>credit_limit</th>\n",
       "      <th>gender</th>\n",
       "      <th>EDUCATION</th>\n",
       "      <th>MARRIAGE</th>\n",
       "      <th>AGE</th>\n",
       "      <th>PAY_0</th>\n",
       "      <th>PAY_2</th>\n",
       "      <th>PAY_3</th>\n",
       "      <th>PAY_4</th>\n",
       "      <th>PAY_5</th>\n",
       "      <th>...</th>\n",
       "      <th>BILL_AMT5</th>\n",
       "      <th>BILL_AMT6</th>\n",
       "      <th>PAY_AMT1</th>\n",
       "      <th>PAY_AMT2</th>\n",
       "      <th>PAY_AMT3</th>\n",
       "      <th>PAY_AMT4</th>\n",
       "      <th>PAY_AMT5</th>\n",
       "      <th>PAY_AMT6</th>\n",
       "      <th>Oct_Default</th>\n",
       "      <th>age_bin</th>\n",
       "    </tr>\n",
       "    <tr>\n",
       "      <th>ID</th>\n",
       "      <th></th>\n",
       "      <th></th>\n",
       "      <th></th>\n",
       "      <th></th>\n",
       "      <th></th>\n",
       "      <th></th>\n",
       "      <th></th>\n",
       "      <th></th>\n",
       "      <th></th>\n",
       "      <th></th>\n",
       "      <th></th>\n",
       "      <th></th>\n",
       "      <th></th>\n",
       "      <th></th>\n",
       "      <th></th>\n",
       "      <th></th>\n",
       "      <th></th>\n",
       "      <th></th>\n",
       "      <th></th>\n",
       "      <th></th>\n",
       "      <th></th>\n",
       "    </tr>\n",
       "  </thead>\n",
       "  <tbody>\n",
       "    <tr>\n",
       "      <th>18246</th>\n",
       "      <td>440000</td>\n",
       "      <td>1</td>\n",
       "      <td>1</td>\n",
       "      <td>1</td>\n",
       "      <td>79</td>\n",
       "      <td>0</td>\n",
       "      <td>0</td>\n",
       "      <td>0</td>\n",
       "      <td>0</td>\n",
       "      <td>0</td>\n",
       "      <td>...</td>\n",
       "      <td>438187</td>\n",
       "      <td>447543</td>\n",
       "      <td>15715</td>\n",
       "      <td>16519</td>\n",
       "      <td>16513</td>\n",
       "      <td>15800</td>\n",
       "      <td>16531</td>\n",
       "      <td>15677</td>\n",
       "      <td>0</td>\n",
       "      <td>NaN</td>\n",
       "    </tr>\n",
       "  </tbody>\n",
       "</table>\n",
       "<p>1 rows × 25 columns</p>\n",
       "</div>"
      ],
      "text/plain": [
       "       credit_limit  gender  EDUCATION  MARRIAGE  AGE  PAY_0  PAY_2  PAY_3  \\\n",
       "ID                                                                           \n",
       "18246        440000       1          1         1   79      0      0      0   \n",
       "\n",
       "       PAY_4  PAY_5   ...     BILL_AMT5  BILL_AMT6  PAY_AMT1  PAY_AMT2  \\\n",
       "ID                    ...                                                \n",
       "18246      0      0   ...        438187     447543     15715     16519   \n",
       "\n",
       "       PAY_AMT3  PAY_AMT4  PAY_AMT5  PAY_AMT6  Oct_Default  age_bin  \n",
       "ID                                                                   \n",
       "18246     16513     15800     16531     15677            0      NaN  \n",
       "\n",
       "[1 rows x 25 columns]"
      ]
     },
     "execution_count": 11,
     "metadata": {},
     "output_type": "execute_result"
    }
   ],
   "source": [
    "accts_copy[accts_copy['age_bin'].isnull()]"
   ]
  },
  {
   "cell_type": "code",
   "execution_count": 12,
   "metadata": {},
   "outputs": [],
   "source": [
    "accts_copy.loc[18246,'age_bin']=72.0                        # Filling a \"NaN\" value found."
   ]
  },
  {
   "cell_type": "code",
   "execution_count": 13,
   "metadata": {},
   "outputs": [
    {
     "data": {
      "text/html": [
       "<div>\n",
       "<style scoped>\n",
       "    .dataframe tbody tr th:only-of-type {\n",
       "        vertical-align: middle;\n",
       "    }\n",
       "\n",
       "    .dataframe tbody tr th {\n",
       "        vertical-align: top;\n",
       "    }\n",
       "\n",
       "    .dataframe thead th {\n",
       "        text-align: right;\n",
       "    }\n",
       "</style>\n",
       "<table border=\"1\" class=\"dataframe\">\n",
       "  <thead>\n",
       "    <tr style=\"text-align: right;\">\n",
       "      <th></th>\n",
       "      <th>credit_limit</th>\n",
       "      <th>gender</th>\n",
       "      <th>EDUCATION</th>\n",
       "      <th>MARRIAGE</th>\n",
       "      <th>AGE</th>\n",
       "      <th>PAY_0</th>\n",
       "      <th>PAY_2</th>\n",
       "      <th>PAY_3</th>\n",
       "      <th>PAY_4</th>\n",
       "      <th>PAY_5</th>\n",
       "      <th>...</th>\n",
       "      <th>BILL_AMT5</th>\n",
       "      <th>BILL_AMT6</th>\n",
       "      <th>PAY_AMT1</th>\n",
       "      <th>PAY_AMT2</th>\n",
       "      <th>PAY_AMT3</th>\n",
       "      <th>PAY_AMT4</th>\n",
       "      <th>PAY_AMT5</th>\n",
       "      <th>PAY_AMT6</th>\n",
       "      <th>Oct_Default</th>\n",
       "      <th>age_bin</th>\n",
       "    </tr>\n",
       "    <tr>\n",
       "      <th>ID</th>\n",
       "      <th></th>\n",
       "      <th></th>\n",
       "      <th></th>\n",
       "      <th></th>\n",
       "      <th></th>\n",
       "      <th></th>\n",
       "      <th></th>\n",
       "      <th></th>\n",
       "      <th></th>\n",
       "      <th></th>\n",
       "      <th></th>\n",
       "      <th></th>\n",
       "      <th></th>\n",
       "      <th></th>\n",
       "      <th></th>\n",
       "      <th></th>\n",
       "      <th></th>\n",
       "      <th></th>\n",
       "      <th></th>\n",
       "      <th></th>\n",
       "      <th></th>\n",
       "    </tr>\n",
       "  </thead>\n",
       "  <tbody>\n",
       "    <tr>\n",
       "      <th>1</th>\n",
       "      <td>20000</td>\n",
       "      <td>2</td>\n",
       "      <td>2</td>\n",
       "      <td>1</td>\n",
       "      <td>24</td>\n",
       "      <td>2</td>\n",
       "      <td>2</td>\n",
       "      <td>-1</td>\n",
       "      <td>-1</td>\n",
       "      <td>-2</td>\n",
       "      <td>...</td>\n",
       "      <td>0</td>\n",
       "      <td>0</td>\n",
       "      <td>0</td>\n",
       "      <td>689</td>\n",
       "      <td>0</td>\n",
       "      <td>0</td>\n",
       "      <td>0</td>\n",
       "      <td>0</td>\n",
       "      <td>1</td>\n",
       "      <td>21</td>\n",
       "    </tr>\n",
       "    <tr>\n",
       "      <th>2</th>\n",
       "      <td>120000</td>\n",
       "      <td>2</td>\n",
       "      <td>2</td>\n",
       "      <td>2</td>\n",
       "      <td>26</td>\n",
       "      <td>-1</td>\n",
       "      <td>2</td>\n",
       "      <td>0</td>\n",
       "      <td>0</td>\n",
       "      <td>0</td>\n",
       "      <td>...</td>\n",
       "      <td>3455</td>\n",
       "      <td>3261</td>\n",
       "      <td>0</td>\n",
       "      <td>1000</td>\n",
       "      <td>1000</td>\n",
       "      <td>1000</td>\n",
       "      <td>0</td>\n",
       "      <td>2000</td>\n",
       "      <td>1</td>\n",
       "      <td>24</td>\n",
       "    </tr>\n",
       "    <tr>\n",
       "      <th>3</th>\n",
       "      <td>90000</td>\n",
       "      <td>2</td>\n",
       "      <td>2</td>\n",
       "      <td>2</td>\n",
       "      <td>34</td>\n",
       "      <td>0</td>\n",
       "      <td>0</td>\n",
       "      <td>0</td>\n",
       "      <td>0</td>\n",
       "      <td>0</td>\n",
       "      <td>...</td>\n",
       "      <td>14948</td>\n",
       "      <td>15549</td>\n",
       "      <td>1518</td>\n",
       "      <td>1500</td>\n",
       "      <td>1000</td>\n",
       "      <td>1000</td>\n",
       "      <td>1000</td>\n",
       "      <td>5000</td>\n",
       "      <td>0</td>\n",
       "      <td>33</td>\n",
       "    </tr>\n",
       "    <tr>\n",
       "      <th>4</th>\n",
       "      <td>50000</td>\n",
       "      <td>2</td>\n",
       "      <td>2</td>\n",
       "      <td>1</td>\n",
       "      <td>37</td>\n",
       "      <td>0</td>\n",
       "      <td>0</td>\n",
       "      <td>0</td>\n",
       "      <td>0</td>\n",
       "      <td>0</td>\n",
       "      <td>...</td>\n",
       "      <td>28959</td>\n",
       "      <td>29547</td>\n",
       "      <td>2000</td>\n",
       "      <td>2019</td>\n",
       "      <td>1200</td>\n",
       "      <td>1100</td>\n",
       "      <td>1069</td>\n",
       "      <td>1000</td>\n",
       "      <td>0</td>\n",
       "      <td>36</td>\n",
       "    </tr>\n",
       "    <tr>\n",
       "      <th>5</th>\n",
       "      <td>50000</td>\n",
       "      <td>1</td>\n",
       "      <td>2</td>\n",
       "      <td>1</td>\n",
       "      <td>57</td>\n",
       "      <td>-1</td>\n",
       "      <td>0</td>\n",
       "      <td>-1</td>\n",
       "      <td>0</td>\n",
       "      <td>0</td>\n",
       "      <td>...</td>\n",
       "      <td>19146</td>\n",
       "      <td>19131</td>\n",
       "      <td>2000</td>\n",
       "      <td>36681</td>\n",
       "      <td>10000</td>\n",
       "      <td>9000</td>\n",
       "      <td>689</td>\n",
       "      <td>679</td>\n",
       "      <td>0</td>\n",
       "      <td>54</td>\n",
       "    </tr>\n",
       "  </tbody>\n",
       "</table>\n",
       "<p>5 rows × 25 columns</p>\n",
       "</div>"
      ],
      "text/plain": [
       "    credit_limit  gender  EDUCATION  MARRIAGE  AGE  PAY_0  PAY_2  PAY_3  \\\n",
       "ID                                                                        \n",
       "1          20000       2          2         1   24      2      2     -1   \n",
       "2         120000       2          2         2   26     -1      2      0   \n",
       "3          90000       2          2         2   34      0      0      0   \n",
       "4          50000       2          2         1   37      0      0      0   \n",
       "5          50000       1          2         1   57     -1      0     -1   \n",
       "\n",
       "    PAY_4  PAY_5   ...     BILL_AMT5  BILL_AMT6  PAY_AMT1  PAY_AMT2  PAY_AMT3  \\\n",
       "ID                 ...                                                          \n",
       "1      -1     -2   ...             0          0         0       689         0   \n",
       "2       0      0   ...          3455       3261         0      1000      1000   \n",
       "3       0      0   ...         14948      15549      1518      1500      1000   \n",
       "4       0      0   ...         28959      29547      2000      2019      1200   \n",
       "5       0      0   ...         19146      19131      2000     36681     10000   \n",
       "\n",
       "    PAY_AMT4  PAY_AMT5  PAY_AMT6  Oct_Default  age_bin  \n",
       "ID                                                      \n",
       "1          0         0         0            1       21  \n",
       "2       1000         0      2000            1       24  \n",
       "3       1000      1000      5000            0       33  \n",
       "4       1100      1069      1000            0       36  \n",
       "5       9000       689       679            0       54  \n",
       "\n",
       "[5 rows x 25 columns]"
      ]
     },
     "execution_count": 13,
     "metadata": {},
     "output_type": "execute_result"
    }
   ],
   "source": [
    "accts_copy['age_bin']=accts_copy['age_bin'].astype(int)     # Convert bins to integer.\n",
    "accts_copy.head()"
   ]
  },
  {
   "cell_type": "code",
   "execution_count": 14,
   "metadata": {},
   "outputs": [
    {
     "data": {
      "text/html": [
       "<div>\n",
       "<style scoped>\n",
       "    .dataframe tbody tr th:only-of-type {\n",
       "        vertical-align: middle;\n",
       "    }\n",
       "\n",
       "    .dataframe tbody tr th {\n",
       "        vertical-align: top;\n",
       "    }\n",
       "\n",
       "    .dataframe thead th {\n",
       "        text-align: right;\n",
       "    }\n",
       "</style>\n",
       "<table border=\"1\" class=\"dataframe\">\n",
       "  <thead>\n",
       "    <tr style=\"text-align: right;\">\n",
       "      <th>age_bin</th>\n",
       "      <th>18</th>\n",
       "      <th>21</th>\n",
       "      <th>24</th>\n",
       "      <th>27</th>\n",
       "      <th>30</th>\n",
       "      <th>33</th>\n",
       "      <th>36</th>\n",
       "      <th>39</th>\n",
       "      <th>42</th>\n",
       "      <th>45</th>\n",
       "      <th>48</th>\n",
       "      <th>51</th>\n",
       "      <th>54</th>\n",
       "      <th>57</th>\n",
       "      <th>60</th>\n",
       "      <th>63</th>\n",
       "      <th>66</th>\n",
       "      <th>69</th>\n",
       "      <th>72</th>\n",
       "    </tr>\n",
       "    <tr>\n",
       "      <th>Oct_Default</th>\n",
       "      <th></th>\n",
       "      <th></th>\n",
       "      <th></th>\n",
       "      <th></th>\n",
       "      <th></th>\n",
       "      <th></th>\n",
       "      <th></th>\n",
       "      <th></th>\n",
       "      <th></th>\n",
       "      <th></th>\n",
       "      <th></th>\n",
       "      <th></th>\n",
       "      <th></th>\n",
       "      <th></th>\n",
       "      <th></th>\n",
       "      <th></th>\n",
       "      <th></th>\n",
       "      <th></th>\n",
       "      <th></th>\n",
       "    </tr>\n",
       "  </thead>\n",
       "  <tbody>\n",
       "    <tr>\n",
       "      <th>0</th>\n",
       "      <td>53</td>\n",
       "      <td>1901</td>\n",
       "      <td>3044</td>\n",
       "      <td>3529</td>\n",
       "      <td>2847</td>\n",
       "      <td>2670</td>\n",
       "      <td>2314</td>\n",
       "      <td>1930</td>\n",
       "      <td>1559</td>\n",
       "      <td>1156</td>\n",
       "      <td>892</td>\n",
       "      <td>668</td>\n",
       "      <td>376</td>\n",
       "      <td>197</td>\n",
       "      <td>95</td>\n",
       "      <td>59</td>\n",
       "      <td>27</td>\n",
       "      <td>13</td>\n",
       "      <td>5</td>\n",
       "    </tr>\n",
       "    <tr>\n",
       "      <th>1</th>\n",
       "      <td>14</td>\n",
       "      <td>715</td>\n",
       "      <td>868</td>\n",
       "      <td>873</td>\n",
       "      <td>669</td>\n",
       "      <td>711</td>\n",
       "      <td>621</td>\n",
       "      <td>554</td>\n",
       "      <td>427</td>\n",
       "      <td>381</td>\n",
       "      <td>308</td>\n",
       "      <td>208</td>\n",
       "      <td>133</td>\n",
       "      <td>75</td>\n",
       "      <td>36</td>\n",
       "      <td>21</td>\n",
       "      <td>9</td>\n",
       "      <td>3</td>\n",
       "      <td>4</td>\n",
       "    </tr>\n",
       "  </tbody>\n",
       "</table>\n",
       "</div>"
      ],
      "text/plain": [
       "age_bin      18    21    24    27    30    33    36    39    42    45   48  \\\n",
       "Oct_Default                                                                  \n",
       "0            53  1901  3044  3529  2847  2670  2314  1930  1559  1156  892   \n",
       "1            14   715   868   873   669   711   621   554   427   381  308   \n",
       "\n",
       "age_bin       51   54   57  60  63  66  69  72  \n",
       "Oct_Default                                     \n",
       "0            668  376  197  95  59  27  13   5  \n",
       "1            208  133   75  36  21   9   3   4  "
      ]
     },
     "execution_count": 14,
     "metadata": {},
     "output_type": "execute_result"
    }
   ],
   "source": [
    "age_accts = pd.crosstab(accts_copy['age_bin'],accts_copy['Oct_Default'])\n",
    "age_accts.T"
   ]
  },
  {
   "cell_type": "markdown",
   "metadata": {},
   "source": [
    "### Here, we normalize by the counts in the bins and rename the target-classes."
   ]
  },
  {
   "cell_type": "code",
   "execution_count": 15,
   "metadata": {},
   "outputs": [],
   "source": [
    "for i in range(len(age_accts)):\n",
    "    age_accts.iloc[i,:] = age_accts.iloc[i,:]/age_accts.iloc[i,:].sum()"
   ]
  },
  {
   "cell_type": "code",
   "execution_count": 16,
   "metadata": {},
   "outputs": [],
   "source": [
    "age_accts = age_accts.rename(columns={0:'Non-default',1:'Default'})"
   ]
  },
  {
   "cell_type": "code",
   "execution_count": 18,
   "metadata": {},
   "outputs": [
    {
     "data": {
      "text/plain": [
       "Text(0.5, 0, 'AGE (years)')"
      ]
     },
     "execution_count": 18,
     "metadata": {},
     "output_type": "execute_result"
    },
    {
     "data": {
      "image/png": "[encoded data removed]",
      "text/plain": [
       "<Figure size 432x288 with 1 Axes>"
      ]
     },
     "metadata": {},
     "output_type": "display_data"
    }
   ],
   "source": [
    "age_accts.plot(kind='bar', stacked=True, title='Positive Class by AGE', rot=0)\n",
    "plt.xlabel('AGE (years)')"
   ]
  },
  {
   "cell_type": "markdown",
   "metadata": {},
   "source": [
    "### From the binning-plot, we can see a fairly consistent risk-profile across all age groups.  (The last group had only 8 total accounts, so it may not be very representative of the behavior in that age group.  More research would be needed to clarify this.)\n",
    "\n",
    "### With this method we can similarly look at risk-profiles based on credit limits."
   ]
  },
  {
   "cell_type": "code",
   "execution_count": 12,
   "metadata": {},
   "outputs": [
    {
     "data": {
      "image/png": "[encoded data removed]",
      "text/plain": [
       "<Figure size 720x432 with 1 Axes>"
      ]
     },
     "metadata": {},
     "output_type": "display_data"
    }
   ],
   "source": [
    "plt.figure(figsize=(10, 6))\n",
    "plt.hist([accts_0['credit_limit'],accts_1['credit_limit']], stacked=True, bins=50, color = ['c','b'])\n",
    "plt.title('Distribution of Customer Credit-limits')\n",
    "labels= ['Non-Default', 'Default']\n",
    "plt.legend(labels, fontsize=12)\n",
    "plt.xlabel('Credit Limits (NT$s; NT$33:$1US in 2005)')\n",
    "plt.ylabel('Frequency')\n",
    "plt.show()"
   ]
  },
  {
   "cell_type": "code",
   "execution_count": 15,
   "metadata": {},
   "outputs": [],
   "source": [
    "credit_bins = [*range(0, accts_copy['credit_limit'].max()+1, int(accts_copy['credit_limit'].max()/50))]"
   ]
  },
  {
   "cell_type": "code",
   "execution_count": 16,
   "metadata": {},
   "outputs": [],
   "source": [
    "for i in range(len(credit_bins)-1):\n",
    "    accts_copy.loc[(accts_copy['credit_limit'] > credit_bins[i]) & (accts_copy['credit_limit'] <= credit_bins[i+1]),'credit_bin'] = credit_bins[i]"
   ]
  },
  {
   "cell_type": "code",
   "execution_count": 17,
   "metadata": {},
   "outputs": [],
   "source": [
    "accts_copy['credit_bin']=accts_copy['credit_bin'].astype(int)     # Convert bins to integer."
   ]
  },
  {
   "cell_type": "code",
   "execution_count": 18,
   "metadata": {},
   "outputs": [],
   "source": [
    "credit_accts = pd.crosstab(accts_copy['credit_bin'],accts_copy['Oct_Default'])"
   ]
  },
  {
   "cell_type": "code",
   "execution_count": 19,
   "metadata": {},
   "outputs": [],
   "source": [
    "for i in range(len(credit_accts)):\n",
    "    credit_accts.iloc[i,:] = credit_accts.iloc[i,:]/credit_accts.iloc[i,:].sum()"
   ]
  },
  {
   "cell_type": "code",
   "execution_count": 20,
   "metadata": {},
   "outputs": [],
   "source": [
    "credit_accts = credit_accts.rename(columns={0:'Non-default',1:'Default'})"
   ]
  },
  {
   "cell_type": "code",
   "execution_count": 21,
   "metadata": {},
   "outputs": [],
   "source": [
    "credit_accts = credit_accts.rename(index={20000:20, 40000:40, 60000:60, 80000:80, 100000:100,\n",
    "                                  120000:120, 140000:140, 160000:160, 180000:180, 200000:200,\n",
    "                                  220000:220, 240000:240, 260000:260, 280000:280, 300000:300,\n",
    "                                  320000:320, 340000:340, 360000:360, 380000:380, 400000:400,\n",
    "                                  420000:420, 440000:440, 460000:460, 480000:480, 500000:500,\n",
    "                                  520000:520, 540000:540, 560000:560, 580000:580, 600000:600,\n",
    "                                  620000:620, 640000:640, 660000:660, 680000:680, 700000:700,\n",
    "                                  720000:720, 740000:740, 760000:760, 780000:780, 980000:980\n",
    "                                 })"
   ]
  },
  {
   "cell_type": "code",
   "execution_count": 23,
   "metadata": {},
   "outputs": [
    {
     "data": {
      "text/plain": [
       "Text(0.5, 0, 'Credit Limit (NT$-000s; NT$33:$1US in 2005)')"
      ]
     },
     "execution_count": 23,
     "metadata": {},
     "output_type": "execute_result"
    },
    {
     "data": {
      "image/png": "[encoded data removed]",
      "text/plain": [
       "<Figure size 432x288 with 1 Axes>"
      ]
     },
     "metadata": {},
     "output_type": "display_data"
    }
   ],
   "source": [
    "credit_accts.plot(kind='bar', stacked=True, title='Positive Class by Credit Limits', rot=60, color=['c','b'])\n",
    "plt.xlabel('Credit Limit (NT$-000s; NT$33:$1US in 2005)')"
   ]
  },
  {
   "cell_type": "markdown",
   "metadata": {},
   "source": [
    "### We can see that the risk-profile seems to be inversely related to increasing Credit-limits.  (In the credit-bin range above NT\\$540,000, the total accounts drops to under 30.)\n",
    "\n",
    "### Let's look at the 'PAY_0' columns similarly."
   ]
  },
  {
   "cell_type": "code",
   "execution_count": 29,
   "metadata": {},
   "outputs": [
    {
     "data": {
      "text/plain": [
       "Text(0.5, 0, 'Sept-2005 Payment Status')"
      ]
     },
     "execution_count": 29,
     "metadata": {},
     "output_type": "execute_result"
    },
    {
     "data": {
      "image/png": "[encoded data removed]",
      "text/plain": [
       "<Figure size 432x288 with 1 Axes>"
      ]
     },
     "metadata": {},
     "output_type": "display_data"
    }
   ],
   "source": [
    "pay_sep = pd.crosstab(accts['PAY_0'], accts['Oct_Default'])\n",
    "pay_sep = pay_sep.rename(columns={0:'Non-default',1:'Default'})\n",
    "pay_sep.plot(kind='bar', stacked=True, title='Positive Class by Sept-2005 Payment Status', rot=0, color=['0.5','m'])\n",
    "plt.xlabel('Sept-2005 Payment Status')"
   ]
  },
  {
   "cell_type": "code",
   "execution_count": 30,
   "metadata": {},
   "outputs": [
    {
     "data": {
      "text/plain": [
       "Text(0.5, 0, 'Sept-2005 Payment Status')"
      ]
     },
     "execution_count": 30,
     "metadata": {},
     "output_type": "execute_result"
    },
    {
     "data": {
      "image/png": "[encoded data removed]",
      "text/plain": [
       "<Figure size 432x288 with 1 Axes>"
      ]
     },
     "metadata": {},
     "output_type": "display_data"
    }
   ],
   "source": [
    "for i in range(-2,9):\n",
    "    pay_sep.loc[i,:] = pay_sep.loc[i,:]/pay_sep.loc[i,:].sum()\n",
    "pay_sep = pay_sep.rename(columns={0:'Non-default',1:'Default'})\n",
    "pay_sep.plot(kind='bar', stacked=True, title='Normalized Positive Class by Sept-2005 Payment Status', rot=0, color=['0.5','m'])\n",
    "plt.xlabel('Sept-2005 Payment Status')"
   ]
  },
  {
   "cell_type": "markdown",
   "metadata": {},
   "source": [
    "### At least for the '0,' '1' and '2' categories where the total accounts are significant, there seems to be a trend visible.\n",
    "\n",
    "### Let's continue with the 'PAY_2' to 'PAY_6' columns, starting with August-2005."
   ]
  },
  {
   "cell_type": "code",
   "execution_count": 155,
   "metadata": {},
   "outputs": [
    {
     "data": {
      "text/plain": [
       "Text(0.5, 0, 'Aug-2005 Payment Status')"
      ]
     },
     "execution_count": 155,
     "metadata": {},
     "output_type": "execute_result"
    },
    {
     "data": {
      "image/png": "[encoded data removed]",
      "text/plain": [
       "<Figure size 432x288 with 1 Axes>"
      ]
     },
     "metadata": {},
     "output_type": "display_data"
    }
   ],
   "source": [
    "pay_aug = pd.crosstab(accts['PAY_2'], accts['Oct_Default'])\n",
    "pay_aug.plot(kind='bar', stacked=True, title='Positive Class by Aug-2005 Payment Status', rot=0)\n",
    "plt.xlabel('Aug-2005 Payment Status')"
   ]
  },
  {
   "cell_type": "code",
   "execution_count": 158,
   "metadata": {},
   "outputs": [
    {
     "data": {
      "text/plain": [
       "Text(0.5, 0, 'Aug-2005 Payment Status')"
      ]
     },
     "execution_count": 158,
     "metadata": {},
     "output_type": "execute_result"
    },
    {
     "data": {
      "image/png": "[encoded data removed]",
      "text/plain": [
       "<Figure size 432x288 with 1 Axes>"
      ]
     },
     "metadata": {},
     "output_type": "display_data"
    }
   ],
   "source": [
    "for i in range(-2,9):\n",
    "    pay_aug.loc[i,:] = pay_aug.loc[i,:]/pay_aug.loc[i,:].sum()\n",
    "pay_aug = pay_aug.rename(columns={0:'Non-default',1:'Default'})\n",
    "pay_aug.plot(kind='bar', stacked=True, title='Normalized Positive Class by Aug-2005 Payment Status', rot=0)\n",
    "plt.xlabel('Aug-2005 Payment Status')"
   ]
  },
  {
   "cell_type": "markdown",
   "metadata": {},
   "source": [
    "### July-2005 Payment-history status:"
   ]
  },
  {
   "cell_type": "code",
   "execution_count": 164,
   "metadata": {},
   "outputs": [
    {
     "data": {
      "text/plain": [
       "Text(0.5, 0, 'Jul-2005 Payment Status')"
      ]
     },
     "execution_count": 164,
     "metadata": {},
     "output_type": "execute_result"
    },
    {
     "data": {
      "image/png": "[encoded data removed]",
      "text/plain": [
       "<Figure size 432x288 with 1 Axes>"
      ]
     },
     "metadata": {},
     "output_type": "display_data"
    }
   ],
   "source": [
    "pay_jul = pd.crosstab(accts['PAY_3'], accts['Oct_Default'])\n",
    "pay_jul.plot(kind='bar', stacked=True, title='Positive Class by Jul-2005 Payment Status', rot=0)\n",
    "plt.xlabel('Jul-2005 Payment Status')"
   ]
  },
  {
   "cell_type": "code",
   "execution_count": 165,
   "metadata": {},
   "outputs": [
    {
     "data": {
      "text/plain": [
       "Text(0.5, 0, 'Jul-2005 Payment Status')"
      ]
     },
     "execution_count": 165,
     "metadata": {},
     "output_type": "execute_result"
    },
    {
     "data": {
      "image/png": "[encoded data removed]",
      "text/plain": [
       "<Figure size 432x288 with 1 Axes>"
      ]
     },
     "metadata": {},
     "output_type": "display_data"
    }
   ],
   "source": [
    "for i in range(-2,9):\n",
    "    pay_jul.loc[i,:] = pay_jul.loc[i,:]/pay_jul.loc[i,:].sum()\n",
    "pay_jul = pay_jul.rename(columns={0:'Non-default',1:'Default'})\n",
    "pay_jul.plot(kind='bar', stacked=True, title='Normalized Positive Class by Jul-2005 Payment Status', rot=0)\n",
    "plt.xlabel('Jul-2005 Payment Status')"
   ]
  },
  {
   "cell_type": "markdown",
   "metadata": {},
   "source": [
    "### June-2005 Payment-history status:"
   ]
  },
  {
   "cell_type": "code",
   "execution_count": 166,
   "metadata": {},
   "outputs": [
    {
     "data": {
      "text/plain": [
       "Text(0.5, 0, 'Jun-2005 Payment Status')"
      ]
     },
     "execution_count": 166,
     "metadata": {},
     "output_type": "execute_result"
    },
    {
     "data": {
      "image/png": "[encoded data removed]",
      "text/plain": [
       "<Figure size 432x288 with 1 Axes>"
      ]
     },
     "metadata": {},
     "output_type": "display_data"
    }
   ],
   "source": [
    "pay_jun = pd.crosstab(accts['PAY_4'], accts['Oct_Default'])\n",
    "pay_jun.plot(kind='bar', stacked=True, title='Positive Class by Jun-2005 Payment Status', rot=0)\n",
    "plt.xlabel('Jun-2005 Payment Status')"
   ]
  },
  {
   "cell_type": "code",
   "execution_count": 167,
   "metadata": {},
   "outputs": [
    {
     "data": {
      "text/plain": [
       "Text(0.5, 0, 'Jul-2005 Payment Status')"
      ]
     },
     "execution_count": 167,
     "metadata": {},
     "output_type": "execute_result"
    },
    {
     "data": {
      "image/png": "[encoded data removed]",
      "text/plain": [
       "<Figure size 432x288 with 1 Axes>"
      ]
     },
     "metadata": {},
     "output_type": "display_data"
    }
   ],
   "source": [
    "for i in range(-2,9):\n",
    "    pay_jun.loc[i,:] = pay_jun.loc[i,:]/pay_jun.loc[i,:].sum()\n",
    "pay_jun = pay_jun.rename(columns={0:'Non-default',1:'Default'})\n",
    "pay_jun.plot(kind='bar', stacked=True, title='Normalized Positive Class by Jul-2005 Payment Status', rot=0)\n",
    "plt.xlabel('Jul-2005 Payment Status')"
   ]
  },
  {
   "cell_type": "markdown",
   "metadata": {},
   "source": [
    "### May-2005 Payment-history status:"
   ]
  },
  {
   "cell_type": "code",
   "execution_count": 168,
   "metadata": {},
   "outputs": [
    {
     "data": {
      "text/plain": [
       "Text(0.5, 0, 'May-2005 Payment Status')"
      ]
     },
     "execution_count": 168,
     "metadata": {},
     "output_type": "execute_result"
    },
    {
     "data": {
      "image/png": "[encoded data removed]",
      "text/plain": [
       "<Figure size 432x288 with 1 Axes>"
      ]
     },
     "metadata": {},
     "output_type": "display_data"
    }
   ],
   "source": [
    "pay_may = pd.crosstab(accts['PAY_5'], accts['Oct_Default'])\n",
    "pay_may.plot(kind='bar', stacked=True, title='Positive Class by May-2005 Payment Status', rot=0)\n",
    "plt.xlabel('May-2005 Payment Status')"
   ]
  },
  {
   "cell_type": "code",
   "execution_count": 170,
   "metadata": {},
   "outputs": [
    {
     "data": {
      "text/plain": [
       "Text(0.5, 0, 'May-2005 Payment Status')"
      ]
     },
     "execution_count": 170,
     "metadata": {},
     "output_type": "execute_result"
    },
    {
     "data": {
      "image/png": "[encoded data removed]",
      "text/plain": [
       "<Figure size 432x288 with 1 Axes>"
      ]
     },
     "metadata": {},
     "output_type": "display_data"
    }
   ],
   "source": [
    "pay_may.loc[-2,:] = pay_may.loc[-2,:]/pay_may.loc[-2,:].sum()\n",
    "pay_may.loc[-1,:] = pay_may.loc[-1,:]/pay_may.loc[-1,:].sum()\n",
    "pay_may.loc[0,:] = pay_may.loc[0,:]/pay_may.loc[0,:].sum()\n",
    "for i in range(2,9):\n",
    "    pay_may.loc[i,:] = pay_may.loc[i,:]/pay_may.loc[i,:].sum()\n",
    "pay_may = pay_may.rename(columns={0:'Non-default',1:'Default'})\n",
    "pay_may.plot(kind='bar', stacked=True, title='Normalized Positive Class by May-2005 Payment Status', rot=0)\n",
    "plt.xlabel('May-2005 Payment Status')"
   ]
  },
  {
   "cell_type": "markdown",
   "metadata": {},
   "source": [
    "### April-2005 Payment-history status:"
   ]
  },
  {
   "cell_type": "code",
   "execution_count": 171,
   "metadata": {},
   "outputs": [
    {
     "data": {
      "text/plain": [
       "Text(0.5, 0, 'Apr-2005 Payment Status')"
      ]
     },
     "execution_count": 171,
     "metadata": {},
     "output_type": "execute_result"
    },
    {
     "data": {
      "image/png": "[encoded data removed]",
      "text/plain": [
       "<Figure size 432x288 with 1 Axes>"
      ]
     },
     "metadata": {},
     "output_type": "display_data"
    }
   ],
   "source": [
    "pay_apr = pd.crosstab(accts['PAY_6'], accts['Oct_Default'])\n",
    "pay_apr.plot(kind='bar', stacked=True, title='Positive Class by Apr-2005 Payment Status', rot=0)\n",
    "plt.xlabel('Apr-2005 Payment Status')"
   ]
  },
  {
   "cell_type": "code",
   "execution_count": 172,
   "metadata": {},
   "outputs": [
    {
     "data": {
      "text/plain": [
       "Text(0.5, 0, 'Apr-2005 Payment Status')"
      ]
     },
     "execution_count": 172,
     "metadata": {},
     "output_type": "execute_result"
    },
    {
     "data": {
      "image/png": "[encoded data removed]",
      "text/plain": [
       "<Figure size 432x288 with 1 Axes>"
      ]
     },
     "metadata": {},
     "output_type": "display_data"
    }
   ],
   "source": [
    "pay_apr.loc[-2,:] = pay_apr.loc[-2,:]/pay_apr.loc[-2,:].sum()\n",
    "pay_apr.loc[-1,:] = pay_apr.loc[-1,:]/pay_apr.loc[-1,:].sum()\n",
    "pay_apr.loc[0,:] = pay_apr.loc[0,:]/pay_apr.loc[0,:].sum()\n",
    "for i in range(2,9):\n",
    "    pay_apr.loc[i,:] = pay_apr.loc[i,:]/pay_apr.loc[i,:].sum()\n",
    "pay_apr = pay_apr.rename(columns={0:'Non-default',1:'Default'})\n",
    "pay_apr.plot(kind='bar', stacked=True, title='Normalized Positive Class by Apr-2005 Payment Status', rot=0)\n",
    "plt.xlabel('Apr-2005 Payment Status')"
   ]
  },
  {
   "cell_type": "markdown",
   "metadata": {},
   "source": [
    "### We see the same general pattern for payment-history statuses in each of the six months in the data.\n",
    "\n",
    "### While our attention rests on the Pay-history statuses, let's quantify the average statuses by month for the two classes."
   ]
  },
  {
   "cell_type": "code",
   "execution_count": 238,
   "metadata": {},
   "outputs": [],
   "source": [
    "pay_history_0 = []   # This list contains the average pay-history statuses for the Non-default group.\n",
    "pay_history_0.append(accts_0['PAY_6'].mean())\n",
    "pay_history_0.append(accts_0['PAY_5'].mean())\n",
    "pay_history_0.append(accts_0['PAY_4'].mean())\n",
    "pay_history_0.append(accts_0['PAY_3'].mean())\n",
    "pay_history_0.append(accts_0['PAY_2'].mean())\n",
    "pay_history_0.append(accts_0['PAY_0'].mean())"
   ]
  },
  {
   "cell_type": "code",
   "execution_count": 239,
   "metadata": {},
   "outputs": [],
   "source": [
    "pay_history_1 = []  # This list contains the average pay-history statuses for the Default group.\n",
    "pay_history_1.append(accts_1['PAY_6'].mean())\n",
    "pay_history_1.append(accts_1['PAY_5'].mean())\n",
    "pay_history_1.append(accts_1['PAY_4'].mean())\n",
    "pay_history_1.append(accts_1['PAY_3'].mean())\n",
    "pay_history_1.append(accts_1['PAY_2'].mean())\n",
    "pay_history_1.append(accts_1['PAY_0'].mean())"
   ]
  },
  {
   "cell_type": "markdown",
   "metadata": {},
   "source": [
    "### Let's plot these two trends."
   ]
  },
  {
   "cell_type": "code",
   "execution_count": 250,
   "metadata": {},
   "outputs": [
    {
     "data": {
      "text/plain": [
       "<matplotlib.legend.Legend at 0x1a39eec5f8>"
      ]
     },
     "execution_count": 250,
     "metadata": {},
     "output_type": "execute_result"
    },
    {
     "data": {
      "image/png": "[encoded data removed]",
      "text/plain": [
       "<Figure size 720x432 with 1 Axes>"
      ]
     },
     "metadata": {},
     "output_type": "display_data"
    }
   ],
   "source": [
    "plt.figure(figsize=(10,6))\n",
    "plt.plot(pay_history_0,lw=3,label='Non-default')\n",
    "plt.plot(pay_history_1,lw=3,label='Default')\n",
    "plt.title('Monthly Average Pay-history Statuses in 2005',fontsize='xx-large')\n",
    "loc,labels = plt.xticks()\n",
    "plt.ylim(-1,1)\n",
    "labels=['','April','May','June','July','August','September']\n",
    "plt.xticks(loc,labels,fontsize='xx-large')\n",
    "plt.yticks(fontsize='xx-large')\n",
    "plt.legend(shadow=True, fontsize='xx-large')"
   ]
  },
  {
   "cell_type": "markdown",
   "metadata": {},
   "source": [
    "### We can see that the average pay-history statuses show some level of delayed payments for the Default class, while the average pay-history statuses are mostly current for the Non-default class.  This is still the case in September-2005 despite the upward trend for both groups towards an average-delay status.\n",
    "\n",
    "### Let's look quickly at the distribution for the 'BILL_AMT1' (Sept-2005 Billing) column:"
   ]
  },
  {
   "cell_type": "code",
   "execution_count": 173,
   "metadata": {},
   "outputs": [
    {
     "data": {
      "image/png": "[encoded data removed]",
      "text/plain": [
       "<Figure size 720x432 with 1 Axes>"
      ]
     },
     "metadata": {},
     "output_type": "display_data"
    }
   ],
   "source": [
    "plt.figure(figsize=(10, 6))\n",
    "plt.hist([accts_0['BILL_AMT1'],accts_1['BILL_AMT1']], stacked=True, bins=50)\n",
    "plt.title('Distribution of Customer Sep-2005 Billing')\n",
    "labels= ['Non-Default', 'Default']\n",
    "plt.legend(labels, fontsize=12)\n",
    "plt.xlabel('Sept-Billing (NT$s; NT$33:$1US in 2005)')\n",
    "plt.ylabel('Frequency')\n",
    "plt.show()"
   ]
  },
  {
   "cell_type": "markdown",
   "metadata": {},
   "source": [
    "### We see a very tall, very skewed distribution with a long tail.  There are also a large number of negative billing amounts.\n",
    "\n",
    "### Let's take a closer look at these accounts with negative billing amounts in September-2005, for the Default-class in particular.  This analysis was assisted by my local instructor, Douglas Strodtman."
   ]
  },
  {
   "cell_type": "code",
   "execution_count": 256,
   "metadata": {},
   "outputs": [
    {
     "data": {
      "text/html": [
       "<div>\n",
       "<style scoped>\n",
       "    .dataframe tbody tr th:only-of-type {\n",
       "        vertical-align: middle;\n",
       "    }\n",
       "\n",
       "    .dataframe tbody tr th {\n",
       "        vertical-align: top;\n",
       "    }\n",
       "\n",
       "    .dataframe thead th {\n",
       "        text-align: right;\n",
       "    }\n",
       "</style>\n",
       "<table border=\"1\" class=\"dataframe\">\n",
       "  <thead>\n",
       "    <tr style=\"text-align: right;\">\n",
       "      <th></th>\n",
       "      <th>PAY_0</th>\n",
       "      <th>PAY_2</th>\n",
       "      <th>PAY_3</th>\n",
       "      <th>PAY_4</th>\n",
       "      <th>PAY_5</th>\n",
       "      <th>PAY_6</th>\n",
       "      <th>PAY_AMT1</th>\n",
       "      <th>PAY_AMT2</th>\n",
       "      <th>PAY_AMT3</th>\n",
       "      <th>PAY_AMT4</th>\n",
       "      <th>PAY_AMT5</th>\n",
       "      <th>PAY_AMT6</th>\n",
       "      <th>BILL_AMT1</th>\n",
       "      <th>BILL_AMT2</th>\n",
       "      <th>BILL_AMT3</th>\n",
       "      <th>BILL_AMT4</th>\n",
       "      <th>BILL_AMT5</th>\n",
       "      <th>BILL_AMT6</th>\n",
       "      <th>credit_limit</th>\n",
       "    </tr>\n",
       "    <tr>\n",
       "      <th>ID</th>\n",
       "      <th></th>\n",
       "      <th></th>\n",
       "      <th></th>\n",
       "      <th></th>\n",
       "      <th></th>\n",
       "      <th></th>\n",
       "      <th></th>\n",
       "      <th></th>\n",
       "      <th></th>\n",
       "      <th></th>\n",
       "      <th></th>\n",
       "      <th></th>\n",
       "      <th></th>\n",
       "      <th></th>\n",
       "      <th></th>\n",
       "      <th></th>\n",
       "      <th></th>\n",
       "      <th></th>\n",
       "      <th></th>\n",
       "    </tr>\n",
       "  </thead>\n",
       "  <tbody>\n",
       "    <tr>\n",
       "      <th>27</th>\n",
       "      <td>1</td>\n",
       "      <td>-2</td>\n",
       "      <td>-1</td>\n",
       "      <td>-1</td>\n",
       "      <td>-1</td>\n",
       "      <td>-1</td>\n",
       "      <td>0</td>\n",
       "      <td>1000</td>\n",
       "      <td>0</td>\n",
       "      <td>500</td>\n",
       "      <td>0</td>\n",
       "      <td>1000</td>\n",
       "      <td>-109</td>\n",
       "      <td>-425</td>\n",
       "      <td>259</td>\n",
       "      <td>-57</td>\n",
       "      <td>127</td>\n",
       "      <td>-189</td>\n",
       "      <td>60000</td>\n",
       "    </tr>\n",
       "    <tr>\n",
       "      <th>174</th>\n",
       "      <td>1</td>\n",
       "      <td>-2</td>\n",
       "      <td>-2</td>\n",
       "      <td>-2</td>\n",
       "      <td>-2</td>\n",
       "      <td>-2</td>\n",
       "      <td>0</td>\n",
       "      <td>0</td>\n",
       "      <td>0</td>\n",
       "      <td>0</td>\n",
       "      <td>0</td>\n",
       "      <td>0</td>\n",
       "      <td>-709</td>\n",
       "      <td>-709</td>\n",
       "      <td>-709</td>\n",
       "      <td>-2898</td>\n",
       "      <td>-3272</td>\n",
       "      <td>-3272</td>\n",
       "      <td>50000</td>\n",
       "    </tr>\n",
       "    <tr>\n",
       "      <th>217</th>\n",
       "      <td>1</td>\n",
       "      <td>-2</td>\n",
       "      <td>-2</td>\n",
       "      <td>-2</td>\n",
       "      <td>-2</td>\n",
       "      <td>-2</td>\n",
       "      <td>0</td>\n",
       "      <td>0</td>\n",
       "      <td>0</td>\n",
       "      <td>0</td>\n",
       "      <td>0</td>\n",
       "      <td>0</td>\n",
       "      <td>-946</td>\n",
       "      <td>-946</td>\n",
       "      <td>-946</td>\n",
       "      <td>-946</td>\n",
       "      <td>-946</td>\n",
       "      <td>-946</td>\n",
       "      <td>240000</td>\n",
       "    </tr>\n",
       "    <tr>\n",
       "      <th>547</th>\n",
       "      <td>1</td>\n",
       "      <td>-2</td>\n",
       "      <td>-2</td>\n",
       "      <td>-2</td>\n",
       "      <td>-2</td>\n",
       "      <td>-2</td>\n",
       "      <td>0</td>\n",
       "      <td>0</td>\n",
       "      <td>0</td>\n",
       "      <td>0</td>\n",
       "      <td>0</td>\n",
       "      <td>0</td>\n",
       "      <td>-65</td>\n",
       "      <td>-65</td>\n",
       "      <td>-65</td>\n",
       "      <td>-65</td>\n",
       "      <td>-65</td>\n",
       "      <td>-200</td>\n",
       "      <td>220000</td>\n",
       "    </tr>\n",
       "    <tr>\n",
       "      <th>654</th>\n",
       "      <td>1</td>\n",
       "      <td>-2</td>\n",
       "      <td>-2</td>\n",
       "      <td>-1</td>\n",
       "      <td>-1</td>\n",
       "      <td>-2</td>\n",
       "      <td>0</td>\n",
       "      <td>200</td>\n",
       "      <td>42000</td>\n",
       "      <td>0</td>\n",
       "      <td>0</td>\n",
       "      <td>0</td>\n",
       "      <td>-200</td>\n",
       "      <td>-200</td>\n",
       "      <td>0</td>\n",
       "      <td>42000</td>\n",
       "      <td>0</td>\n",
       "      <td>0</td>\n",
       "      <td>450000</td>\n",
       "    </tr>\n",
       "    <tr>\n",
       "      <th>933</th>\n",
       "      <td>2</td>\n",
       "      <td>2</td>\n",
       "      <td>-1</td>\n",
       "      <td>-1</td>\n",
       "      <td>-1</td>\n",
       "      <td>-1</td>\n",
       "      <td>0</td>\n",
       "      <td>874</td>\n",
       "      <td>0</td>\n",
       "      <td>892</td>\n",
       "      <td>0</td>\n",
       "      <td>594</td>\n",
       "      <td>1989</td>\n",
       "      <td>-8</td>\n",
       "      <td>866</td>\n",
       "      <td>0</td>\n",
       "      <td>892</td>\n",
       "      <td>0</td>\n",
       "      <td>160000</td>\n",
       "    </tr>\n",
       "    <tr>\n",
       "      <th>960</th>\n",
       "      <td>-1</td>\n",
       "      <td>-1</td>\n",
       "      <td>-1</td>\n",
       "      <td>0</td>\n",
       "      <td>-1</td>\n",
       "      <td>-1</td>\n",
       "      <td>0</td>\n",
       "      <td>8348</td>\n",
       "      <td>0</td>\n",
       "      <td>23020</td>\n",
       "      <td>2367</td>\n",
       "      <td>3117</td>\n",
       "      <td>1338</td>\n",
       "      <td>-24</td>\n",
       "      <td>8324</td>\n",
       "      <td>5872</td>\n",
       "      <td>23020</td>\n",
       "      <td>2367</td>\n",
       "      <td>250000</td>\n",
       "    </tr>\n",
       "    <tr>\n",
       "      <th>1119</th>\n",
       "      <td>1</td>\n",
       "      <td>-2</td>\n",
       "      <td>-2</td>\n",
       "      <td>-2</td>\n",
       "      <td>-2</td>\n",
       "      <td>-2</td>\n",
       "      <td>0</td>\n",
       "      <td>0</td>\n",
       "      <td>0</td>\n",
       "      <td>0</td>\n",
       "      <td>0</td>\n",
       "      <td>0</td>\n",
       "      <td>-150</td>\n",
       "      <td>-150</td>\n",
       "      <td>-150</td>\n",
       "      <td>-150</td>\n",
       "      <td>-150</td>\n",
       "      <td>-150</td>\n",
       "      <td>140000</td>\n",
       "    </tr>\n",
       "    <tr>\n",
       "      <th>1664</th>\n",
       "      <td>-2</td>\n",
       "      <td>-2</td>\n",
       "      <td>-2</td>\n",
       "      <td>-2</td>\n",
       "      <td>-2</td>\n",
       "      <td>-2</td>\n",
       "      <td>0</td>\n",
       "      <td>4958</td>\n",
       "      <td>0</td>\n",
       "      <td>763</td>\n",
       "      <td>0</td>\n",
       "      <td>14472</td>\n",
       "      <td>-312</td>\n",
       "      <td>-2479</td>\n",
       "      <td>2479</td>\n",
       "      <td>2479</td>\n",
       "      <td>763</td>\n",
       "      <td>288</td>\n",
       "      <td>500000</td>\n",
       "    </tr>\n",
       "    <tr>\n",
       "      <th>1975</th>\n",
       "      <td>1</td>\n",
       "      <td>-2</td>\n",
       "      <td>-2</td>\n",
       "      <td>-2</td>\n",
       "      <td>-2</td>\n",
       "      <td>-2</td>\n",
       "      <td>0</td>\n",
       "      <td>0</td>\n",
       "      <td>0</td>\n",
       "      <td>0</td>\n",
       "      <td>0</td>\n",
       "      <td>0</td>\n",
       "      <td>-2000</td>\n",
       "      <td>-2000</td>\n",
       "      <td>-2000</td>\n",
       "      <td>-2000</td>\n",
       "      <td>-2000</td>\n",
       "      <td>-2000</td>\n",
       "      <td>130000</td>\n",
       "    </tr>\n",
       "    <tr>\n",
       "      <th>2009</th>\n",
       "      <td>1</td>\n",
       "      <td>-2</td>\n",
       "      <td>-2</td>\n",
       "      <td>-2</td>\n",
       "      <td>-2</td>\n",
       "      <td>-2</td>\n",
       "      <td>0</td>\n",
       "      <td>0</td>\n",
       "      <td>0</td>\n",
       "      <td>0</td>\n",
       "      <td>0</td>\n",
       "      <td>0</td>\n",
       "      <td>-301</td>\n",
       "      <td>-301</td>\n",
       "      <td>-301</td>\n",
       "      <td>-301</td>\n",
       "      <td>-301</td>\n",
       "      <td>-301</td>\n",
       "      <td>360000</td>\n",
       "    </tr>\n",
       "    <tr>\n",
       "      <th>2319</th>\n",
       "      <td>1</td>\n",
       "      <td>-2</td>\n",
       "      <td>-2</td>\n",
       "      <td>-1</td>\n",
       "      <td>-1</td>\n",
       "      <td>-2</td>\n",
       "      <td>0</td>\n",
       "      <td>200</td>\n",
       "      <td>3000</td>\n",
       "      <td>0</td>\n",
       "      <td>0</td>\n",
       "      <td>0</td>\n",
       "      <td>-200</td>\n",
       "      <td>-200</td>\n",
       "      <td>0</td>\n",
       "      <td>3000</td>\n",
       "      <td>0</td>\n",
       "      <td>0</td>\n",
       "      <td>360000</td>\n",
       "    </tr>\n",
       "    <tr>\n",
       "      <th>2532</th>\n",
       "      <td>1</td>\n",
       "      <td>-2</td>\n",
       "      <td>-2</td>\n",
       "      <td>-1</td>\n",
       "      <td>-1</td>\n",
       "      <td>-2</td>\n",
       "      <td>0</td>\n",
       "      <td>0</td>\n",
       "      <td>970</td>\n",
       "      <td>0</td>\n",
       "      <td>0</td>\n",
       "      <td>0</td>\n",
       "      <td>-2</td>\n",
       "      <td>-2</td>\n",
       "      <td>-2</td>\n",
       "      <td>968</td>\n",
       "      <td>-2</td>\n",
       "      <td>-2</td>\n",
       "      <td>240000</td>\n",
       "    </tr>\n",
       "    <tr>\n",
       "      <th>3206</th>\n",
       "      <td>1</td>\n",
       "      <td>-2</td>\n",
       "      <td>-1</td>\n",
       "      <td>0</td>\n",
       "      <td>0</td>\n",
       "      <td>-2</td>\n",
       "      <td>0</td>\n",
       "      <td>3000</td>\n",
       "      <td>0</td>\n",
       "      <td>0</td>\n",
       "      <td>0</td>\n",
       "      <td>0</td>\n",
       "      <td>-1730</td>\n",
       "      <td>-1730</td>\n",
       "      <td>1111</td>\n",
       "      <td>1111</td>\n",
       "      <td>-29</td>\n",
       "      <td>-3789</td>\n",
       "      <td>200000</td>\n",
       "    </tr>\n",
       "    <tr>\n",
       "      <th>3471</th>\n",
       "      <td>1</td>\n",
       "      <td>-2</td>\n",
       "      <td>-1</td>\n",
       "      <td>0</td>\n",
       "      <td>0</td>\n",
       "      <td>0</td>\n",
       "      <td>0</td>\n",
       "      <td>3000</td>\n",
       "      <td>0</td>\n",
       "      <td>0</td>\n",
       "      <td>0</td>\n",
       "      <td>2000</td>\n",
       "      <td>-4</td>\n",
       "      <td>-680</td>\n",
       "      <td>1824</td>\n",
       "      <td>1508</td>\n",
       "      <td>300</td>\n",
       "      <td>-206</td>\n",
       "      <td>140000</td>\n",
       "    </tr>\n",
       "    <tr>\n",
       "      <th>3673</th>\n",
       "      <td>-1</td>\n",
       "      <td>-1</td>\n",
       "      <td>-2</td>\n",
       "      <td>-2</td>\n",
       "      <td>-2</td>\n",
       "      <td>-2</td>\n",
       "      <td>0</td>\n",
       "      <td>0</td>\n",
       "      <td>0</td>\n",
       "      <td>0</td>\n",
       "      <td>0</td>\n",
       "      <td>0</td>\n",
       "      <td>26273</td>\n",
       "      <td>-73</td>\n",
       "      <td>-73</td>\n",
       "      <td>-73</td>\n",
       "      <td>-73</td>\n",
       "      <td>-73</td>\n",
       "      <td>100000</td>\n",
       "    </tr>\n",
       "    <tr>\n",
       "      <th>3758</th>\n",
       "      <td>1</td>\n",
       "      <td>-2</td>\n",
       "      <td>-2</td>\n",
       "      <td>-2</td>\n",
       "      <td>-2</td>\n",
       "      <td>-2</td>\n",
       "      <td>0</td>\n",
       "      <td>0</td>\n",
       "      <td>0</td>\n",
       "      <td>0</td>\n",
       "      <td>0</td>\n",
       "      <td>0</td>\n",
       "      <td>-200</td>\n",
       "      <td>-200</td>\n",
       "      <td>-200</td>\n",
       "      <td>-200</td>\n",
       "      <td>-200</td>\n",
       "      <td>-200</td>\n",
       "      <td>180000</td>\n",
       "    </tr>\n",
       "    <tr>\n",
       "      <th>3791</th>\n",
       "      <td>-1</td>\n",
       "      <td>-1</td>\n",
       "      <td>-1</td>\n",
       "      <td>-1</td>\n",
       "      <td>-1</td>\n",
       "      <td>-1</td>\n",
       "      <td>0</td>\n",
       "      <td>3140</td>\n",
       "      <td>2387</td>\n",
       "      <td>504</td>\n",
       "      <td>1989</td>\n",
       "      <td>19150</td>\n",
       "      <td>1197</td>\n",
       "      <td>-19</td>\n",
       "      <td>3121</td>\n",
       "      <td>2372</td>\n",
       "      <td>502</td>\n",
       "      <td>1979</td>\n",
       "      <td>250000</td>\n",
       "    </tr>\n",
       "    <tr>\n",
       "      <th>3946</th>\n",
       "      <td>-2</td>\n",
       "      <td>-2</td>\n",
       "      <td>-2</td>\n",
       "      <td>-2</td>\n",
       "      <td>-2</td>\n",
       "      <td>-2</td>\n",
       "      <td>0</td>\n",
       "      <td>0</td>\n",
       "      <td>0</td>\n",
       "      <td>0</td>\n",
       "      <td>0</td>\n",
       "      <td>0</td>\n",
       "      <td>-73</td>\n",
       "      <td>-73</td>\n",
       "      <td>-73</td>\n",
       "      <td>-73</td>\n",
       "      <td>-73</td>\n",
       "      <td>-73</td>\n",
       "      <td>500000</td>\n",
       "    </tr>\n",
       "    <tr>\n",
       "      <th>3963</th>\n",
       "      <td>1</td>\n",
       "      <td>-2</td>\n",
       "      <td>-2</td>\n",
       "      <td>-2</td>\n",
       "      <td>-1</td>\n",
       "      <td>-1</td>\n",
       "      <td>0</td>\n",
       "      <td>0</td>\n",
       "      <td>0</td>\n",
       "      <td>1603</td>\n",
       "      <td>0</td>\n",
       "      <td>0</td>\n",
       "      <td>-8</td>\n",
       "      <td>-8</td>\n",
       "      <td>-8</td>\n",
       "      <td>-8</td>\n",
       "      <td>1595</td>\n",
       "      <td>-5</td>\n",
       "      <td>340000</td>\n",
       "    </tr>\n",
       "    <tr>\n",
       "      <th>4240</th>\n",
       "      <td>-1</td>\n",
       "      <td>-1</td>\n",
       "      <td>-1</td>\n",
       "      <td>-1</td>\n",
       "      <td>-1</td>\n",
       "      <td>-1</td>\n",
       "      <td>0</td>\n",
       "      <td>3764</td>\n",
       "      <td>0</td>\n",
       "      <td>910</td>\n",
       "      <td>854</td>\n",
       "      <td>1131</td>\n",
       "      <td>1982</td>\n",
       "      <td>-18</td>\n",
       "      <td>3746</td>\n",
       "      <td>-4</td>\n",
       "      <td>906</td>\n",
       "      <td>850</td>\n",
       "      <td>360000</td>\n",
       "    </tr>\n",
       "    <tr>\n",
       "      <th>4498</th>\n",
       "      <td>1</td>\n",
       "      <td>-2</td>\n",
       "      <td>-1</td>\n",
       "      <td>0</td>\n",
       "      <td>-1</td>\n",
       "      <td>-1</td>\n",
       "      <td>0</td>\n",
       "      <td>1748</td>\n",
       "      <td>0</td>\n",
       "      <td>800</td>\n",
       "      <td>475</td>\n",
       "      <td>975</td>\n",
       "      <td>-9</td>\n",
       "      <td>-9</td>\n",
       "      <td>1739</td>\n",
       "      <td>1739</td>\n",
       "      <td>475</td>\n",
       "      <td>475</td>\n",
       "      <td>210000</td>\n",
       "    </tr>\n",
       "    <tr>\n",
       "      <th>4778</th>\n",
       "      <td>1</td>\n",
       "      <td>-2</td>\n",
       "      <td>-2</td>\n",
       "      <td>-2</td>\n",
       "      <td>-2</td>\n",
       "      <td>-2</td>\n",
       "      <td>0</td>\n",
       "      <td>0</td>\n",
       "      <td>0</td>\n",
       "      <td>0</td>\n",
       "      <td>0</td>\n",
       "      <td>0</td>\n",
       "      <td>-348</td>\n",
       "      <td>-738</td>\n",
       "      <td>-738</td>\n",
       "      <td>-1518</td>\n",
       "      <td>-1518</td>\n",
       "      <td>-1518</td>\n",
       "      <td>20000</td>\n",
       "    </tr>\n",
       "    <tr>\n",
       "      <th>4869</th>\n",
       "      <td>-1</td>\n",
       "      <td>-1</td>\n",
       "      <td>-2</td>\n",
       "      <td>-2</td>\n",
       "      <td>-2</td>\n",
       "      <td>-1</td>\n",
       "      <td>0</td>\n",
       "      <td>0</td>\n",
       "      <td>0</td>\n",
       "      <td>0</td>\n",
       "      <td>8058</td>\n",
       "      <td>0</td>\n",
       "      <td>9759</td>\n",
       "      <td>-241</td>\n",
       "      <td>-241</td>\n",
       "      <td>-241</td>\n",
       "      <td>-241</td>\n",
       "      <td>7817</td>\n",
       "      <td>200000</td>\n",
       "    </tr>\n",
       "    <tr>\n",
       "      <th>4871</th>\n",
       "      <td>-1</td>\n",
       "      <td>-1</td>\n",
       "      <td>-1</td>\n",
       "      <td>-1</td>\n",
       "      <td>-1</td>\n",
       "      <td>-1</td>\n",
       "      <td>0</td>\n",
       "      <td>4873</td>\n",
       "      <td>507</td>\n",
       "      <td>3787</td>\n",
       "      <td>1443</td>\n",
       "      <td>0</td>\n",
       "      <td>3735</td>\n",
       "      <td>-8</td>\n",
       "      <td>4865</td>\n",
       "      <td>507</td>\n",
       "      <td>3787</td>\n",
       "      <td>1443</td>\n",
       "      <td>260000</td>\n",
       "    </tr>\n",
       "    <tr>\n",
       "      <th>4953</th>\n",
       "      <td>-1</td>\n",
       "      <td>-1</td>\n",
       "      <td>-2</td>\n",
       "      <td>-2</td>\n",
       "      <td>-2</td>\n",
       "      <td>-2</td>\n",
       "      <td>0</td>\n",
       "      <td>0</td>\n",
       "      <td>0</td>\n",
       "      <td>0</td>\n",
       "      <td>0</td>\n",
       "      <td>0</td>\n",
       "      <td>2473</td>\n",
       "      <td>-27</td>\n",
       "      <td>-27</td>\n",
       "      <td>-27</td>\n",
       "      <td>-27</td>\n",
       "      <td>-27</td>\n",
       "      <td>360000</td>\n",
       "    </tr>\n",
       "    <tr>\n",
       "      <th>5012</th>\n",
       "      <td>-2</td>\n",
       "      <td>-2</td>\n",
       "      <td>-2</td>\n",
       "      <td>-2</td>\n",
       "      <td>-2</td>\n",
       "      <td>-1</td>\n",
       "      <td>2</td>\n",
       "      <td>322</td>\n",
       "      <td>0</td>\n",
       "      <td>0</td>\n",
       "      <td>88360</td>\n",
       "      <td>10045</td>\n",
       "      <td>4378</td>\n",
       "      <td>-324</td>\n",
       "      <td>-324</td>\n",
       "      <td>-324</td>\n",
       "      <td>-324</td>\n",
       "      <td>88036</td>\n",
       "      <td>280000</td>\n",
       "    </tr>\n",
       "    <tr>\n",
       "      <th>5124</th>\n",
       "      <td>1</td>\n",
       "      <td>-2</td>\n",
       "      <td>-1</td>\n",
       "      <td>-1</td>\n",
       "      <td>-2</td>\n",
       "      <td>-2</td>\n",
       "      <td>0</td>\n",
       "      <td>3312</td>\n",
       "      <td>0</td>\n",
       "      <td>0</td>\n",
       "      <td>0</td>\n",
       "      <td>0</td>\n",
       "      <td>-12</td>\n",
       "      <td>-12</td>\n",
       "      <td>3300</td>\n",
       "      <td>0</td>\n",
       "      <td>0</td>\n",
       "      <td>0</td>\n",
       "      <td>180000</td>\n",
       "    </tr>\n",
       "    <tr>\n",
       "      <th>5318</th>\n",
       "      <td>-1</td>\n",
       "      <td>-1</td>\n",
       "      <td>-2</td>\n",
       "      <td>-2</td>\n",
       "      <td>-2</td>\n",
       "      <td>-2</td>\n",
       "      <td>0</td>\n",
       "      <td>0</td>\n",
       "      <td>0</td>\n",
       "      <td>0</td>\n",
       "      <td>0</td>\n",
       "      <td>0</td>\n",
       "      <td>309</td>\n",
       "      <td>-77</td>\n",
       "      <td>-77</td>\n",
       "      <td>-270</td>\n",
       "      <td>-463</td>\n",
       "      <td>-656</td>\n",
       "      <td>80000</td>\n",
       "    </tr>\n",
       "    <tr>\n",
       "      <th>5801</th>\n",
       "      <td>1</td>\n",
       "      <td>-2</td>\n",
       "      <td>-2</td>\n",
       "      <td>-1</td>\n",
       "      <td>0</td>\n",
       "      <td>-1</td>\n",
       "      <td>0</td>\n",
       "      <td>0</td>\n",
       "      <td>10040</td>\n",
       "      <td>0</td>\n",
       "      <td>8299</td>\n",
       "      <td>0</td>\n",
       "      <td>0</td>\n",
       "      <td>-2008</td>\n",
       "      <td>-4016</td>\n",
       "      <td>4016</td>\n",
       "      <td>2008</td>\n",
       "      <td>8299</td>\n",
       "      <td>120000</td>\n",
       "    </tr>\n",
       "    <tr>\n",
       "      <th>...</th>\n",
       "      <td>...</td>\n",
       "      <td>...</td>\n",
       "      <td>...</td>\n",
       "      <td>...</td>\n",
       "      <td>...</td>\n",
       "      <td>...</td>\n",
       "      <td>...</td>\n",
       "      <td>...</td>\n",
       "      <td>...</td>\n",
       "      <td>...</td>\n",
       "      <td>...</td>\n",
       "      <td>...</td>\n",
       "      <td>...</td>\n",
       "      <td>...</td>\n",
       "      <td>...</td>\n",
       "      <td>...</td>\n",
       "      <td>...</td>\n",
       "      <td>...</td>\n",
       "      <td>...</td>\n",
       "    </tr>\n",
       "    <tr>\n",
       "      <th>23083</th>\n",
       "      <td>1</td>\n",
       "      <td>-2</td>\n",
       "      <td>-1</td>\n",
       "      <td>2</td>\n",
       "      <td>2</td>\n",
       "      <td>2</td>\n",
       "      <td>0</td>\n",
       "      <td>3000</td>\n",
       "      <td>0</td>\n",
       "      <td>0</td>\n",
       "      <td>0</td>\n",
       "      <td>2500</td>\n",
       "      <td>-84</td>\n",
       "      <td>-474</td>\n",
       "      <td>800</td>\n",
       "      <td>410</td>\n",
       "      <td>20</td>\n",
       "      <td>-370</td>\n",
       "      <td>100000</td>\n",
       "    </tr>\n",
       "    <tr>\n",
       "      <th>23388</th>\n",
       "      <td>-1</td>\n",
       "      <td>-1</td>\n",
       "      <td>-1</td>\n",
       "      <td>-1</td>\n",
       "      <td>0</td>\n",
       "      <td>0</td>\n",
       "      <td>0</td>\n",
       "      <td>1502</td>\n",
       "      <td>15369</td>\n",
       "      <td>200</td>\n",
       "      <td>0</td>\n",
       "      <td>0</td>\n",
       "      <td>6904</td>\n",
       "      <td>-507</td>\n",
       "      <td>751</td>\n",
       "      <td>15369</td>\n",
       "      <td>7845</td>\n",
       "      <td>6786</td>\n",
       "      <td>360000</td>\n",
       "    </tr>\n",
       "    <tr>\n",
       "      <th>23642</th>\n",
       "      <td>1</td>\n",
       "      <td>-2</td>\n",
       "      <td>-2</td>\n",
       "      <td>-2</td>\n",
       "      <td>-2</td>\n",
       "      <td>-2</td>\n",
       "      <td>0</td>\n",
       "      <td>0</td>\n",
       "      <td>0</td>\n",
       "      <td>0</td>\n",
       "      <td>0</td>\n",
       "      <td>0</td>\n",
       "      <td>-18</td>\n",
       "      <td>-18</td>\n",
       "      <td>-18</td>\n",
       "      <td>-18</td>\n",
       "      <td>-18</td>\n",
       "      <td>-18</td>\n",
       "      <td>180000</td>\n",
       "    </tr>\n",
       "    <tr>\n",
       "      <th>23649</th>\n",
       "      <td>-2</td>\n",
       "      <td>-2</td>\n",
       "      <td>-2</td>\n",
       "      <td>-2</td>\n",
       "      <td>-2</td>\n",
       "      <td>-2</td>\n",
       "      <td>0</td>\n",
       "      <td>0</td>\n",
       "      <td>0</td>\n",
       "      <td>0</td>\n",
       "      <td>0</td>\n",
       "      <td>0</td>\n",
       "      <td>-109</td>\n",
       "      <td>-109</td>\n",
       "      <td>-109</td>\n",
       "      <td>-109</td>\n",
       "      <td>-109</td>\n",
       "      <td>-109</td>\n",
       "      <td>200000</td>\n",
       "    </tr>\n",
       "    <tr>\n",
       "      <th>23653</th>\n",
       "      <td>1</td>\n",
       "      <td>-2</td>\n",
       "      <td>-1</td>\n",
       "      <td>2</td>\n",
       "      <td>2</td>\n",
       "      <td>-2</td>\n",
       "      <td>1575</td>\n",
       "      <td>11000</td>\n",
       "      <td>0</td>\n",
       "      <td>0</td>\n",
       "      <td>0</td>\n",
       "      <td>5100</td>\n",
       "      <td>-113</td>\n",
       "      <td>-113</td>\n",
       "      <td>10887</td>\n",
       "      <td>10413</td>\n",
       "      <td>-245</td>\n",
       "      <td>-245</td>\n",
       "      <td>20000</td>\n",
       "    </tr>\n",
       "    <tr>\n",
       "      <th>23655</th>\n",
       "      <td>-2</td>\n",
       "      <td>-2</td>\n",
       "      <td>-2</td>\n",
       "      <td>-2</td>\n",
       "      <td>-2</td>\n",
       "      <td>-2</td>\n",
       "      <td>0</td>\n",
       "      <td>3660</td>\n",
       "      <td>3135</td>\n",
       "      <td>1650</td>\n",
       "      <td>14200</td>\n",
       "      <td>1500</td>\n",
       "      <td>-20</td>\n",
       "      <td>-20</td>\n",
       "      <td>3640</td>\n",
       "      <td>2935</td>\n",
       "      <td>1603</td>\n",
       "      <td>14129</td>\n",
       "      <td>160000</td>\n",
       "    </tr>\n",
       "    <tr>\n",
       "      <th>24186</th>\n",
       "      <td>1</td>\n",
       "      <td>-2</td>\n",
       "      <td>-2</td>\n",
       "      <td>-2</td>\n",
       "      <td>-1</td>\n",
       "      <td>-1</td>\n",
       "      <td>0</td>\n",
       "      <td>0</td>\n",
       "      <td>0</td>\n",
       "      <td>2150</td>\n",
       "      <td>1200</td>\n",
       "      <td>551</td>\n",
       "      <td>-190</td>\n",
       "      <td>-620</td>\n",
       "      <td>-1050</td>\n",
       "      <td>-1910</td>\n",
       "      <td>240</td>\n",
       "      <td>1010</td>\n",
       "      <td>120000</td>\n",
       "    </tr>\n",
       "    <tr>\n",
       "      <th>24675</th>\n",
       "      <td>2</td>\n",
       "      <td>2</td>\n",
       "      <td>-2</td>\n",
       "      <td>-2</td>\n",
       "      <td>-2</td>\n",
       "      <td>-2</td>\n",
       "      <td>0</td>\n",
       "      <td>0</td>\n",
       "      <td>0</td>\n",
       "      <td>0</td>\n",
       "      <td>1620</td>\n",
       "      <td>900</td>\n",
       "      <td>3462</td>\n",
       "      <td>-334</td>\n",
       "      <td>-1170</td>\n",
       "      <td>-1560</td>\n",
       "      <td>-1950</td>\n",
       "      <td>-1620</td>\n",
       "      <td>30000</td>\n",
       "    </tr>\n",
       "    <tr>\n",
       "      <th>24857</th>\n",
       "      <td>-2</td>\n",
       "      <td>-2</td>\n",
       "      <td>-2</td>\n",
       "      <td>-2</td>\n",
       "      <td>-2</td>\n",
       "      <td>-2</td>\n",
       "      <td>0</td>\n",
       "      <td>0</td>\n",
       "      <td>5530</td>\n",
       "      <td>84332</td>\n",
       "      <td>21500</td>\n",
       "      <td>30000</td>\n",
       "      <td>-163</td>\n",
       "      <td>-163</td>\n",
       "      <td>-163</td>\n",
       "      <td>-65167</td>\n",
       "      <td>-168</td>\n",
       "      <td>2999</td>\n",
       "      <td>210000</td>\n",
       "    </tr>\n",
       "    <tr>\n",
       "      <th>25060</th>\n",
       "      <td>-1</td>\n",
       "      <td>-1</td>\n",
       "      <td>-2</td>\n",
       "      <td>-2</td>\n",
       "      <td>-1</td>\n",
       "      <td>2</td>\n",
       "      <td>0</td>\n",
       "      <td>0</td>\n",
       "      <td>200</td>\n",
       "      <td>5084</td>\n",
       "      <td>0</td>\n",
       "      <td>0</td>\n",
       "      <td>4698</td>\n",
       "      <td>-200</td>\n",
       "      <td>-200</td>\n",
       "      <td>0</td>\n",
       "      <td>5084</td>\n",
       "      <td>2500</td>\n",
       "      <td>360000</td>\n",
       "    </tr>\n",
       "    <tr>\n",
       "      <th>25467</th>\n",
       "      <td>-2</td>\n",
       "      <td>-2</td>\n",
       "      <td>-2</td>\n",
       "      <td>-2</td>\n",
       "      <td>-2</td>\n",
       "      <td>-2</td>\n",
       "      <td>0</td>\n",
       "      <td>0</td>\n",
       "      <td>0</td>\n",
       "      <td>0</td>\n",
       "      <td>307</td>\n",
       "      <td>0</td>\n",
       "      <td>-307</td>\n",
       "      <td>-307</td>\n",
       "      <td>-307</td>\n",
       "      <td>-307</td>\n",
       "      <td>-307</td>\n",
       "      <td>-307</td>\n",
       "      <td>360000</td>\n",
       "    </tr>\n",
       "    <tr>\n",
       "      <th>25669</th>\n",
       "      <td>1</td>\n",
       "      <td>-2</td>\n",
       "      <td>-2</td>\n",
       "      <td>-1</td>\n",
       "      <td>-1</td>\n",
       "      <td>-1</td>\n",
       "      <td>0</td>\n",
       "      <td>0</td>\n",
       "      <td>3000</td>\n",
       "      <td>0</td>\n",
       "      <td>0</td>\n",
       "      <td>0</td>\n",
       "      <td>-74</td>\n",
       "      <td>-770</td>\n",
       "      <td>-1466</td>\n",
       "      <td>522</td>\n",
       "      <td>142</td>\n",
       "      <td>-554</td>\n",
       "      <td>140000</td>\n",
       "    </tr>\n",
       "    <tr>\n",
       "      <th>25874</th>\n",
       "      <td>1</td>\n",
       "      <td>1</td>\n",
       "      <td>-2</td>\n",
       "      <td>-2</td>\n",
       "      <td>-2</td>\n",
       "      <td>-2</td>\n",
       "      <td>0</td>\n",
       "      <td>0</td>\n",
       "      <td>0</td>\n",
       "      <td>2000</td>\n",
       "      <td>2000</td>\n",
       "      <td>0</td>\n",
       "      <td>58574</td>\n",
       "      <td>-1540</td>\n",
       "      <td>-1930</td>\n",
       "      <td>-2320</td>\n",
       "      <td>-1220</td>\n",
       "      <td>0</td>\n",
       "      <td>60000</td>\n",
       "    </tr>\n",
       "    <tr>\n",
       "      <th>26006</th>\n",
       "      <td>-1</td>\n",
       "      <td>-1</td>\n",
       "      <td>-1</td>\n",
       "      <td>2</td>\n",
       "      <td>-1</td>\n",
       "      <td>-1</td>\n",
       "      <td>3</td>\n",
       "      <td>1466</td>\n",
       "      <td>70</td>\n",
       "      <td>2397</td>\n",
       "      <td>457</td>\n",
       "      <td>1003</td>\n",
       "      <td>452</td>\n",
       "      <td>-6</td>\n",
       "      <td>835</td>\n",
       "      <td>665</td>\n",
       "      <td>2386</td>\n",
       "      <td>456</td>\n",
       "      <td>300000</td>\n",
       "    </tr>\n",
       "    <tr>\n",
       "      <th>26514</th>\n",
       "      <td>-2</td>\n",
       "      <td>-2</td>\n",
       "      <td>-2</td>\n",
       "      <td>-2</td>\n",
       "      <td>-2</td>\n",
       "      <td>-2</td>\n",
       "      <td>0</td>\n",
       "      <td>0</td>\n",
       "      <td>0</td>\n",
       "      <td>0</td>\n",
       "      <td>0</td>\n",
       "      <td>200</td>\n",
       "      <td>-200</td>\n",
       "      <td>-200</td>\n",
       "      <td>-200</td>\n",
       "      <td>-200</td>\n",
       "      <td>-200</td>\n",
       "      <td>-200</td>\n",
       "      <td>280000</td>\n",
       "    </tr>\n",
       "    <tr>\n",
       "      <th>27355</th>\n",
       "      <td>1</td>\n",
       "      <td>-2</td>\n",
       "      <td>-2</td>\n",
       "      <td>-2</td>\n",
       "      <td>-2</td>\n",
       "      <td>-2</td>\n",
       "      <td>3</td>\n",
       "      <td>0</td>\n",
       "      <td>0</td>\n",
       "      <td>0</td>\n",
       "      <td>0</td>\n",
       "      <td>0</td>\n",
       "      <td>-94</td>\n",
       "      <td>-2090</td>\n",
       "      <td>-2390</td>\n",
       "      <td>-2390</td>\n",
       "      <td>-2390</td>\n",
       "      <td>-2390</td>\n",
       "      <td>120000</td>\n",
       "    </tr>\n",
       "    <tr>\n",
       "      <th>27376</th>\n",
       "      <td>-2</td>\n",
       "      <td>-2</td>\n",
       "      <td>-2</td>\n",
       "      <td>-2</td>\n",
       "      <td>-2</td>\n",
       "      <td>-2</td>\n",
       "      <td>0</td>\n",
       "      <td>0</td>\n",
       "      <td>0</td>\n",
       "      <td>1952</td>\n",
       "      <td>2500</td>\n",
       "      <td>0</td>\n",
       "      <td>-9</td>\n",
       "      <td>-9</td>\n",
       "      <td>-9</td>\n",
       "      <td>-9</td>\n",
       "      <td>1943</td>\n",
       "      <td>2500</td>\n",
       "      <td>360000</td>\n",
       "    </tr>\n",
       "    <tr>\n",
       "      <th>27482</th>\n",
       "      <td>-2</td>\n",
       "      <td>-2</td>\n",
       "      <td>-2</td>\n",
       "      <td>-2</td>\n",
       "      <td>-2</td>\n",
       "      <td>-1</td>\n",
       "      <td>0</td>\n",
       "      <td>0</td>\n",
       "      <td>0</td>\n",
       "      <td>0</td>\n",
       "      <td>601</td>\n",
       "      <td>0</td>\n",
       "      <td>-1</td>\n",
       "      <td>-1</td>\n",
       "      <td>-1</td>\n",
       "      <td>-1</td>\n",
       "      <td>-1</td>\n",
       "      <td>600</td>\n",
       "      <td>160000</td>\n",
       "    </tr>\n",
       "    <tr>\n",
       "      <th>27496</th>\n",
       "      <td>-1</td>\n",
       "      <td>-1</td>\n",
       "      <td>-1</td>\n",
       "      <td>-1</td>\n",
       "      <td>0</td>\n",
       "      <td>-1</td>\n",
       "      <td>0</td>\n",
       "      <td>3396</td>\n",
       "      <td>792</td>\n",
       "      <td>0</td>\n",
       "      <td>396</td>\n",
       "      <td>396</td>\n",
       "      <td>792</td>\n",
       "      <td>-2604</td>\n",
       "      <td>396</td>\n",
       "      <td>792</td>\n",
       "      <td>396</td>\n",
       "      <td>396</td>\n",
       "      <td>170000</td>\n",
       "    </tr>\n",
       "    <tr>\n",
       "      <th>27548</th>\n",
       "      <td>1</td>\n",
       "      <td>-2</td>\n",
       "      <td>-1</td>\n",
       "      <td>2</td>\n",
       "      <td>0</td>\n",
       "      <td>0</td>\n",
       "      <td>0</td>\n",
       "      <td>7504</td>\n",
       "      <td>0</td>\n",
       "      <td>28606</td>\n",
       "      <td>0</td>\n",
       "      <td>2499</td>\n",
       "      <td>-16</td>\n",
       "      <td>-16</td>\n",
       "      <td>5498</td>\n",
       "      <td>282</td>\n",
       "      <td>28688</td>\n",
       "      <td>26302</td>\n",
       "      <td>490000</td>\n",
       "    </tr>\n",
       "    <tr>\n",
       "      <th>27555</th>\n",
       "      <td>1</td>\n",
       "      <td>-2</td>\n",
       "      <td>-2</td>\n",
       "      <td>-2</td>\n",
       "      <td>-2</td>\n",
       "      <td>-2</td>\n",
       "      <td>0</td>\n",
       "      <td>0</td>\n",
       "      <td>0</td>\n",
       "      <td>0</td>\n",
       "      <td>0</td>\n",
       "      <td>0</td>\n",
       "      <td>-150</td>\n",
       "      <td>-540</td>\n",
       "      <td>-930</td>\n",
       "      <td>-1320</td>\n",
       "      <td>-1710</td>\n",
       "      <td>-2100</td>\n",
       "      <td>40000</td>\n",
       "    </tr>\n",
       "    <tr>\n",
       "      <th>27774</th>\n",
       "      <td>2</td>\n",
       "      <td>2</td>\n",
       "      <td>-1</td>\n",
       "      <td>0</td>\n",
       "      <td>0</td>\n",
       "      <td>0</td>\n",
       "      <td>0</td>\n",
       "      <td>4242</td>\n",
       "      <td>1032</td>\n",
       "      <td>1000</td>\n",
       "      <td>2812</td>\n",
       "      <td>2248</td>\n",
       "      <td>3177</td>\n",
       "      <td>-13</td>\n",
       "      <td>4229</td>\n",
       "      <td>4161</td>\n",
       "      <td>4042</td>\n",
       "      <td>6807</td>\n",
       "      <td>80000</td>\n",
       "    </tr>\n",
       "    <tr>\n",
       "      <th>28667</th>\n",
       "      <td>-2</td>\n",
       "      <td>-2</td>\n",
       "      <td>-2</td>\n",
       "      <td>-2</td>\n",
       "      <td>-1</td>\n",
       "      <td>-1</td>\n",
       "      <td>0</td>\n",
       "      <td>0</td>\n",
       "      <td>1723</td>\n",
       "      <td>366</td>\n",
       "      <td>882</td>\n",
       "      <td>0</td>\n",
       "      <td>-124</td>\n",
       "      <td>-124</td>\n",
       "      <td>-124</td>\n",
       "      <td>1599</td>\n",
       "      <td>360</td>\n",
       "      <td>882</td>\n",
       "      <td>260000</td>\n",
       "    </tr>\n",
       "    <tr>\n",
       "      <th>28720</th>\n",
       "      <td>0</td>\n",
       "      <td>0</td>\n",
       "      <td>-2</td>\n",
       "      <td>-1</td>\n",
       "      <td>0</td>\n",
       "      <td>0</td>\n",
       "      <td>12709</td>\n",
       "      <td>1393</td>\n",
       "      <td>319494</td>\n",
       "      <td>13079</td>\n",
       "      <td>2438</td>\n",
       "      <td>2599</td>\n",
       "      <td>366965</td>\n",
       "      <td>-17710</td>\n",
       "      <td>-17706</td>\n",
       "      <td>301085</td>\n",
       "      <td>307035</td>\n",
       "      <td>63451</td>\n",
       "      <td>360000</td>\n",
       "    </tr>\n",
       "    <tr>\n",
       "      <th>28807</th>\n",
       "      <td>-2</td>\n",
       "      <td>-2</td>\n",
       "      <td>-2</td>\n",
       "      <td>-2</td>\n",
       "      <td>-2</td>\n",
       "      <td>-2</td>\n",
       "      <td>0</td>\n",
       "      <td>0</td>\n",
       "      <td>0</td>\n",
       "      <td>0</td>\n",
       "      <td>0</td>\n",
       "      <td>13</td>\n",
       "      <td>-13</td>\n",
       "      <td>-13</td>\n",
       "      <td>-13</td>\n",
       "      <td>-13</td>\n",
       "      <td>-13</td>\n",
       "      <td>-13</td>\n",
       "      <td>390000</td>\n",
       "    </tr>\n",
       "    <tr>\n",
       "      <th>28841</th>\n",
       "      <td>-1</td>\n",
       "      <td>-1</td>\n",
       "      <td>-2</td>\n",
       "      <td>-2</td>\n",
       "      <td>-2</td>\n",
       "      <td>-2</td>\n",
       "      <td>0</td>\n",
       "      <td>0</td>\n",
       "      <td>0</td>\n",
       "      <td>0</td>\n",
       "      <td>0</td>\n",
       "      <td>5000</td>\n",
       "      <td>76922</td>\n",
       "      <td>-694</td>\n",
       "      <td>-694</td>\n",
       "      <td>-694</td>\n",
       "      <td>-694</td>\n",
       "      <td>-694</td>\n",
       "      <td>300000</td>\n",
       "    </tr>\n",
       "    <tr>\n",
       "      <th>28893</th>\n",
       "      <td>-1</td>\n",
       "      <td>-1</td>\n",
       "      <td>-2</td>\n",
       "      <td>-2</td>\n",
       "      <td>-2</td>\n",
       "      <td>-1</td>\n",
       "      <td>0</td>\n",
       "      <td>0</td>\n",
       "      <td>0</td>\n",
       "      <td>0</td>\n",
       "      <td>6795</td>\n",
       "      <td>21947</td>\n",
       "      <td>528</td>\n",
       "      <td>-120</td>\n",
       "      <td>-120</td>\n",
       "      <td>-120</td>\n",
       "      <td>-120</td>\n",
       "      <td>6675</td>\n",
       "      <td>30000</td>\n",
       "    </tr>\n",
       "    <tr>\n",
       "      <th>29081</th>\n",
       "      <td>1</td>\n",
       "      <td>-2</td>\n",
       "      <td>-2</td>\n",
       "      <td>-2</td>\n",
       "      <td>-1</td>\n",
       "      <td>-1</td>\n",
       "      <td>0</td>\n",
       "      <td>0</td>\n",
       "      <td>200</td>\n",
       "      <td>700</td>\n",
       "      <td>1935</td>\n",
       "      <td>0</td>\n",
       "      <td>-200</td>\n",
       "      <td>-200</td>\n",
       "      <td>-200</td>\n",
       "      <td>0</td>\n",
       "      <td>700</td>\n",
       "      <td>1935</td>\n",
       "      <td>120000</td>\n",
       "    </tr>\n",
       "    <tr>\n",
       "      <th>29492</th>\n",
       "      <td>1</td>\n",
       "      <td>-2</td>\n",
       "      <td>-2</td>\n",
       "      <td>-2</td>\n",
       "      <td>-2</td>\n",
       "      <td>-2</td>\n",
       "      <td>185</td>\n",
       "      <td>28</td>\n",
       "      <td>12</td>\n",
       "      <td>208</td>\n",
       "      <td>8</td>\n",
       "      <td>14</td>\n",
       "      <td>-6029</td>\n",
       "      <td>-9119</td>\n",
       "      <td>-46127</td>\n",
       "      <td>-50616</td>\n",
       "      <td>-53007</td>\n",
       "      <td>-94625</td>\n",
       "      <td>320000</td>\n",
       "    </tr>\n",
       "    <tr>\n",
       "      <th>29846</th>\n",
       "      <td>1</td>\n",
       "      <td>-2</td>\n",
       "      <td>-1</td>\n",
       "      <td>3</td>\n",
       "      <td>2</td>\n",
       "      <td>0</td>\n",
       "      <td>0</td>\n",
       "      <td>5500</td>\n",
       "      <td>0</td>\n",
       "      <td>0</td>\n",
       "      <td>3000</td>\n",
       "      <td>2000</td>\n",
       "      <td>-265</td>\n",
       "      <td>-265</td>\n",
       "      <td>5235</td>\n",
       "      <td>5007</td>\n",
       "      <td>4779</td>\n",
       "      <td>7680</td>\n",
       "      <td>10000</td>\n",
       "    </tr>\n",
       "  </tbody>\n",
       "</table>\n",
       "<p>127 rows × 19 columns</p>\n",
       "</div>"
      ],
      "text/plain": [
       "       PAY_0  PAY_2  PAY_3  PAY_4  PAY_5  PAY_6  PAY_AMT1  PAY_AMT2  PAY_AMT3  \\\n",
       "ID                                                                              \n",
       "27         1     -2     -1     -1     -1     -1         0      1000         0   \n",
       "174        1     -2     -2     -2     -2     -2         0         0         0   \n",
       "217        1     -2     -2     -2     -2     -2         0         0         0   \n",
       "547        1     -2     -2     -2     -2     -2         0         0         0   \n",
       "654        1     -2     -2     -1     -1     -2         0       200     42000   \n",
       "933        2      2     -1     -1     -1     -1         0       874         0   \n",
       "960       -1     -1     -1      0     -1     -1         0      8348         0   \n",
       "1119       1     -2     -2     -2     -2     -2         0         0         0   \n",
       "1664      -2     -2     -2     -2     -2     -2         0      4958         0   \n",
       "1975       1     -2     -2     -2     -2     -2         0         0         0   \n",
       "2009       1     -2     -2     -2     -2     -2         0         0         0   \n",
       "2319       1     -2     -2     -1     -1     -2         0       200      3000   \n",
       "2532       1     -2     -2     -1     -1     -2         0         0       970   \n",
       "3206       1     -2     -1      0      0     -2         0      3000         0   \n",
       "3471       1     -2     -1      0      0      0         0      3000         0   \n",
       "3673      -1     -1     -2     -2     -2     -2         0         0         0   \n",
       "3758       1     -2     -2     -2     -2     -2         0         0         0   \n",
       "3791      -1     -1     -1     -1     -1     -1         0      3140      2387   \n",
       "3946      -2     -2     -2     -2     -2     -2         0         0         0   \n",
       "3963       1     -2     -2     -2     -1     -1         0         0         0   \n",
       "4240      -1     -1     -1     -1     -1     -1         0      3764         0   \n",
       "4498       1     -2     -1      0     -1     -1         0      1748         0   \n",
       "4778       1     -2     -2     -2     -2     -2         0         0         0   \n",
       "4869      -1     -1     -2     -2     -2     -1         0         0         0   \n",
       "4871      -1     -1     -1     -1     -1     -1         0      4873       507   \n",
       "4953      -1     -1     -2     -2     -2     -2         0         0         0   \n",
       "5012      -2     -2     -2     -2     -2     -1         2       322         0   \n",
       "5124       1     -2     -1     -1     -2     -2         0      3312         0   \n",
       "5318      -1     -1     -2     -2     -2     -2         0         0         0   \n",
       "5801       1     -2     -2     -1      0     -1         0         0     10040   \n",
       "...      ...    ...    ...    ...    ...    ...       ...       ...       ...   \n",
       "23083      1     -2     -1      2      2      2         0      3000         0   \n",
       "23388     -1     -1     -1     -1      0      0         0      1502     15369   \n",
       "23642      1     -2     -2     -2     -2     -2         0         0         0   \n",
       "23649     -2     -2     -2     -2     -2     -2         0         0         0   \n",
       "23653      1     -2     -1      2      2     -2      1575     11000         0   \n",
       "23655     -2     -2     -2     -2     -2     -2         0      3660      3135   \n",
       "24186      1     -2     -2     -2     -1     -1         0         0         0   \n",
       "24675      2      2     -2     -2     -2     -2         0         0         0   \n",
       "24857     -2     -2     -2     -2     -2     -2         0         0      5530   \n",
       "25060     -1     -1     -2     -2     -1      2         0         0       200   \n",
       "25467     -2     -2     -2     -2     -2     -2         0         0         0   \n",
       "25669      1     -2     -2     -1     -1     -1         0         0      3000   \n",
       "25874      1      1     -2     -2     -2     -2         0         0         0   \n",
       "26006     -1     -1     -1      2     -1     -1         3      1466        70   \n",
       "26514     -2     -2     -2     -2     -2     -2         0         0         0   \n",
       "27355      1     -2     -2     -2     -2     -2         3         0         0   \n",
       "27376     -2     -2     -2     -2     -2     -2         0         0         0   \n",
       "27482     -2     -2     -2     -2     -2     -1         0         0         0   \n",
       "27496     -1     -1     -1     -1      0     -1         0      3396       792   \n",
       "27548      1     -2     -1      2      0      0         0      7504         0   \n",
       "27555      1     -2     -2     -2     -2     -2         0         0         0   \n",
       "27774      2      2     -1      0      0      0         0      4242      1032   \n",
       "28667     -2     -2     -2     -2     -1     -1         0         0      1723   \n",
       "28720      0      0     -2     -1      0      0     12709      1393    319494   \n",
       "28807     -2     -2     -2     -2     -2     -2         0         0         0   \n",
       "28841     -1     -1     -2     -2     -2     -2         0         0         0   \n",
       "28893     -1     -1     -2     -2     -2     -1         0         0         0   \n",
       "29081      1     -2     -2     -2     -1     -1         0         0       200   \n",
       "29492      1     -2     -2     -2     -2     -2       185        28        12   \n",
       "29846      1     -2     -1      3      2      0         0      5500         0   \n",
       "\n",
       "       PAY_AMT4  PAY_AMT5  PAY_AMT6  BILL_AMT1  BILL_AMT2  BILL_AMT3  \\\n",
       "ID                                                                     \n",
       "27          500         0      1000       -109       -425        259   \n",
       "174           0         0         0       -709       -709       -709   \n",
       "217           0         0         0       -946       -946       -946   \n",
       "547           0         0         0        -65        -65        -65   \n",
       "654           0         0         0       -200       -200          0   \n",
       "933         892         0       594       1989         -8        866   \n",
       "960       23020      2367      3117       1338        -24       8324   \n",
       "1119          0         0         0       -150       -150       -150   \n",
       "1664        763         0     14472       -312      -2479       2479   \n",
       "1975          0         0         0      -2000      -2000      -2000   \n",
       "2009          0         0         0       -301       -301       -301   \n",
       "2319          0         0         0       -200       -200          0   \n",
       "2532          0         0         0         -2         -2         -2   \n",
       "3206          0         0         0      -1730      -1730       1111   \n",
       "3471          0         0      2000         -4       -680       1824   \n",
       "3673          0         0         0      26273        -73        -73   \n",
       "3758          0         0         0       -200       -200       -200   \n",
       "3791        504      1989     19150       1197        -19       3121   \n",
       "3946          0         0         0        -73        -73        -73   \n",
       "3963       1603         0         0         -8         -8         -8   \n",
       "4240        910       854      1131       1982        -18       3746   \n",
       "4498        800       475       975         -9         -9       1739   \n",
       "4778          0         0         0       -348       -738       -738   \n",
       "4869          0      8058         0       9759       -241       -241   \n",
       "4871       3787      1443         0       3735         -8       4865   \n",
       "4953          0         0         0       2473        -27        -27   \n",
       "5012          0     88360     10045       4378       -324       -324   \n",
       "5124          0         0         0        -12        -12       3300   \n",
       "5318          0         0         0        309        -77        -77   \n",
       "5801          0      8299         0          0      -2008      -4016   \n",
       "...         ...       ...       ...        ...        ...        ...   \n",
       "23083         0         0      2500        -84       -474        800   \n",
       "23388       200         0         0       6904       -507        751   \n",
       "23642         0         0         0        -18        -18        -18   \n",
       "23649         0         0         0       -109       -109       -109   \n",
       "23653         0         0      5100       -113       -113      10887   \n",
       "23655      1650     14200      1500        -20        -20       3640   \n",
       "24186      2150      1200       551       -190       -620      -1050   \n",
       "24675         0      1620       900       3462       -334      -1170   \n",
       "24857     84332     21500     30000       -163       -163       -163   \n",
       "25060      5084         0         0       4698       -200       -200   \n",
       "25467         0       307         0       -307       -307       -307   \n",
       "25669         0         0         0        -74       -770      -1466   \n",
       "25874      2000      2000         0      58574      -1540      -1930   \n",
       "26006      2397       457      1003        452         -6        835   \n",
       "26514         0         0       200       -200       -200       -200   \n",
       "27355         0         0         0        -94      -2090      -2390   \n",
       "27376      1952      2500         0         -9         -9         -9   \n",
       "27482         0       601         0         -1         -1         -1   \n",
       "27496         0       396       396        792      -2604        396   \n",
       "27548     28606         0      2499        -16        -16       5498   \n",
       "27555         0         0         0       -150       -540       -930   \n",
       "27774      1000      2812      2248       3177        -13       4229   \n",
       "28667       366       882         0       -124       -124       -124   \n",
       "28720     13079      2438      2599     366965     -17710     -17706   \n",
       "28807         0         0        13        -13        -13        -13   \n",
       "28841         0         0      5000      76922       -694       -694   \n",
       "28893         0      6795     21947        528       -120       -120   \n",
       "29081       700      1935         0       -200       -200       -200   \n",
       "29492       208         8        14      -6029      -9119     -46127   \n",
       "29846         0      3000      2000       -265       -265       5235   \n",
       "\n",
       "       BILL_AMT4  BILL_AMT5  BILL_AMT6  credit_limit  \n",
       "ID                                                    \n",
       "27           -57        127       -189         60000  \n",
       "174        -2898      -3272      -3272         50000  \n",
       "217         -946       -946       -946        240000  \n",
       "547          -65        -65       -200        220000  \n",
       "654        42000          0          0        450000  \n",
       "933            0        892          0        160000  \n",
       "960         5872      23020       2367        250000  \n",
       "1119        -150       -150       -150        140000  \n",
       "1664        2479        763        288        500000  \n",
       "1975       -2000      -2000      -2000        130000  \n",
       "2009        -301       -301       -301        360000  \n",
       "2319        3000          0          0        360000  \n",
       "2532         968         -2         -2        240000  \n",
       "3206        1111        -29      -3789        200000  \n",
       "3471        1508        300       -206        140000  \n",
       "3673         -73        -73        -73        100000  \n",
       "3758        -200       -200       -200        180000  \n",
       "3791        2372        502       1979        250000  \n",
       "3946         -73        -73        -73        500000  \n",
       "3963          -8       1595         -5        340000  \n",
       "4240          -4        906        850        360000  \n",
       "4498        1739        475        475        210000  \n",
       "4778       -1518      -1518      -1518         20000  \n",
       "4869        -241       -241       7817        200000  \n",
       "4871         507       3787       1443        260000  \n",
       "4953         -27        -27        -27        360000  \n",
       "5012        -324       -324      88036        280000  \n",
       "5124           0          0          0        180000  \n",
       "5318        -270       -463       -656         80000  \n",
       "5801        4016       2008       8299        120000  \n",
       "...          ...        ...        ...           ...  \n",
       "23083        410         20       -370        100000  \n",
       "23388      15369       7845       6786        360000  \n",
       "23642        -18        -18        -18        180000  \n",
       "23649       -109       -109       -109        200000  \n",
       "23653      10413       -245       -245         20000  \n",
       "23655       2935       1603      14129        160000  \n",
       "24186      -1910        240       1010        120000  \n",
       "24675      -1560      -1950      -1620         30000  \n",
       "24857     -65167       -168       2999        210000  \n",
       "25060          0       5084       2500        360000  \n",
       "25467       -307       -307       -307        360000  \n",
       "25669        522        142       -554        140000  \n",
       "25874      -2320      -1220          0         60000  \n",
       "26006        665       2386        456        300000  \n",
       "26514       -200       -200       -200        280000  \n",
       "27355      -2390      -2390      -2390        120000  \n",
       "27376         -9       1943       2500        360000  \n",
       "27482         -1         -1        600        160000  \n",
       "27496        792        396        396        170000  \n",
       "27548        282      28688      26302        490000  \n",
       "27555      -1320      -1710      -2100         40000  \n",
       "27774       4161       4042       6807         80000  \n",
       "28667       1599        360        882        260000  \n",
       "28720     301085     307035      63451        360000  \n",
       "28807        -13        -13        -13        390000  \n",
       "28841       -694       -694       -694        300000  \n",
       "28893       -120       -120       6675         30000  \n",
       "29081          0        700       1935        120000  \n",
       "29492     -50616     -53007     -94625        320000  \n",
       "29846       5007       4779       7680         10000  \n",
       "\n",
       "[127 rows x 19 columns]"
      ]
     },
     "execution_count": 256,
     "metadata": {},
     "output_type": "execute_result"
    }
   ],
   "source": [
    "payment_cols = accts.columns[accts.columns.str.contains('PAY')]\n",
    "bill_cols = accts.columns[accts.columns.str.contains('BILL')]\n",
    "accts[(accts.BILL_AMT2<0) & (accts.Oct_Default==1)][[*payment_cols] + [*bill_cols] + ['credit_limit']]"
   ]
  },
  {
   "cell_type": "markdown",
   "metadata": {},
   "source": [
    "### We can see that despite having negative bill amounts in August (127 accounts selected here), at least three accounts in the Oct-Default class made positive payments in September.  Specifically, the account with ID= 28720 may have been anticipating a sizable purchase in the September period.  This all seems highly irregular, yet may be captured in the recognition that negative balances relate to refunds of earlier purchases.  It is difficult to tell.\n",
    "\n",
    "### Instead of continuing to look at each month separately, let's look at the average billed amounts together and by default-class."
   ]
  },
  {
   "cell_type": "code",
   "execution_count": 193,
   "metadata": {},
   "outputs": [
    {
     "data": {
      "text/plain": [
       "<matplotlib.legend.Legend at 0x1a3740ccf8>"
      ]
     },
     "execution_count": 193,
     "metadata": {},
     "output_type": "execute_result"
    },
    {
     "data": {
      "image/png": "[encoded data removed]",
      "text/plain": [
       "<Figure size 864x576 with 1 Axes>"
      ]
     },
     "metadata": {},
     "output_type": "display_data"
    }
   ],
   "source": [
    "billing_columns=['BILL_AMT6', 'BILL_AMT5', 'BILL_AMT4',\n",
    "                 'BILL_AMT3', 'BILL_AMT2', 'BILL_AMT1']\n",
    "plt.figure(figsize=(12,8))\n",
    "plt.plot(accts[billing_columns].mean(),lw=3,label='Combined')\n",
    "plt.plot(accts_0[billing_columns].mean(),lw=3,label='Non-default')\n",
    "plt.plot(accts_1[billing_columns].mean(),lw=3,label='Default')\n",
    "plt.title('Monthly Average Billing Amounts in 2005',fontsize='xx-large')\n",
    "loc,labels = plt.xticks()\n",
    "labels=['April','May','June','July','August','September']\n",
    "plt.ylim(20000,54000)\n",
    "plt.xticks(loc,labels,fontsize='xx-large')\n",
    "plt.yticks(fontsize='xx-large')\n",
    "plt.legend(shadow=True, fontsize='xx-large')"
   ]
  },
  {
   "cell_type": "markdown",
   "metadata": {},
   "source": [
    "### We can see that the Default group is not borrowing a much as the Non-default group as leverage picks up from month to month.\n",
    "\n",
    "### Let's look at the similar pattern in payment amounts."
   ]
  },
  {
   "cell_type": "code",
   "execution_count": 196,
   "metadata": {},
   "outputs": [
    {
     "data": {
      "text/plain": [
       "<matplotlib.legend.Legend at 0x1a379577b8>"
      ]
     },
     "execution_count": 196,
     "metadata": {},
     "output_type": "execute_result"
    },
    {
     "data": {
      "image/png": "[encoded data removed]",
      "text/plain": [
       "<Figure size 864x576 with 1 Axes>"
      ]
     },
     "metadata": {},
     "output_type": "display_data"
    }
   ],
   "source": [
    "payment_columns=['PAY_AMT6', 'PAY_AMT5', 'PAY_AMT4',\n",
    "                 'PAY_AMT3', 'PAY_AMT2', 'PAY_AMT1']\n",
    "plt.figure(figsize=(12,8))\n",
    "plt.plot(accts[payment_columns].mean(),lw=3,label='Combined')\n",
    "plt.plot(accts_0[payment_columns].mean(),lw=3,label='Non-default')\n",
    "plt.plot(accts_1[payment_columns].mean(),lw=3,label='Default')\n",
    "plt.title('Monthly Average Payment Amounts in 2005',fontsize='xx-large')\n",
    "loc,labels = plt.xticks()\n",
    "plt.ylim(0,7000)\n",
    "labels=['April','May','June','July','August','September']\n",
    "plt.xticks(loc,labels,fontsize='xx-large')\n",
    "plt.yticks(fontsize='xx-large')\n",
    "plt.legend(shadow=True, fontsize='xx-large')"
   ]
  },
  {
   "cell_type": "markdown",
   "metadata": {},
   "source": [
    "### What this shows is that over the same period that borrowing is accelerating, the Non-default group is trying to keep up with payments, but after July-2005, the Default group payments are leveling off.  This may suggest a condition of financial stress.  There is definitely something dramatic happening over this period leading up to October.\n",
    "\n",
    "### Let's try to quantify this leverage spread between the Default and Non-default groups.  We can do this by calculating the ratio of payments on a given month to billing on the previous month.  The ratios could be appended to an a list for each Default/Non-default  group.  Let's start with the Non-default group list first."
   ]
  },
  {
   "cell_type": "code",
   "execution_count": 221,
   "metadata": {},
   "outputs": [],
   "source": [
    "paydown_0 = []"
   ]
  },
  {
   "cell_type": "code",
   "execution_count": 222,
   "metadata": {},
   "outputs": [],
   "source": [
    "accts_0['pay1_bill2'] = accts_0['PAY_AMT1']/accts_0['BILL_AMT2']\n",
    "accts_0['pay2_bill3'] = accts_0['PAY_AMT2']/accts_0['BILL_AMT3']\n",
    "accts_0['pay3_bill4'] = accts_0['PAY_AMT3']/accts_0['BILL_AMT4']\n",
    "accts_0['pay4_bill5'] = accts_0['PAY_AMT4']/accts_0['BILL_AMT5']\n",
    "accts_0['pay5_bill6'] = accts_0['PAY_AMT5']/accts_0['BILL_AMT6']"
   ]
  },
  {
   "cell_type": "code",
   "execution_count": 223,
   "metadata": {},
   "outputs": [],
   "source": [
    "paydown_0.append(accts_0[(accts_0['pay5_bill6']<100.)&(accts_0['pay5_bill6']>-19.)]['pay5_bill6'].mean())\n",
    "paydown_0.append(accts_0[(accts_0['pay4_bill5']<100.)&(accts_0['pay4_bill5']>-19.)]['pay4_bill5'].mean())\n",
    "paydown_0.append(accts_0[(accts_0['pay3_bill4']<100.)&(accts_0['pay3_bill4']>-19.)]['pay3_bill4'].mean())\n",
    "paydown_0.append(accts_0[(accts_0['pay2_bill3']<100.)&(accts_0['pay2_bill3']>-19.)]['pay2_bill3'].mean())\n",
    "paydown_0.append(accts_0[(accts_0['pay1_bill2']<100.)&(accts_0['pay1_bill2']>-19.)]['pay1_bill2'].mean())"
   ]
  },
  {
   "cell_type": "markdown",
   "metadata": {},
   "source": [
    "### Above, we are trimming the extreme values before appending to our list."
   ]
  },
  {
   "cell_type": "code",
   "execution_count": 224,
   "metadata": {},
   "outputs": [
    {
     "data": {
      "text/plain": [
       "[0.37735412241266086,\n",
       " 0.35876078831077757,\n",
       " 0.3576314222547569,\n",
       " 0.3836337352201829,\n",
       " 0.37505630352244274]"
      ]
     },
     "execution_count": 224,
     "metadata": {},
     "output_type": "execute_result"
    }
   ],
   "source": [
    "paydown_0"
   ]
  },
  {
   "cell_type": "markdown",
   "metadata": {},
   "source": [
    "### We see the average paydown rates for the Non-default group above.\n",
    "\n",
    "### Let's calculate the same for the Default group."
   ]
  },
  {
   "cell_type": "code",
   "execution_count": 216,
   "metadata": {},
   "outputs": [],
   "source": [
    "paydown_1 = []"
   ]
  },
  {
   "cell_type": "code",
   "execution_count": 217,
   "metadata": {},
   "outputs": [],
   "source": [
    "accts_1['pay1_bill2'] = accts_1['PAY_AMT1']/accts_1['BILL_AMT2']\n",
    "accts_1['pay2_bill3'] = accts_1['PAY_AMT2']/accts_1['BILL_AMT3']\n",
    "accts_1['pay3_bill4'] = accts_1['PAY_AMT3']/accts_1['BILL_AMT4']\n",
    "accts_1['pay4_bill5'] = accts_1['PAY_AMT4']/accts_1['BILL_AMT5']\n",
    "accts_1['pay5_bill6'] = accts_1['PAY_AMT5']/accts_1['BILL_AMT6']"
   ]
  },
  {
   "cell_type": "code",
   "execution_count": 219,
   "metadata": {},
   "outputs": [],
   "source": [
    "paydown_1.append(accts_1[(accts_1['pay5_bill6']<10.)&(accts_1['pay5_bill6']>-10.)]['pay5_bill6'].mean())\n",
    "paydown_1.append(accts_1[(accts_1['pay4_bill5']<10.)&(accts_1['pay4_bill5']>-10.)]['pay4_bill5'].mean())\n",
    "paydown_1.append(accts_1[(accts_1['pay3_bill4']<10.)&(accts_1['pay3_bill4']>-10.)]['pay3_bill4'].mean())\n",
    "paydown_1.append(accts_1[(accts_1['pay2_bill3']<10.)&(accts_1['pay2_bill3']>-10.)]['pay2_bill3'].mean())\n",
    "paydown_1.append(accts_1[(accts_1['pay1_bill2']<10.)&(accts_1['pay1_bill2']>-10.)]['pay1_bill2'].mean())"
   ]
  },
  {
   "cell_type": "code",
   "execution_count": 209,
   "metadata": {},
   "outputs": [
    {
     "data": {
      "text/plain": [
       "[0.23169509582351852,\n",
       " 0.2378656436892692,\n",
       " 0.21605742173297626,\n",
       " 0.22134795114494205,\n",
       " 0.23158225104332603]"
      ]
     },
     "execution_count": 209,
     "metadata": {},
     "output_type": "execute_result"
    }
   ],
   "source": [
    "paydown_1"
   ]
  },
  {
   "cell_type": "code",
   "execution_count": 228,
   "metadata": {},
   "outputs": [
    {
     "data": {
      "text/plain": [
       "<matplotlib.legend.Legend at 0x1a38ec7e10>"
      ]
     },
     "execution_count": 228,
     "metadata": {},
     "output_type": "execute_result"
    },
    {
     "data": {
      "image/png": "[encoded data removed]",
      "text/plain": [
       "<Figure size 864x576 with 1 Axes>"
      ]
     },
     "metadata": {},
     "output_type": "display_data"
    }
   ],
   "source": [
    "plt.figure(figsize=(12,8))\n",
    "plt.plot(paydown_0,lw=3,label='Non-default')\n",
    "plt.plot(paydown_1,lw=3,label='Default')\n",
    "plt.title('Monthly Average Paydown Ratios in 2005',fontsize='xx-large')\n",
    "loc,labels = plt.xticks()\n",
    "plt.ylim(0,0.5)\n",
    "labels=['','May','','June','','July','','August','','September']\n",
    "plt.xticks(loc,labels,fontsize='xx-large')\n",
    "plt.yticks(fontsize='xx-large')\n",
    "plt.legend(shadow=True, fontsize='xx-large')"
   ]
  },
  {
   "cell_type": "markdown",
   "metadata": {},
   "source": [
    "### We can see that the paydown ratios are surprisingly consistent and dominated by the payment amounts month-over-month.  This highlights that the rate of borrowing by the Default group was also flattening over August- and September-2005.\n",
    "\n",
    "### We might expect there to be significant interaction between billing and payment amounts.  Also, there is a striking separation in the paydown rates of the two classes, a separation in the order of the percentage below."
   ]
  },
  {
   "cell_type": "code",
   "execution_count": 235,
   "metadata": {},
   "outputs": [
    {
     "name": "stdout",
     "output_type": "stream",
     "text": [
      "The paydown rate of the Default-group as a percentage of the paydown rate of the Non-default group: 0.6146221164813221\n"
     ]
    }
   ],
   "source": [
    "print('The paydown rate of the Default-group as a percentage of the paydown rate of the Non-default group:',\n",
    "      np.mean(paydown_1)/np.mean(paydown_0))"
   ]
  },
  {
   "cell_type": "code",
   "execution_count": null,
   "metadata": {},
   "outputs": [],
   "source": []
  },
  {
   "cell_type": "markdown",
   "metadata": {},
   "source": [
    "## Continue to Notebook-3, Feature Engineering.\n",
    "\n",
    "### After looking at normalized stacked bar charts representing the two classes, we looked at month-over-month trends of payment-history statuses, billing amounts and paydown rates.  We saw a general worsening in borrowing leverage and signs of financial stress.  We also found some anomalous patterns with negative balances that could be attributed to returns/refund activity.  \n",
    "\n",
    "### Now we are interested in engineering some relevant features in advance of modeling and analysis.  Some anticipated multicollinearity may become apparent as we progress through our predictive workflow.  Our end goal is to choose the most robust model to deploy in production if approved."
   ]
  },
  {
   "cell_type": "code",
   "execution_count": null,
   "metadata": {},
   "outputs": [],
   "source": []
  }
 ],
 "metadata": {
  "kernelspec": {
   "display_name": "Python 3",
   "language": "python",
   "name": "python3"
  },
  "language_info": {
   "codemirror_mode": {
    "name": "ipython",
    "version": 3
   },
   "file_extension": ".py",
   "mimetype": "text/x-python",
   "name": "python",
   "nbconvert_exporter": "python",
   "pygments_lexer": "ipython3",
   "version": "3.6.5"
  }
 },
 "nbformat": 4,
 "nbformat_minor": 2
}
