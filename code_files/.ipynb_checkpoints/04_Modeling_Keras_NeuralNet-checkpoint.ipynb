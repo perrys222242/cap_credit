{
 "cells": [
  {
   "cell_type": "markdown",
   "metadata": {},
   "source": [
    "# Credit-Card Default Risk\n",
    "by Perry Shyr\n",
    "## _4-of-7. Modeling with Keras_\n",
    "![](../image_files/cards.png)"
   ]
  },
  {
   "cell_type": "markdown",
   "metadata": {},
   "source": [
    "## Problem Statement\n",
    "\n",
    "Given a dataset with demographic and borrowing history data for accounts classified as defaulting or not defaulting in October-2005, can I build a supervised model that performs better than identifying only members of the negative non-default class (baseline model) while minimizing the misclassification of either class?  In the context of credit-card lending, if I can predict accounts as belonging to the defaulting class, I want to minimize the number of predicted defaulters who did not actually default that October (lost revenues) while minimizing the number of predicted non-defaulters who did end up defaulting (lost profits).\n",
    "\n",
    "## Preamble for Modeling-Keras Notebook\n",
    "\n",
    "In this notebook, I split and scale the data and save the transformed results.  I use the scaled results for the neural-networks modeling to run several manual tests to optimize hyperparameters including batch_size and optimizer.  I also test a number of different network topologies (number of neurons and hidden layers).  The testing below does not include attempts to build a custom loss-function based on the False-negative and False-positive rate formulae, but are kept in mind for continued attempts as next steps.\n"
   ]
  },
  {
   "cell_type": "markdown",
   "metadata": {},
   "source": [
    "## A. Code Libraries Used"
   ]
  },
  {
   "cell_type": "code",
   "execution_count": 1,
   "metadata": {},
   "outputs": [
    {
     "name": "stderr",
     "output_type": "stream",
     "text": [
      "/Users/perry/anaconda3/lib/python3.6/site-packages/h5py/__init__.py:36: FutureWarning: Conversion of the second argument of issubdtype from `float` to `np.floating` is deprecated. In future, it will be treated as `np.float64 == np.dtype(float).type`.\n",
      "  from ._conv import register_converters as _register_converters\n",
      "Using TensorFlow backend.\n"
     ]
    }
   ],
   "source": [
    "import numpy as np\n",
    "import pandas as pd\n",
    "import matplotlib.pyplot as plt\n",
    "import seaborn as sns\n",
    "\n",
    "from sklearn.preprocessing import StandardScaler\n",
    "from sklearn.model_selection import train_test_split\n",
    "\n",
    "from keras.models import Sequential\n",
    "from keras.layers import Dense, Dropout\n",
    "from keras import regularizers\n",
    "from sklearn.metrics import confusion_matrix\n",
    "\n",
    "%matplotlib inline"
   ]
  },
  {
   "cell_type": "markdown",
   "metadata": {},
   "source": [
    "## B. Load Data from Notebook-3\n",
    "\n",
    "In the previous notebook of this kernel-series, we added six new features to the cleaned and validated dataset from the first notebook."
   ]
  },
  {
   "cell_type": "code",
   "execution_count": 2,
   "metadata": {},
   "outputs": [],
   "source": [
    "accts_nf = pd.read_csv('../asset_files/credit_new_features.csv', index_col='ID')"
   ]
  },
  {
   "cell_type": "markdown",
   "metadata": {},
   "source": [
    "'X' is the training set containing all the features without the dependent target variable, 'y.'"
   ]
  },
  {
   "cell_type": "code",
   "execution_count": 3,
   "metadata": {},
   "outputs": [],
   "source": [
    "X = accts_nf.drop(['Oct_Default'], axis=1)"
   ]
  },
  {
   "cell_type": "code",
   "execution_count": 4,
   "metadata": {},
   "outputs": [],
   "source": [
    "y = accts_nf['Oct_Default']"
   ]
  },
  {
   "cell_type": "markdown",
   "metadata": {},
   "source": [
    "### C. Validation-splitting and Scaling\n",
    "\n",
    "It is necessary to set stratify to ensure that the proportions of the classes present in folds match that in the original target-series.  Scaling is needed because some of the features have small ranges and the others have very large ranges."
   ]
  },
  {
   "cell_type": "code",
   "execution_count": 5,
   "metadata": {},
   "outputs": [],
   "source": [
    "X_train, X_test, y_train, y_test = train_test_split(X, \n",
    "                                                    y, \n",
    "                                                    stratify=y,\n",
    "                                                    random_state=42)"
   ]
  },
  {
   "cell_type": "code",
   "execution_count": 6,
   "metadata": {},
   "outputs": [],
   "source": [
    "ss = StandardScaler()\n",
    "\n",
    "X_train_sc = ss.fit_transform(X_train)\n",
    "X_test_sc = ss.transform(X_test)"
   ]
  },
  {
   "cell_type": "code",
   "execution_count": 7,
   "metadata": {},
   "outputs": [
    {
     "name": "stdout",
     "output_type": "stream",
     "text": [
      "(7492, 42)\n"
     ]
    },
    {
     "data": {
      "text/plain": [
       "numpy.ndarray"
      ]
     },
     "execution_count": 7,
     "metadata": {},
     "output_type": "execute_result"
    }
   ],
   "source": [
    "print(X_test_sc.shape)\n",
    "type(X_test_sc)"
   ]
  },
  {
   "cell_type": "code",
   "execution_count": 8,
   "metadata": {},
   "outputs": [
    {
     "data": {
      "text/html": [
       "<div>\n",
       "<style scoped>\n",
       "    .dataframe tbody tr th:only-of-type {\n",
       "        vertical-align: middle;\n",
       "    }\n",
       "\n",
       "    .dataframe tbody tr th {\n",
       "        vertical-align: top;\n",
       "    }\n",
       "\n",
       "    .dataframe thead th {\n",
       "        text-align: right;\n",
       "    }\n",
       "</style>\n",
       "<table border=\"1\" class=\"dataframe\">\n",
       "  <thead>\n",
       "    <tr style=\"text-align: right;\">\n",
       "      <th></th>\n",
       "      <th>credit_limit</th>\n",
       "      <th>AGE</th>\n",
       "      <th>PAY_0</th>\n",
       "      <th>PAY_2</th>\n",
       "      <th>PAY_3</th>\n",
       "      <th>PAY_4</th>\n",
       "      <th>PAY_5</th>\n",
       "      <th>PAY_6</th>\n",
       "      <th>BILL_AMT1</th>\n",
       "      <th>BILL_AMT2</th>\n",
       "      <th>...</th>\n",
       "      <th>gender_m</th>\n",
       "      <th>gender_f</th>\n",
       "      <th>edu_grad_schl</th>\n",
       "      <th>edu_college</th>\n",
       "      <th>edu_high_schl</th>\n",
       "      <th>edu_other</th>\n",
       "      <th>marital_mrrd</th>\n",
       "      <th>marital_sngl</th>\n",
       "      <th>marital_dvcd</th>\n",
       "      <th>marital_othr</th>\n",
       "    </tr>\n",
       "    <tr>\n",
       "      <th>ID</th>\n",
       "      <th></th>\n",
       "      <th></th>\n",
       "      <th></th>\n",
       "      <th></th>\n",
       "      <th></th>\n",
       "      <th></th>\n",
       "      <th></th>\n",
       "      <th></th>\n",
       "      <th></th>\n",
       "      <th></th>\n",
       "      <th></th>\n",
       "      <th></th>\n",
       "      <th></th>\n",
       "      <th></th>\n",
       "      <th></th>\n",
       "      <th></th>\n",
       "      <th></th>\n",
       "      <th></th>\n",
       "      <th></th>\n",
       "      <th></th>\n",
       "      <th></th>\n",
       "    </tr>\n",
       "  </thead>\n",
       "  <tbody>\n",
       "    <tr>\n",
       "      <th>7362</th>\n",
       "      <td>150000</td>\n",
       "      <td>30</td>\n",
       "      <td>0</td>\n",
       "      <td>0</td>\n",
       "      <td>0</td>\n",
       "      <td>0</td>\n",
       "      <td>0</td>\n",
       "      <td>0</td>\n",
       "      <td>150426</td>\n",
       "      <td>151052</td>\n",
       "      <td>...</td>\n",
       "      <td>0</td>\n",
       "      <td>1</td>\n",
       "      <td>1</td>\n",
       "      <td>0</td>\n",
       "      <td>0</td>\n",
       "      <td>0</td>\n",
       "      <td>0</td>\n",
       "      <td>1</td>\n",
       "      <td>0</td>\n",
       "      <td>0</td>\n",
       "    </tr>\n",
       "    <tr>\n",
       "      <th>12267</th>\n",
       "      <td>290000</td>\n",
       "      <td>37</td>\n",
       "      <td>-1</td>\n",
       "      <td>-1</td>\n",
       "      <td>-1</td>\n",
       "      <td>-1</td>\n",
       "      <td>-1</td>\n",
       "      <td>-1</td>\n",
       "      <td>396</td>\n",
       "      <td>396</td>\n",
       "      <td>...</td>\n",
       "      <td>0</td>\n",
       "      <td>1</td>\n",
       "      <td>0</td>\n",
       "      <td>0</td>\n",
       "      <td>1</td>\n",
       "      <td>0</td>\n",
       "      <td>0</td>\n",
       "      <td>1</td>\n",
       "      <td>0</td>\n",
       "      <td>0</td>\n",
       "    </tr>\n",
       "    <tr>\n",
       "      <th>29379</th>\n",
       "      <td>290000</td>\n",
       "      <td>28</td>\n",
       "      <td>0</td>\n",
       "      <td>0</td>\n",
       "      <td>0</td>\n",
       "      <td>2</td>\n",
       "      <td>2</td>\n",
       "      <td>2</td>\n",
       "      <td>6395</td>\n",
       "      <td>7330</td>\n",
       "      <td>...</td>\n",
       "      <td>1</td>\n",
       "      <td>0</td>\n",
       "      <td>1</td>\n",
       "      <td>0</td>\n",
       "      <td>0</td>\n",
       "      <td>0</td>\n",
       "      <td>0</td>\n",
       "      <td>1</td>\n",
       "      <td>0</td>\n",
       "      <td>0</td>\n",
       "    </tr>\n",
       "    <tr>\n",
       "      <th>24609</th>\n",
       "      <td>360000</td>\n",
       "      <td>39</td>\n",
       "      <td>-1</td>\n",
       "      <td>-1</td>\n",
       "      <td>2</td>\n",
       "      <td>-1</td>\n",
       "      <td>-1</td>\n",
       "      <td>0</td>\n",
       "      <td>264</td>\n",
       "      <td>1139</td>\n",
       "      <td>...</td>\n",
       "      <td>1</td>\n",
       "      <td>0</td>\n",
       "      <td>1</td>\n",
       "      <td>0</td>\n",
       "      <td>0</td>\n",
       "      <td>0</td>\n",
       "      <td>1</td>\n",
       "      <td>0</td>\n",
       "      <td>0</td>\n",
       "      <td>0</td>\n",
       "    </tr>\n",
       "    <tr>\n",
       "      <th>14979</th>\n",
       "      <td>480000</td>\n",
       "      <td>31</td>\n",
       "      <td>-1</td>\n",
       "      <td>-1</td>\n",
       "      <td>-1</td>\n",
       "      <td>-1</td>\n",
       "      <td>-1</td>\n",
       "      <td>-1</td>\n",
       "      <td>1759</td>\n",
       "      <td>1759</td>\n",
       "      <td>...</td>\n",
       "      <td>0</td>\n",
       "      <td>1</td>\n",
       "      <td>0</td>\n",
       "      <td>1</td>\n",
       "      <td>0</td>\n",
       "      <td>0</td>\n",
       "      <td>0</td>\n",
       "      <td>1</td>\n",
       "      <td>0</td>\n",
       "      <td>0</td>\n",
       "    </tr>\n",
       "  </tbody>\n",
       "</table>\n",
       "<p>5 rows × 42 columns</p>\n",
       "</div>"
      ],
      "text/plain": [
       "       credit_limit  AGE  PAY_0  PAY_2  PAY_3  PAY_4  PAY_5  PAY_6  BILL_AMT1  \\\n",
       "ID                                                                              \n",
       "7362         150000   30      0      0      0      0      0      0     150426   \n",
       "12267        290000   37     -1     -1     -1     -1     -1     -1        396   \n",
       "29379        290000   28      0      0      0      2      2      2       6395   \n",
       "24609        360000   39     -1     -1      2     -1     -1      0        264   \n",
       "14979        480000   31     -1     -1     -1     -1     -1     -1       1759   \n",
       "\n",
       "       BILL_AMT2      ...       gender_m  gender_f  edu_grad_schl  \\\n",
       "ID                    ...                                           \n",
       "7362      151052      ...              0         1              1   \n",
       "12267        396      ...              0         1              0   \n",
       "29379       7330      ...              1         0              1   \n",
       "24609       1139      ...              1         0              1   \n",
       "14979       1759      ...              0         1              0   \n",
       "\n",
       "       edu_college  edu_high_schl  edu_other  marital_mrrd  marital_sngl  \\\n",
       "ID                                                                         \n",
       "7362             0              0          0             0             1   \n",
       "12267            0              1          0             0             1   \n",
       "29379            0              0          0             0             1   \n",
       "24609            0              0          0             1             0   \n",
       "14979            1              0          0             0             1   \n",
       "\n",
       "       marital_dvcd  marital_othr  \n",
       "ID                                 \n",
       "7362              0             0  \n",
       "12267             0             0  \n",
       "29379             0             0  \n",
       "24609             0             0  \n",
       "14979             0             0  \n",
       "\n",
       "[5 rows x 42 columns]"
      ]
     },
     "execution_count": 8,
     "metadata": {},
     "output_type": "execute_result"
    }
   ],
   "source": [
    "X_test.head()"
   ]
  },
  {
   "cell_type": "markdown",
   "metadata": {},
   "source": [
    "## D. First Model\n",
    "\n",
    "The artificial neural network approach of Keras running TensorFlow in the back end was chosen for initial testing based largely on the original academic [publication](https://bradzzz.gitbooks.io/ga-seattle-dsi/content/dsi/dsi_05_classification_databases/2.1-lesson/assets/datasets/DefaultCreditCardClients_yeh_2009.pdf) that introduced the original dataset in 2009.  In that paper, their neural-network model performed the best on a variation of an AOC-related metric.\n",
    "\n",
    "In this notebook, a wide set of hyperparameters was tested manually including: \n",
    "\n",
    "-topologic (number of neurons, number of hidden layers)\n",
    "\n",
    "-features (original set of 23 features and a later set with 12 interaction features)\n",
    "\n",
    "-epochs\n",
    "\n",
    "-batch-size (based a [blog](https://blogs.oracle.com/meena/simple-neural-network-model-using-keras-and-grid-search-hyperparameterstuning) from a literature search)\n",
    "\n",
    "-all available optimizers\n",
    "\n",
    "(James Hampton of GA suggested creating a custom loss-function to minimize for either the False-negative or False-positive rates, but we could not find an online example for making one work)\n",
    "\n",
    "The rationale for performing the manual tuning came from relatively few number of epochs needed for convergence and eventual overfitting."
   ]
  },
  {
   "cell_type": "code",
   "execution_count": 12,
   "metadata": {
    "scrolled": false
   },
   "outputs": [
    {
     "name": "stdout",
     "output_type": "stream",
     "text": [
      "Train on 22473 samples, validate on 7492 samples\n",
      "Epoch 1/20\n",
      "22473/22473 [==============================] - 0s 19us/step - loss: 0.0867 - acc: 0.7532 - val_loss: 0.0725 - val_acc: 0.7895\n",
      "Epoch 2/20\n",
      "22473/22473 [==============================] - 0s 5us/step - loss: 0.0734 - acc: 0.7950 - val_loss: 0.0682 - val_acc: 0.8085\n",
      "Epoch 3/20\n",
      "22473/22473 [==============================] - 0s 5us/step - loss: 0.0696 - acc: 0.8070 - val_loss: 0.0668 - val_acc: 0.8110\n",
      "Epoch 4/20\n",
      "22473/22473 [==============================] - 0s 5us/step - loss: 0.0677 - acc: 0.8104 - val_loss: 0.0660 - val_acc: 0.8146\n",
      "Epoch 5/20\n",
      "22473/22473 [==============================] - 0s 5us/step - loss: 0.0668 - acc: 0.8140 - val_loss: 0.0656 - val_acc: 0.8142\n",
      "Epoch 6/20\n",
      "22473/22473 [==============================] - 0s 5us/step - loss: 0.0663 - acc: 0.8136 - val_loss: 0.0653 - val_acc: 0.8153\n",
      "Epoch 7/20\n",
      "22473/22473 [==============================] - 0s 5us/step - loss: 0.0658 - acc: 0.8157 - val_loss: 0.0649 - val_acc: 0.8166\n",
      "Epoch 8/20\n",
      "22473/22473 [==============================] - 0s 5us/step - loss: 0.0655 - acc: 0.8163 - val_loss: 0.0648 - val_acc: 0.8154\n",
      "Epoch 9/20\n",
      "22473/22473 [==============================] - 0s 6us/step - loss: 0.0650 - acc: 0.8187 - val_loss: 0.0648 - val_acc: 0.8155\n",
      "Epoch 10/20\n",
      "22473/22473 [==============================] - 0s 9us/step - loss: 0.0645 - acc: 0.8195 - val_loss: 0.0645 - val_acc: 0.8166\n",
      "Epoch 11/20\n",
      "22473/22473 [==============================] - 0s 6us/step - loss: 0.0645 - acc: 0.8177 - val_loss: 0.0642 - val_acc: 0.8166\n",
      "Epoch 12/20\n",
      "22473/22473 [==============================] - 0s 6us/step - loss: 0.0642 - acc: 0.8192 - val_loss: 0.0641 - val_acc: 0.8170\n",
      "Epoch 13/20\n",
      "22473/22473 [==============================] - 0s 6us/step - loss: 0.0640 - acc: 0.8191 - val_loss: 0.0641 - val_acc: 0.8169\n",
      "Epoch 14/20\n",
      "22473/22473 [==============================] - 0s 7us/step - loss: 0.0637 - acc: 0.8209 - val_loss: 0.0639 - val_acc: 0.8179\n",
      "Epoch 15/20\n",
      "22473/22473 [==============================] - 0s 6us/step - loss: 0.0637 - acc: 0.8203 - val_loss: 0.0638 - val_acc: 0.8179\n",
      "Epoch 16/20\n",
      "22473/22473 [==============================] - 0s 6us/step - loss: 0.0633 - acc: 0.8213 - val_loss: 0.0639 - val_acc: 0.8175\n",
      "Epoch 17/20\n",
      "22473/22473 [==============================] - 0s 7us/step - loss: 0.0633 - acc: 0.8220 - val_loss: 0.0637 - val_acc: 0.8166\n",
      "Epoch 18/20\n",
      "22473/22473 [==============================] - 0s 6us/step - loss: 0.0634 - acc: 0.8212 - val_loss: 0.0636 - val_acc: 0.8186\n",
      "Epoch 19/20\n",
      "22473/22473 [==============================] - 0s 6us/step - loss: 0.0631 - acc: 0.8226 - val_loss: 0.0635 - val_acc: 0.8179\n",
      "Epoch 20/20\n",
      "22473/22473 [==============================] - 0s 5us/step - loss: 0.0627 - acc: 0.8229 - val_loss: 0.0634 - val_acc: 0.8175\n"
     ]
    }
   ],
   "source": [
    "model = Sequential()\n",
    "model.add(Dense(42, activation='relu', input_dim=X.shape[1]))\n",
    "model.add(Dense(42, activation='relu', input_dim=X.shape[1]))\n",
    "model.add(Dropout(0.5))\n",
    "model.add(Dense(1, activation='sigmoid')) # always have 1 neuron, with no activation function\n",
    "\n",
    "model.compile(loss='logcosh', optimizer='adam', metrics=['accuracy'])\n",
    "results = model.fit(X_train_sc, y_train,\n",
    "                    validation_data=(X_test_sc, y_test), verbose=1,\n",
    "                    epochs=20, batch_size=320)"
   ]
  },
  {
   "cell_type": "markdown",
   "metadata": {},
   "source": [
    "The main observation is that not many epochs are needed before convergence and eventual overfitting takes place.  With test accuracies almost reaching 82%, we cannot say that this model performs better than the baseline model. \n",
    "\n",
    "Let's plot the progression of loss reduction through the specified number of epochs."
   ]
  },
  {
   "cell_type": "code",
   "execution_count": 11,
   "metadata": {},
   "outputs": [
    {
     "data": {
      "text/plain": [
       "<matplotlib.legend.Legend at 0x1a22e29d30>"
      ]
     },
     "execution_count": 11,
     "metadata": {},
     "output_type": "execute_result"
    },
    {
     "data": {
      "image/png": "[encoded data removed]",
      "text/plain": [
       "<Figure size 432x288 with 1 Axes>"
      ]
     },
     "metadata": {},
     "output_type": "display_data"
    }
   ],
   "source": [
    "results.history.keys()\n",
    "\n",
    "plt.plot(results.history['val_loss'], label='Test Loss')\n",
    "plt.plot(results.history['loss'], label='Train Loss')\n",
    "plt.legend()"
   ]
  },
  {
   "cell_type": "markdown",
   "metadata": {},
   "source": [
    "We can see that with 12 additional features added to the feature-set, the model has started to show overfitting.  From the manual testing, I don't see evidence that adding the extra interaction terms hurts the modeling, so perhaps any collinearity is not having a negative effect.\n",
    "\n",
    "With \"verbose=1\" we can see that the measure of accuracy reaches about 0.82.  Unfortunately, due to lenders' intent for customer retention, they will invariably want to manage their risk exposure from False-negatives.  From a customer service standpoint, they also want to minimize False-positives, so it becomes a balancing act, walking the fine line between disparate commercial interests.  Customers want to feel valued, and business want to curb losses from default.\n",
    "\n",
    "Just out of curiosity, let's calculate the percentage difference between our baseline model from Notebook-2 and our current result of 0.82."
   ]
  },
  {
   "cell_type": "code",
   "execution_count": 13,
   "metadata": {},
   "outputs": [
    {
     "name": "stdout",
     "output_type": "stream",
     "text": [
      "percentage lift above baseline of 77.9% is: 0.0502838440111421\n"
     ]
    }
   ],
   "source": [
    "baseline = 1-(y.sum()/len(y))\n",
    "print('percentage lift above baseline of 77.9% is:',(0.8179-(baseline))/baseline)"
   ]
  },
  {
   "cell_type": "markdown",
   "metadata": {},
   "source": [
    "There is only a slim margin of separation, probably not enough to be worth reporting.  A 10% lift would be meaningful."
   ]
  },
  {
   "cell_type": "markdown",
   "metadata": {},
   "source": [
    "## E. Save the model, splits and scaling:"
   ]
  },
  {
   "cell_type": "code",
   "execution_count": 14,
   "metadata": {},
   "outputs": [],
   "source": [
    "model.save('../asset_files/model_keras.h5')"
   ]
  },
  {
   "cell_type": "code",
   "execution_count": 15,
   "metadata": {},
   "outputs": [],
   "source": [
    "X.to_csv('../asset_files/X_processed.csv', index=True)\n",
    "y.to_csv('../asset_files/y_target.csv', index=True)"
   ]
  },
  {
   "cell_type": "code",
   "execution_count": 16,
   "metadata": {},
   "outputs": [],
   "source": [
    "X_train.to_csv('../asset_files/X_train_split.csv')\n",
    "X_test.to_csv('../asset_files/X_test_split.csv')\n",
    "y_train.to_csv('../asset_files/y_train_split.csv')\n",
    "y_test.to_csv('../asset_files/y_test_split.csv')"
   ]
  },
  {
   "cell_type": "code",
   "execution_count": 17,
   "metadata": {},
   "outputs": [],
   "source": [
    "np.savetxt(\"../asset_files/X_train_scaled.csv\", X_train_sc, delimiter=\",\")\n",
    "np.savetxt(\"../asset_files/X_test_scaled.csv\", X_test_sc, delimiter=\",\")"
   ]
  },
  {
   "cell_type": "markdown",
   "metadata": {},
   "source": [
    "## Continue to Notebook-5, Model Building, Part-2.\n",
    "\n",
    "A serious effort was made to target False-Negatives and/or False-Positives optimization.  I learned that adjusting the 'metrics=' input (which I tried) has no effect on any back-propagation process, but serves only to inform the user for reporting purposes.  Also, any gradient descent activity is superfluous because it is already built into the optimization process.\n",
    "\n",
    "I was told about possibly using weights to penalize misclassification and about building a custom loss function connected to the backend built on TensorFlow, but I thought I only had time to try a custom loss function based on the formulae for False-Negative and False-Positive rates.  There wasn't an online discussion that I or James Hampton could find to accomplish this.\n",
    "\n",
    "I did try the various other available loss functions and found Mean_Squared_Logarithmic_Errors(MSLE)-loss as optimized for penalizing False-Positives, while Logcosh-loss seemed to act in the same way for penalizing False-Negatives.  Based on this manual work.  I would consider the Logcosh-loss function to be the best performing in terms minimizing False-Negatives and maximizing True-positives.  Binary_crossentropy-loss would be a close second-best performer and MSLE the third-best because it does not lift True-Positives. \n",
    "\n",
    "For the next notebook, I would like to show some Grid-searching and a separate TensorFlow neural-network.  That notebook will be followed by more basic/interpretable classification models.\n",
    "\n",
    "Finally, in the last notebook I will evaluate all five models for misclassification and inference on the best estimator and best predictors."
   ]
  }
 ],
 "metadata": {
  "kernelspec": {
   "display_name": "Python 3",
   "language": "python",
   "name": "python3"
  },
  "language_info": {
   "codemirror_mode": {
    "name": "ipython",
    "version": 3
   },
   "file_extension": ".py",
   "mimetype": "text/x-python",
   "name": "python",
   "nbconvert_exporter": "python",
   "pygments_lexer": "ipython3",
   "version": "3.6.5"
  }
 },
 "nbformat": 4,
 "nbformat_minor": 2
}
