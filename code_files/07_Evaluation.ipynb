{
 "cells": [
  {
   "cell_type": "markdown",
   "metadata": {},
   "source": [
    "# Credit-card Default Risk\n",
    "by Perry Shyr\n",
    "___\n",
    "## _7-of-7. Model Evaluation for Deployment in Production_\n",
    "![](../image_files/cards.png)"
   ]
  },
  {
   "cell_type": "markdown",
   "metadata": {},
   "source": [
    "## Problem Statement\n",
    "\n",
    "Given a dataset with demographic and borrowing history data for accounts classified as defaulting or not defaulting in October-2005, can I build a supervised model that performs better than identifying only members of the negative non-default class (baseline model) while minimizing the misclassification of either class?  In the context of credit-card lending, if I can predict accounts as belonging to the defaulting class, I want to minimize the number of predicted defaulters who did not actually default that October (lost revenues) while minimizing the number of predicted non-defaulters who did end up defaulting (lost profits).\n",
    "\n",
    "## Preamble for Model-evaluation Notebook\n",
    "\n",
    "In this notebook, I evaluate the best-performing models in more detail.  The Keras neural-networks model is examined with different thresholds for classification based on predictive probabilities.  A range of available loss functions is also tested to find which can provide the lowest rates of True-positives in addition to the False-negative and False-positive types of misclassifications.  For the Logistic-regression model, I look at the same metrics and explore the feature coefficients to find the strongest positive and negative predictors of default status in the October-2005 period.\n"
   ]
  },
  {
   "cell_type": "markdown",
   "metadata": {},
   "source": [
    "## A. Code Libraries Used"
   ]
  },
  {
   "cell_type": "code",
   "execution_count": 1,
   "metadata": {},
   "outputs": [],
   "source": [
    "import numpy as np\n",
    "import pandas as pd\n",
    "import matplotlib.pyplot as plt\n",
    "import seaborn as sns\n",
    "from numpy import genfromtxt\n",
    "import pickle\n",
    "\n",
    "from sklearn.metrics import confusion_matrix, classification_report\n",
    "\n",
    "%matplotlib inline"
   ]
  },
  {
   "cell_type": "markdown",
   "metadata": {},
   "source": [
    "## B. Import Split/Scaled data and Top-3 Models "
   ]
  },
  {
   "cell_type": "code",
   "execution_count": 2,
   "metadata": {},
   "outputs": [
    {
     "name": "stderr",
     "output_type": "stream",
     "text": [
      "/Users/perry/anaconda3/lib/python3.6/site-packages/h5py/__init__.py:36: FutureWarning: Conversion of the second argument of issubdtype from `float` to `np.floating` is deprecated. In future, it will be treated as `np.float64 == np.dtype(float).type`.\n",
      "  from ._conv import register_converters as _register_converters\n",
      "Using TensorFlow backend.\n"
     ]
    }
   ],
   "source": [
    "from keras.models import load_model                              # Keras Neural-Network.\n",
    "keras_model = load_model('../asset_files/model_keras.h5')"
   ]
  },
  {
   "cell_type": "code",
   "execution_count": 3,
   "metadata": {},
   "outputs": [],
   "source": [
    "X_train = pd.read_csv('../asset_files/X_train_split.csv', index_col='ID')\n",
    "X_test = pd.read_csv('../asset_files/X_test_split.csv', index_col='ID')\n",
    "\n",
    "X_train_sc = genfromtxt('../asset_files/X_train_scaled.csv', delimiter=',')\n",
    "X_test_sc = genfromtxt('../asset_files/X_test_scaled.csv', delimiter=',')"
   ]
  },
  {
   "cell_type": "code",
   "execution_count": 4,
   "metadata": {},
   "outputs": [],
   "source": [
    "y_train = pd.read_csv('../asset_files/y_train_split.csv', index_col=0, header=None)\n",
    "y_test = pd.read_csv('../asset_files/y_test_split.csv', index_col=0, header=None)"
   ]
  },
  {
   "cell_type": "code",
   "execution_count": 5,
   "metadata": {},
   "outputs": [],
   "source": [
    "with open('../pickle_files/logreg_model.pkl', 'rb') as f:       #  Logistic Regression.\n",
    "    logreg = pickle.load(f)"
   ]
  },
  {
   "cell_type": "code",
   "execution_count": 6,
   "metadata": {},
   "outputs": [],
   "source": [
    "with open('../pickle_files/cart_model.pkl', 'rb') as f:         #  Decision-Tree Classifier.\n",
    "    model_cart = pickle.load(f)"
   ]
  },
  {
   "cell_type": "markdown",
   "metadata": {},
   "source": [
    "## C. Model Comparison by Misclassification Metrics\n",
    "\n",
    "## (i) Neural Networks using Keras front-end"
   ]
  },
  {
   "cell_type": "code",
   "execution_count": 7,
   "metadata": {},
   "outputs": [
    {
     "data": {
      "text/plain": [
       "array([[0.06682522],\n",
       "       [0.16774347],\n",
       "       [0.26998672],\n",
       "       ...,\n",
       "       [0.07892293],\n",
       "       [0.14155762],\n",
       "       [0.12771054]], dtype=float32)"
      ]
     },
     "execution_count": 7,
     "metadata": {},
     "output_type": "execute_result"
    }
   ],
   "source": [
    "prediction=keras_model.predict(np.array(X_test_sc))\n",
    "prediction"
   ]
  },
  {
   "cell_type": "markdown",
   "metadata": {},
   "source": [
    "Let's adjust the classification threshold to 0.35 down from 0.5"
   ]
  },
  {
   "cell_type": "code",
   "execution_count": 9,
   "metadata": {},
   "outputs": [],
   "source": [
    "X_test_copy = X_test.copy()\n",
    "X_test_copy['probas_y_hat']=probas\n",
    "X_test_copy['y'] = y_test\n",
    "# X_test_copy.loc[:,'pred_thr_35'] = X_test_copy['probas_y_hat'].map(lambda p: 1 if p > .35 else 0)\n",
    "X_test_copy.loc[:,'pred_thr_50'] = X_test_copy['probas_y_hat'].map(lambda p: 1 if p > .5 else 0)"
   ]
  },
  {
   "cell_type": "markdown",
   "metadata": {},
   "source": [
    "Let's plot the effect of this adjustment"
   ]
  },
  {
   "cell_type": "code",
   "execution_count": 12,
   "metadata": {},
   "outputs": [
    {
     "data": {
      "image/png": "[encoded data removed]",
      "text/plain": [
       "<Figure size 432x288 with 1 Axes>"
      ]
     },
     "metadata": {},
     "output_type": "display_data"
    }
   ],
   "source": [
    "from sklearn.metrics import roc_curve, auc\n",
    "\n",
    "# Generate False positive rate and True positive rate\n",
    "fpr, tpr, _ = roc_curve(y_test, X_test_copy['pred_thr_50'])  # Use this if threshold is .5\n",
    "# fpr, tpr, _ = roc_curve(y_test, X_test_copy['pred_thr_35'])\n",
    "roc_auc = auc(fpr, tpr)\n",
    "# fpr\n",
    "\n",
    "# Plot \n",
    "plt.figure()\n",
    "line_width = 2\n",
    "\n",
    "plt.plot(fpr, tpr, lw = line_width, color=\"darkorange\", label = \"ROC Curve %.2f\" % roc_auc)\n",
    "plt.plot([0,1],[0,1], lw = line_width, linestyle = \"--\", color=\"navy\")\n",
    "\n",
    "plt.xlim([0.0, 1.0])\n",
    "plt.ylim([0.0, 1.05])\n",
    "plt.xlabel('False Positive Rate')\n",
    "plt.ylabel('True Positive Rate')\n",
    "plt.title('Receiver-Operator Characteristic')\n",
    "plt.legend(loc=\"lower right\")\n",
    "plt.show()"
   ]
  },
  {
   "cell_type": "markdown",
   "metadata": {},
   "source": [
    "Let's look at the missclassifications that we are most keenly interested in."
   ]
  },
  {
   "cell_type": "code",
   "execution_count": 11,
   "metadata": {},
   "outputs": [
    {
     "name": "stdout",
     "output_type": "stream",
     "text": [
      "             precision    recall  f1-score   support\n",
      "\n",
      "          0       0.84      0.95      0.89      5834\n",
      "          1       0.66      0.35      0.46      1658\n",
      "\n",
      "avg / total       0.80      0.82      0.80      7492\n",
      "\n"
     ]
    }
   ],
   "source": [
    "tn, fp, fn, tp = confusion_matrix(y_test, X_test_copy['pred_thr_50']).ravel()\n",
    "print(classification_report(y_test, X_test_copy['pred_thr_50']))\n",
    "df_cm1 = pd.DataFrame(confusion_matrix(y_test, \n",
    "                                       X_test_copy['pred_thr_50']), \n",
    "                      columns=[\"\",\"Actual Oct-Default\"])\n",
    "\n",
    "# tn, fp, fn, tp = confusion_matrix(y_test, X_test_copy['pred_thr_35']).ravel()\n",
    "# df_cm1 = pd.DataFrame(confusion_matrix(y_test, \n",
    "#                                        X_test_copy['pred_thr_35']), \n",
    "#                       columns=[\"\",\"Actual Oct-Default\"])"
   ]
  },
  {
   "cell_type": "markdown",
   "metadata": {},
   "source": [
    "The True-Positive Rate (TPR) for a screen-threshold of 0.35 is..."
   ]
  },
  {
   "cell_type": "code",
   "execution_count": 16,
   "metadata": {},
   "outputs": [
    {
     "data": {
      "text/plain": [
       "0.4746682750301568"
      ]
     },
     "execution_count": 16,
     "metadata": {},
     "output_type": "execute_result"
    }
   ],
   "source": [
    "787 / (787+871)"
   ]
  },
  {
   "cell_type": "markdown",
   "metadata": {},
   "source": [
    "...47.5%."
   ]
  },
  {
   "cell_type": "markdown",
   "metadata": {},
   "source": [
    "The True-Positive Rate (TPR) for a diagnostic-threshold of 0.5 is...¶"
   ]
  },
  {
   "cell_type": "code",
   "execution_count": 14,
   "metadata": {},
   "outputs": [
    {
     "data": {
      "text/plain": [
       "0.3540410132689988"
      ]
     },
     "execution_count": 14,
     "metadata": {},
     "output_type": "execute_result"
    }
   ],
   "source": [
    "tpr_keras = tp / (tp+fn)\n",
    "tpr_keras"
   ]
  },
  {
   "cell_type": "markdown",
   "metadata": {},
   "source": [
    "...35.4%.\n",
    "\n",
    "Let's calculate the False-Negative Rate (FNR) and False-Positive Rate (FPR) for the logistic-regression model as well."
   ]
  },
  {
   "cell_type": "code",
   "execution_count": 16,
   "metadata": {},
   "outputs": [],
   "source": [
    "fnr_keras = fn / (fn+tp)\n",
    "fpr_keras = fp / (fp+tn)"
   ]
  },
  {
   "cell_type": "code",
   "execution_count": 17,
   "metadata": {},
   "outputs": [
    {
     "data": {
      "text/plain": [
       "<matplotlib.legend.Legend at 0x1a2ba58a90>"
      ]
     },
     "execution_count": 17,
     "metadata": {},
     "output_type": "execute_result"
    },
    {
     "data": {
      "image/png": "[encoded data removed]",
      "text/plain": [
       "<Figure size 432x288 with 1 Axes>"
      ]
     },
     "metadata": {},
     "output_type": "display_data"
    }
   ],
   "source": [
    "N = 2\n",
    "pred_right = (tn, tp)\n",
    "pred_wrong = (fp, fn)\n",
    "ind = np.arange(N)    # the x locations for the groups\n",
    "width = 0.35       # the width of the bars: can also be len(x) sequence\n",
    "\n",
    "p1 = plt.bar(ind, pred_right, width, color='g')\n",
    "p2 = plt.bar(ind, pred_wrong, width, color='y',\n",
    "             bottom=pred_right)\n",
    "\n",
    "plt.title('Keras-NN Classification Test-counts')\n",
    "plt.xticks(ind, ('Non-Default', 'Oct-Default'))\n",
    "plt.yticks(np.arange(0, 6000, 500))\n",
    "plt.legend((p2[0], p1[0]), ('Predicted-incorrect', 'Predicted-correct'))"
   ]
  },
  {
   "cell_type": "markdown",
   "metadata": {},
   "source": [
    "Let's compare the available loss functions.  Although only the 'binary crossentropy' loss should apply in our case, this is the best alternative to being able to create a custom loss function for the misclassification rates."
   ]
  },
  {
   "cell_type": "code",
   "execution_count": 12,
   "metadata": {},
   "outputs": [
    {
     "data": {
      "text/plain": [
       "Text(0, 0.5, 'Observations')"
      ]
     },
     "execution_count": 12,
     "metadata": {},
     "output_type": "execute_result"
    },
    {
     "data": {
      "image/png": "[encoded data removed]",
      "text/plain": [
       "<Figure size 432x288 with 1 Axes>"
      ]
     },
     "metadata": {},
     "output_type": "display_data"
    }
   ],
   "source": [
    "cm = [[1067,591,283],          # Mean-squared Error\n",
    "              [1057,601,285],  # Mean-absolute Error (lowest False-Non-defaults)\n",
    "              [1658,0,0],      # Mean-absolute Percentage Error\n",
    "              [1161,497,208],  # Mean-sqaured Logarithmic Error (lowest False-defaults)\n",
    "              [0,1658,2000],   # 5,834 > 2,000 (Squared Hinge)\n",
    "              [0,1658,2000],   # Hinge\n",
    "              [1087,571,257],  # Categorical-hinge \n",
    "              [1064,594,295],  # Log-Cosh\n",
    "              [1060,598,291],  # Binary Cross-entropy\n",
    "              [0,1658,2000],   # Kullback-Liebler Divergence\n",
    "              [1093,565,252]   # Poisson\n",
    "             ]\n",
    "loss_funcs = ['MSE', 'MAE',\n",
    "             'MAPE','MSLE',\n",
    "             'SqH','Hge',\n",
    "             'CtH','LgC',\n",
    "             'BCE','KLD',\n",
    "             'P']\n",
    "df = pd.DataFrame(cm, index=loss_funcs).T\n",
    "pd.concat(\n",
    "    [df.mean().rename('True-Defaults'), df.min().rename('False-Defaults'), \n",
    "     df.max().rename('False-Non-defaults')],\n",
    "    axis=1).plot.bar(title='Comparison of Keras Loss Functions',rot=0)\n",
    "plt.xlabel('Loss Functions')\n",
    "plt.ylabel('Observations')"
   ]
  },
  {
   "cell_type": "markdown",
   "metadata": {},
   "source": [
    "We can see the 'mean-squared logoarithmic error' loss function appears to minimize for false-positives, and that the 'logcosh' loss function gives one of the lowest false-negative counts."
   ]
  },
  {
   "cell_type": "markdown",
   "metadata": {},
   "source": [
    "## (ii) Logistic Regressor Modeling:"
   ]
  },
  {
   "cell_type": "code",
   "execution_count": 18,
   "metadata": {},
   "outputs": [],
   "source": [
    "predictions_logreg = logreg.predict(X_test_sc)"
   ]
  },
  {
   "cell_type": "code",
   "execution_count": 19,
   "metadata": {},
   "outputs": [
    {
     "name": "stdout",
     "output_type": "stream",
     "text": [
      "             precision    recall  f1-score   support\n",
      "\n",
      "          0       0.87      0.73      0.80      5834\n",
      "          1       0.40      0.63      0.49      1658\n",
      "\n",
      "avg / total       0.77      0.71      0.73      7492\n",
      "\n"
     ]
    }
   ],
   "source": [
    "tn, fp, fn, tp = confusion_matrix(y_test, predictions_logreg).ravel()\n",
    "print(classification_report(y_test, predictions_logreg))"
   ]
  },
  {
   "cell_type": "code",
   "execution_count": 20,
   "metadata": {},
   "outputs": [],
   "source": [
    "lr_cm1 = pd.DataFrame(confusion_matrix(y_test, predictions_logreg), \n",
    "                      columns=[\"\",\"True Oct-Default\"])"
   ]
  },
  {
   "cell_type": "markdown",
   "metadata": {},
   "source": [
    "The True-Positive Rate (TPR) is..."
   ]
  },
  {
   "cell_type": "code",
   "execution_count": 22,
   "metadata": {},
   "outputs": [
    {
     "data": {
      "text/plain": [
       "0.6254523522316043"
      ]
     },
     "execution_count": 22,
     "metadata": {},
     "output_type": "execute_result"
    }
   ],
   "source": [
    "tpr_logreg= tp / (tp+fn)\n",
    "tpr_logreg"
   ]
  },
  {
   "cell_type": "markdown",
   "metadata": {},
   "source": [
    "...62.5%.\n",
    "\n",
    "Let's calculate the False-Negative Rate (FNR) and False-Positive Rate (FPR) for the logistic-regression model as well."
   ]
  },
  {
   "cell_type": "code",
   "execution_count": 23,
   "metadata": {},
   "outputs": [],
   "source": [
    "fnr_logreg = fn / (fn+tp)\n",
    "fpr_logreg = fp / (fp+tn)"
   ]
  },
  {
   "cell_type": "code",
   "execution_count": 33,
   "metadata": {},
   "outputs": [
    {
     "data": {
      "text/plain": [
       "<matplotlib.legend.Legend at 0x1a1f3008d0>"
      ]
     },
     "execution_count": 33,
     "metadata": {},
     "output_type": "execute_result"
    },
    {
     "data": {
      "image/png": "[encoded data removed]",
      "text/plain": [
       "<Figure size 432x288 with 1 Axes>"
      ]
     },
     "metadata": {},
     "output_type": "display_data"
    }
   ],
   "source": [
    "N = 2\n",
    "pred_right = (tn, tp)\n",
    "pred_wrong = (fp, fn)\n",
    "ind = np.arange(N)    \n",
    "width = 0.35       \n",
    "\n",
    "p1 = plt.bar(ind, pred_right, width)\n",
    "p2 = plt.bar(ind, pred_wrong, width, color='c',\n",
    "             bottom=pred_right)\n",
    "\n",
    "plt.title('Log-Reg Classification Test-counts')\n",
    "plt.xticks(ind, ('Non-Default', 'Oct-Default'))\n",
    "plt.yticks(np.arange(0, 6000, 500))\n",
    "plt.legend((p2[0], p1[0]), ('Predicted-incorrect', 'Predicted-correct'))"
   ]
  },
  {
   "cell_type": "code",
   "execution_count": 24,
   "metadata": {},
   "outputs": [],
   "source": [
    "importances = pd.DataFrame(\n",
    "    {'features': X_train.columns.values.tolist(),\n",
    "     'coefs': logreg.coef_.tolist()[0]\n",
    "    })"
   ]
  },
  {
   "cell_type": "markdown",
   "metadata": {},
   "source": [
    "Let's list the feature importances in order."
   ]
  },
  {
   "cell_type": "code",
   "execution_count": 25,
   "metadata": {},
   "outputs": [],
   "source": [
    "importances = importances.reset_index()"
   ]
  },
  {
   "cell_type": "code",
   "execution_count": 26,
   "metadata": {},
   "outputs": [],
   "source": [
    "importances = importances.drop('index',axis=1)"
   ]
  },
  {
   "cell_type": "code",
   "execution_count": 27,
   "metadata": {},
   "outputs": [],
   "source": [
    "importances = importances.set_index('features')"
   ]
  },
  {
   "cell_type": "code",
   "execution_count": 31,
   "metadata": {},
   "outputs": [
    {
     "data": {
      "text/plain": [
       "Text(0, 0.5, 'Features')"
      ]
     },
     "execution_count": 31,
     "metadata": {},
     "output_type": "execute_result"
    },
    {
     "data": {
      "image/png": "[encoded data removed]",
      "text/plain": [
       "<Figure size 432x288 with 1 Axes>"
      ]
     },
     "metadata": {},
     "output_type": "display_data"
    }
   ],
   "source": [
    "top_10 = importances.sort_values('coefs',ascending=False).head(10)\n",
    "top_10 = top_10.sort_values('coefs',ascending=True)\n",
    "bot_10 = importances.sort_values('coefs',ascending=True).head(10)\n",
    "bot_10 = bot_10.sort_values('coefs',ascending=False)\n",
    "top_10 = top_10.rename(index={'AGE':'Age', 'leverage_4':'Jun-Bill/Limit', 'bill_to_pay4':'Jun-Bill/Jun-Payment',\n",
    "                                  'bill_to_pay2':'Aug-Bill/Aug-Payment', 'bill_to_pay1':'Sep-Bill/Sep-Payment',\n",
    "                                  'bill_to_pay3':'Jul-Bill/Jul-Payment', 'leverage_6':'Apr-Bill/Limit',\n",
    "                                  'leverage_2':'Aug-Bill/Limit', 'BILL_AMT2':'Aug-Billing','PAY_2':'Aug-status',\n",
    "                                  'PAY_0':'Sep-Status','PAY_3':'July-Status','bill_to_pay5':'May-Bill/May-Payment'\n",
    "                                 })\n",
    "top_10.plot(kind='barh', title='Logistic-Regression Feature Importances')\n",
    "plt.xlabel('Feature Weights')\n",
    "plt.ylabel('Features')"
   ]
  },
  {
   "cell_type": "markdown",
   "metadata": {},
   "source": [
    "Activity closer to September plays a predominant role more than earlier activity, suggesting increasing financial strain associated with the expansion of borrowing.\n",
    "\n",
    "We see the representation of our interaction terms ('bill_to_pay1) in the importances as a good sign of validation."
   ]
  },
  {
   "cell_type": "code",
   "execution_count": 33,
   "metadata": {},
   "outputs": [
    {
     "data": {
      "text/plain": [
       "Text(0, 0.5, 'Features')"
      ]
     },
     "execution_count": 33,
     "metadata": {},
     "output_type": "execute_result"
    },
    {
     "data": {
      "image/png": "[encoded data removed]",
      "text/plain": [
       "<Figure size 432x288 with 1 Axes>"
      ]
     },
     "metadata": {},
     "output_type": "display_data"
    }
   ],
   "source": [
    "bot_10 = bot_10.rename(index={'EDUCATION':'Education', 'leverage_5':'May-Bill/Limit', 'credit_limit':'Credit Limit',\n",
    "                                  'PAY_AMT1':'Sep-Payment', 'PAY_AMT4':'Jun-Payment',\n",
    "                                  'BILL_AMT4':'Jun-Bill', 'PAY_AMT2':'Aug-Payment',\n",
    "                                  'leverage_1':'Sep-Bill/Limit', 'BILL_AMT1':'Sep-Billing',\n",
    "                                  'MARRIAGE':'Marital_Status','BILL_AMT5':'May-Billing',\n",
    "                                  'PAY_AMT5':'May-Payment','gender_f':'Female'\n",
    "                                 })\n",
    "bot_10\n",
    "bot_10.plot(kind='barh', title='Logistic-Regression Feature Importances')\n",
    "plt.xlabel('Feature Weights')\n",
    "plt.ylabel('Features')"
   ]
  },
  {
   "cell_type": "markdown",
   "metadata": {},
   "source": [
    "We can see the important negative importances related to the topping out of leverage and separation of borrowing between the Default and Non-default classes.  It's also noticeable that the leveling off of payments compared with spending might explain the 'Sep-Payment' and 'Aug-Payment' importances. "
   ]
  },
  {
   "cell_type": "markdown",
   "metadata": {},
   "source": [
    "## (iii) Classification-Trees Modeling:"
   ]
  },
  {
   "cell_type": "code",
   "execution_count": 34,
   "metadata": {},
   "outputs": [],
   "source": [
    "feature_importances = model_cart.feature_importances_\n",
    "feature_columns = X_train.columns"
   ]
  },
  {
   "cell_type": "code",
   "execution_count": 35,
   "metadata": {},
   "outputs": [
    {
     "data": {
      "text/html": [
       "<div>\n",
       "<style scoped>\n",
       "    .dataframe tbody tr th:only-of-type {\n",
       "        vertical-align: middle;\n",
       "    }\n",
       "\n",
       "    .dataframe tbody tr th {\n",
       "        vertical-align: top;\n",
       "    }\n",
       "\n",
       "    .dataframe thead th {\n",
       "        text-align: right;\n",
       "    }\n",
       "</style>\n",
       "<table border=\"1\" class=\"dataframe\">\n",
       "  <thead>\n",
       "    <tr style=\"text-align: right;\">\n",
       "      <th></th>\n",
       "      <th>is_default</th>\n",
       "    </tr>\n",
       "  </thead>\n",
       "  <tbody>\n",
       "    <tr>\n",
       "      <th>PAY_0</th>\n",
       "      <td>0.659848</td>\n",
       "    </tr>\n",
       "    <tr>\n",
       "      <th>PAY_AMT2</th>\n",
       "      <td>0.074170</td>\n",
       "    </tr>\n",
       "    <tr>\n",
       "      <th>PAY_4</th>\n",
       "      <td>0.030478</td>\n",
       "    </tr>\n",
       "    <tr>\n",
       "      <th>leverage_2</th>\n",
       "      <td>0.026603</td>\n",
       "    </tr>\n",
       "    <tr>\n",
       "      <th>PAY_3</th>\n",
       "      <td>0.026133</td>\n",
       "    </tr>\n",
       "    <tr>\n",
       "      <th>PAY_2</th>\n",
       "      <td>0.021293</td>\n",
       "    </tr>\n",
       "    <tr>\n",
       "      <th>PAY_AMT4</th>\n",
       "      <td>0.017718</td>\n",
       "    </tr>\n",
       "    <tr>\n",
       "      <th>BILL_AMT2</th>\n",
       "      <td>0.016062</td>\n",
       "    </tr>\n",
       "    <tr>\n",
       "      <th>credit_limit</th>\n",
       "      <td>0.015145</td>\n",
       "    </tr>\n",
       "    <tr>\n",
       "      <th>PAY_AMT1</th>\n",
       "      <td>0.012257</td>\n",
       "    </tr>\n",
       "    <tr>\n",
       "      <th>BILL_AMT1</th>\n",
       "      <td>0.012029</td>\n",
       "    </tr>\n",
       "    <tr>\n",
       "      <th>PAY_AMT3</th>\n",
       "      <td>0.011034</td>\n",
       "    </tr>\n",
       "    <tr>\n",
       "      <th>bill_to_pay3</th>\n",
       "      <td>0.010767</td>\n",
       "    </tr>\n",
       "    <tr>\n",
       "      <th>bill_to_pay5</th>\n",
       "      <td>0.009726</td>\n",
       "    </tr>\n",
       "    <tr>\n",
       "      <th>PAY_AMT6</th>\n",
       "      <td>0.009701</td>\n",
       "    </tr>\n",
       "    <tr>\n",
       "      <th>bill_to_pay4</th>\n",
       "      <td>0.008447</td>\n",
       "    </tr>\n",
       "    <tr>\n",
       "      <th>leverage_3</th>\n",
       "      <td>0.007962</td>\n",
       "    </tr>\n",
       "    <tr>\n",
       "      <th>PAY_AMT5</th>\n",
       "      <td>0.007322</td>\n",
       "    </tr>\n",
       "    <tr>\n",
       "      <th>leverage_6</th>\n",
       "      <td>0.004152</td>\n",
       "    </tr>\n",
       "    <tr>\n",
       "      <th>AGE</th>\n",
       "      <td>0.003412</td>\n",
       "    </tr>\n",
       "    <tr>\n",
       "      <th>BILL_AMT5</th>\n",
       "      <td>0.003376</td>\n",
       "    </tr>\n",
       "    <tr>\n",
       "      <th>leverage_1</th>\n",
       "      <td>0.002983</td>\n",
       "    </tr>\n",
       "    <tr>\n",
       "      <th>bill_to_pay6</th>\n",
       "      <td>0.002961</td>\n",
       "    </tr>\n",
       "    <tr>\n",
       "      <th>bill_to_pay1</th>\n",
       "      <td>0.002691</td>\n",
       "    </tr>\n",
       "    <tr>\n",
       "      <th>PAY_5</th>\n",
       "      <td>0.002249</td>\n",
       "    </tr>\n",
       "    <tr>\n",
       "      <th>BILL_AMT6</th>\n",
       "      <td>0.001478</td>\n",
       "    </tr>\n",
       "    <tr>\n",
       "      <th>edu_grad_schl</th>\n",
       "      <td>0.000000</td>\n",
       "    </tr>\n",
       "    <tr>\n",
       "      <th>marital_dvcd</th>\n",
       "      <td>0.000000</td>\n",
       "    </tr>\n",
       "    <tr>\n",
       "      <th>marital_sngl</th>\n",
       "      <td>0.000000</td>\n",
       "    </tr>\n",
       "    <tr>\n",
       "      <th>marital_mrrd</th>\n",
       "      <td>0.000000</td>\n",
       "    </tr>\n",
       "    <tr>\n",
       "      <th>edu_other</th>\n",
       "      <td>0.000000</td>\n",
       "    </tr>\n",
       "    <tr>\n",
       "      <th>edu_high_schl</th>\n",
       "      <td>0.000000</td>\n",
       "    </tr>\n",
       "    <tr>\n",
       "      <th>edu_college</th>\n",
       "      <td>0.000000</td>\n",
       "    </tr>\n",
       "    <tr>\n",
       "      <th>BILL_AMT4</th>\n",
       "      <td>0.000000</td>\n",
       "    </tr>\n",
       "    <tr>\n",
       "      <th>gender_f</th>\n",
       "      <td>0.000000</td>\n",
       "    </tr>\n",
       "    <tr>\n",
       "      <th>gender_m</th>\n",
       "      <td>0.000000</td>\n",
       "    </tr>\n",
       "    <tr>\n",
       "      <th>bill_to_pay2</th>\n",
       "      <td>0.000000</td>\n",
       "    </tr>\n",
       "    <tr>\n",
       "      <th>BILL_AMT3</th>\n",
       "      <td>0.000000</td>\n",
       "    </tr>\n",
       "    <tr>\n",
       "      <th>leverage_5</th>\n",
       "      <td>0.000000</td>\n",
       "    </tr>\n",
       "    <tr>\n",
       "      <th>leverage_4</th>\n",
       "      <td>0.000000</td>\n",
       "    </tr>\n",
       "    <tr>\n",
       "      <th>PAY_6</th>\n",
       "      <td>0.000000</td>\n",
       "    </tr>\n",
       "    <tr>\n",
       "      <th>marital_othr</th>\n",
       "      <td>0.000000</td>\n",
       "    </tr>\n",
       "  </tbody>\n",
       "</table>\n",
       "</div>"
      ],
      "text/plain": [
       "               is_default\n",
       "PAY_0            0.659848\n",
       "PAY_AMT2         0.074170\n",
       "PAY_4            0.030478\n",
       "leverage_2       0.026603\n",
       "PAY_3            0.026133\n",
       "PAY_2            0.021293\n",
       "PAY_AMT4         0.017718\n",
       "BILL_AMT2        0.016062\n",
       "credit_limit     0.015145\n",
       "PAY_AMT1         0.012257\n",
       "BILL_AMT1        0.012029\n",
       "PAY_AMT3         0.011034\n",
       "bill_to_pay3     0.010767\n",
       "bill_to_pay5     0.009726\n",
       "PAY_AMT6         0.009701\n",
       "bill_to_pay4     0.008447\n",
       "leverage_3       0.007962\n",
       "PAY_AMT5         0.007322\n",
       "leverage_6       0.004152\n",
       "AGE              0.003412\n",
       "BILL_AMT5        0.003376\n",
       "leverage_1       0.002983\n",
       "bill_to_pay6     0.002961\n",
       "bill_to_pay1     0.002691\n",
       "PAY_5            0.002249\n",
       "BILL_AMT6        0.001478\n",
       "edu_grad_schl    0.000000\n",
       "marital_dvcd     0.000000\n",
       "marital_sngl     0.000000\n",
       "marital_mrrd     0.000000\n",
       "edu_other        0.000000\n",
       "edu_high_schl    0.000000\n",
       "edu_college      0.000000\n",
       "BILL_AMT4        0.000000\n",
       "gender_f         0.000000\n",
       "gender_m         0.000000\n",
       "bill_to_pay2     0.000000\n",
       "BILL_AMT3        0.000000\n",
       "leverage_5       0.000000\n",
       "leverage_4       0.000000\n",
       "PAY_6            0.000000\n",
       "marital_othr     0.000000"
      ]
     },
     "execution_count": 35,
     "metadata": {},
     "output_type": "execute_result"
    }
   ],
   "source": [
    "accts_loads = pd.DataFrame(model_cart.feature_importances_.reshape(model_cart.feature_importances_.shape[0],-1).T, \n",
    "                           columns=feature_columns, index=['is_default']).T\n",
    "accts_loads = accts_loads.sort_values('is_default',ascending=False).tail(42)\n",
    "accts_loads"
   ]
  },
  {
   "cell_type": "code",
   "execution_count": 39,
   "metadata": {},
   "outputs": [
    {
     "data": {
      "text/plain": [
       "Text(0, 0.5, 'Feature')"
      ]
     },
     "execution_count": 39,
     "metadata": {},
     "output_type": "execute_result"
    },
    {
     "data": {
      "image/png": "[encoded data removed]",
      "text/plain": [
       "<Figure size 432x288 with 1 Axes>"
      ]
     },
     "metadata": {},
     "output_type": "display_data"
    }
   ],
   "source": [
    "top_10 = accts_loads.sort_values('is_default',ascending=False).head(10)\n",
    "top_10 = top_10.sort_values('is_default',ascending=True)\n",
    "top_10 = top_10.rename(index={'PAY_0':'Sep-Status', 'leverage_2':'Aug-Bill/Limit', 'credit_limit':'Credit Limit',\n",
    "                                  'PAY_AMT2':'Aug-Payment', 'PAY_4':'Jun-Status',\n",
    "                                  'PAY_3':'July-Bill', 'PAY_AMT4':'June-Payment',\n",
    "                                  'leverage_1':'Sep-Bill/Limit', 'BILL_AMT2':'Aug-Billing',\n",
    "                                  'MARRIAGE':'Marital_Status','PAY_2':'Aug-Billing',\n",
    "                              'PAY_AMT1':'Sep-Payment'\n",
    "                                 })\n",
    "top_10.plot(kind='barh', title='Classification-Trees Feature Importances')\n",
    "plt.xlabel('Feature Importances')\n",
    "plt.ylabel('Feature')"
   ]
  },
  {
   "cell_type": "markdown",
   "metadata": {},
   "source": [
    "Let's group the features into logical categories and plot these groups for comparison."
   ]
  },
  {
   "cell_type": "code",
   "execution_count": 40,
   "metadata": {},
   "outputs": [
    {
     "name": "stdout",
     "output_type": "stream",
     "text": [
      "The Credit_Limit importance in: is_default    0.015145\n",
      "Name: credit_limit, dtype: float64\n",
      "The average PAY-AMT importance in: is_default    0.132202\n",
      "dtype: float64\n",
      "The average BILL-AMT importance in: is_default    0.032947\n",
      "dtype: float64\n",
      "The average Bill-leverage importance in: is_default    0.041699\n",
      "dtype: float64\n",
      "The average Bill-coverage importance in: is_default    0.034593\n",
      "dtype: float64\n",
      "The average Payment-History importance in: is_default    0.740003\n",
      "dtype: float64\n",
      "The average Demographic importance in: is_default    0.0\n",
      "dtype: float64\n",
      "The average September-features importance is is_default    0.684134\n",
      "dtype: float64\n",
      "The average August-features importance in: is_default    0.111526\n",
      "dtype: float64\n",
      "The average July-features importance in: is_default    0.037168\n",
      "dtype: float64\n",
      "The average June-features importance in: is_default    0.048196\n",
      "dtype: float64\n",
      "The average May-features importance in: is_default    0.012948\n",
      "dtype: float64\n",
      "The average April-features importance in: is_default    0.011179\n",
      "dtype: float64\n"
     ]
    }
   ],
   "source": [
    "accts_lim = accts_loads.loc['credit_limit']\n",
    "print('The Credit_Limit importance in:', accts_lim)\n",
    "accts_pay = accts_loads.loc['PAY_AMT1'] + accts_loads.loc['PAY_AMT2'] + accts_loads.loc['PAY_AMT3'] + accts_loads.loc['PAY_AMT4'] + accts_loads.loc['PAY_AMT5'] + accts_loads.loc['PAY_AMT6']\n",
    "print('The average PAY-AMT importance in:', accts_pay)\n",
    "accts_bill = accts_loads.loc['BILL_AMT1'] + accts_loads.loc['BILL_AMT2'] + accts_loads.loc['BILL_AMT3'] + accts_loads.loc['BILL_AMT4'] + accts_loads.loc['BILL_AMT5'] + accts_loads.loc['BILL_AMT6']\n",
    "print('The average BILL-AMT importance in:', accts_bill)\n",
    "accts_lev = accts_loads.loc['leverage_1'] + accts_loads.loc['leverage_2'] + accts_loads.loc['leverage_3'] + accts_loads.loc['leverage_4'] + accts_loads.loc['leverage_5'] + accts_loads.loc['leverage_6']\n",
    "print('The average Bill-leverage importance in:', accts_lev)\n",
    "accts_cov = accts_loads.loc['bill_to_pay1'] + accts_loads.loc['bill_to_pay2'] + accts_loads.loc['bill_to_pay3'] + accts_loads.loc['bill_to_pay4'] + accts_loads.loc['bill_to_pay5'] + accts_loads.loc['bill_to_pay6']\n",
    "print('The average Bill-coverage importance in:', accts_cov)\n",
    "accts_pay_hist = accts_loads.loc['PAY_0'] + accts_loads.loc['PAY_2'] + accts_loads.loc['PAY_3'] + accts_loads.loc['PAY_4'] + accts_loads.loc['PAY_5'] + accts_loads.loc['PAY_6']\n",
    "print('The average Payment-History importance in:', accts_pay_hist)\n",
    "accts_demo = accts_loads.loc['edu_grad_schl'] + accts_loads.loc['marital_mrrd'] + accts_loads.loc['gender_m'] + accts_loads.loc['edu_college'] + accts_loads.loc['marital_sngl'] + accts_loads.loc['gender_f'] + accts_loads.loc['edu_high_schl'] + accts_loads.loc['marital_dvcd'] + accts_loads.loc['edu_other'] + accts_loads.loc['marital_othr']\n",
    "print('The average Demographic importance in:', accts_demo)\n",
    "accts_sep = accts_loads.loc['PAY_AMT1'] + accts_loads.loc['BILL_AMT1'] +accts_loads.loc['PAY_0']\n",
    "print('The average September-features importance is', accts_sep)\n",
    "accts_aug = accts_loads.loc['PAY_AMT2'] + accts_loads.loc['BILL_AMT2'] +accts_loads.loc['PAY_2']\n",
    "print('The average August-features importance in:', accts_aug)\n",
    "accts_jul = accts_loads.loc['PAY_AMT3'] + accts_loads.loc['BILL_AMT3'] +accts_loads.loc['PAY_3']\n",
    "print('The average July-features importance in:', accts_jul)\n",
    "accts_jun = accts_loads.loc['PAY_AMT4'] + accts_loads.loc['BILL_AMT4'] +accts_loads.loc['PAY_4']\n",
    "print('The average June-features importance in:', accts_jun)\n",
    "accts_may = accts_loads.loc['PAY_AMT5'] + accts_loads.loc['BILL_AMT5'] +accts_loads.loc['PAY_5']\n",
    "print('The average May-features importance in:', accts_may)\n",
    "accts_apr = accts_loads.loc['PAY_AMT6'] + accts_loads.loc['BILL_AMT6'] +accts_loads.loc['PAY_6']\n",
    "print('The average April-features importance in:', accts_apr)"
   ]
  },
  {
   "cell_type": "code",
   "execution_count": 45,
   "metadata": {},
   "outputs": [],
   "source": [
    "feats = pd.DataFrame([accts_lim, accts_pay, accts_bill, accts_lev, accts_cov, accts_pay_hist,\n",
    "        accts_demo, accts_sep, accts_aug, accts_jul, accts_jun, accts_may, accts_apr])"
   ]
  },
  {
   "cell_type": "code",
   "execution_count": 46,
   "metadata": {},
   "outputs": [],
   "source": [
    "feats = feats.rename(columns={'is_default':'Importances'})\n",
    "feats = feats.sort_values('Importances',ascending=True)\n",
    "feats = feats.rename(index={'credit_limit':'Credit_Limit', 'Unnamed 0':'Payments',\n",
    "                            'Unnamed 1':'Billing',\n",
    "                                  'Unnamed 2':'Leverage', 'Unnamed 3':'Bill_to_Pay',\n",
    "                                  'Unnamed 4':'Pay_History', 'Unnamed 5':'Demographic',\n",
    "                                  'Unnamed 6':'Sep-Activity', 'Unnamed 7':'Aug-Activity',\n",
    "                                  'Unnamed 8':'Jul-Activity', 'Unnamed 9':'Jun-Activity',\n",
    "                                'Unnamed 10':'May-Activity', 'Unnamed 11':'Apr-Activity'\n",
    "                                 })"
   ]
  },
  {
   "cell_type": "code",
   "execution_count": 47,
   "metadata": {},
   "outputs": [
    {
     "data": {
      "text/plain": [
       "Text(0, 0.5, 'Feature Groups')"
      ]
     },
     "execution_count": 47,
     "metadata": {},
     "output_type": "execute_result"
    },
    {
     "data": {
      "image/png": "[encoded data removed]",
      "text/plain": [
       "<Figure size 432x288 with 1 Axes>"
      ]
     },
     "metadata": {},
     "output_type": "display_data"
    }
   ],
   "source": [
    "feats.plot(kind='barh', title='Decision-Tree Feature Importances')\n",
    "plt.xlabel('Feature Weights')\n",
    "plt.ylabel('Feature Groups')"
   ]
  },
  {
   "cell_type": "markdown",
   "metadata": {},
   "source": [
    "We see that the payment-history-status features and September-activity features have an overwhelming importance in this model.\n",
    "\n",
    "Now, let's look at misclassifications."
   ]
  },
  {
   "cell_type": "code",
   "execution_count": 48,
   "metadata": {},
   "outputs": [],
   "source": [
    "probas_cart = model_cart.predict_proba(X_test)\n",
    "X_test_copy=X_test.copy()\n",
    "X_test_copy['y_hat'] = model_cart.predict(X_test)"
   ]
  },
  {
   "cell_type": "code",
   "execution_count": 49,
   "metadata": {},
   "outputs": [
    {
     "name": "stdout",
     "output_type": "stream",
     "text": [
      "             precision    recall  f1-score   support\n",
      "\n",
      "          0       0.87      0.82      0.85      5834\n",
      "          1       0.48      0.57      0.52      1658\n",
      "\n",
      "avg / total       0.78      0.77      0.77      7492\n",
      "\n"
     ]
    }
   ],
   "source": [
    "tn, fp, fn, tp = confusion_matrix(y_test, X_test_copy['y_hat']).ravel()\n",
    "print(classification_report(y_test, X_test_copy['y_hat']))"
   ]
  },
  {
   "cell_type": "code",
   "execution_count": 50,
   "metadata": {},
   "outputs": [],
   "source": [
    "cart_cm = pd.DataFrame(confusion_matrix(y_test, X_test_copy['y_hat']), \n",
    "                       columns=[\"\",\"True Oct-Default\"])"
   ]
  },
  {
   "cell_type": "markdown",
   "metadata": {},
   "source": [
    "The True-Positive Rate (TPR) for this model is ..."
   ]
  },
  {
   "cell_type": "code",
   "execution_count": 52,
   "metadata": {},
   "outputs": [
    {
     "data": {
      "text/plain": [
       "0.5735826296743064"
      ]
     },
     "execution_count": 52,
     "metadata": {},
     "output_type": "execute_result"
    }
   ],
   "source": [
    "tpr_cart = tp / (tp+fn)\n",
    "tpr_cart"
   ]
  },
  {
   "cell_type": "markdown",
   "metadata": {},
   "source": [
    "...57.4%.  This is actually very good!\n",
    "\n",
    "Let's calculate the False-Negative and False-Positive rates:"
   ]
  },
  {
   "cell_type": "code",
   "execution_count": 53,
   "metadata": {},
   "outputs": [],
   "source": [
    "fnr_cart = fn / (fn+tp)\n",
    "fpr_cart = fp / (fp+tn)"
   ]
  },
  {
   "cell_type": "code",
   "execution_count": 54,
   "metadata": {},
   "outputs": [
    {
     "data": {
      "text/plain": [
       "<matplotlib.legend.Legend at 0x1a3078e7f0>"
      ]
     },
     "execution_count": 54,
     "metadata": {},
     "output_type": "execute_result"
    },
    {
     "data": {
      "image/png": "[encoded data removed]",
      "text/plain": [
       "<Figure size 432x288 with 1 Axes>"
      ]
     },
     "metadata": {},
     "output_type": "display_data"
    }
   ],
   "source": [
    "N = 2\n",
    "pred_right = (tn, tp)\n",
    "pred_wrong = (fp, fn)\n",
    "ind = np.arange(N)    \n",
    "width = 0.35       \n",
    "\n",
    "p1 = plt.bar(ind, pred_right, width, color='.3')\n",
    "p2 = plt.bar(ind, pred_wrong, width, color='.6',\n",
    "             bottom=pred_right)\n",
    "\n",
    "plt.title('DecisionTree Classification, New-Data Test-counts')\n",
    "plt.xticks(ind, ('Non-Default', 'Oct-Default'))\n",
    "plt.yticks(np.arange(0, 6000, 500))\n",
    "plt.legend((p2[0], p1[0]), ('Predicted-incorrect', 'Predicted-correct'))"
   ]
  },
  {
   "cell_type": "markdown",
   "metadata": {},
   "source": [
    "We can see the classifications and misclassifications above.\n",
    "\n",
    "## E. Model Comparisons"
   ]
  },
  {
   "cell_type": "code",
   "execution_count": 55,
   "metadata": {},
   "outputs": [
    {
     "data": {
      "text/plain": [
       "Text(0, 0.5, 'Metrics')"
      ]
     },
     "execution_count": 55,
     "metadata": {},
     "output_type": "execute_result"
    },
    {
     "data": {
      "image/png": "[encoded data removed]",
      "text/plain": [
       "<Figure size 432x288 with 1 Axes>"
      ]
     },
     "metadata": {},
     "output_type": "display_data"
    }
   ],
   "source": [
    "cm = [[fnr_keras,fpr_keras],   # Keras-LogCosh\n",
    "      [fnr_cart,fpr_cart],   # Class-Tree\n",
    "      [fnr_logreg,fpr_logreg]]   # LogReg\n",
    "loss_funcs = ['Neural Network', 'Classification-Tree',\n",
    "             'Logistic-Regression']\n",
    "df = pd.DataFrame(cm, index=loss_funcs).T\n",
    "pd.concat(\n",
    "    [df.min().rename('Fall-Out'), \n",
    "     df.max().rename('Miss_Rate')],\n",
    "    axis=1).plot.bar(title='Comparison of Models',rot=0)\n",
    "plt.xlabel('Analytical Techniques')\n",
    "plt.ylabel('Metrics')"
   ]
  },
  {
   "cell_type": "markdown",
   "metadata": {},
   "source": [
    "We can see that of the top-three models evaluated, the Keras neural-networks model worked well to minimize one of the misclassification metrics (Fall-Out) but not the other.  On the other hand, the logistic-regression model performed better at minimizing the Miss rate and not so much the Fall-Out rate.  Ideally, we would want a production model that offers a balance between minimizing both metrics.  In this case, I recommend the classification-tree model for implementation and deployment because it delivers this balance."
   ]
  },
  {
   "cell_type": "markdown",
   "metadata": {},
   "source": [
    "## Conclusions\n",
    "\n",
    "My problem statement asked if I can predict credit-card accounts that would default while controlling for the two types of misclassifications. Although none of my models scored appreciably better than the baseline model, I believe that using a Classification-Trees model offers the best results.  The dataset is unbalanced and with the Default class as the minority, our preferred model delivered a 57.4% True-Positive rate which is a significantly better result than our baseline model which predicts only Non-Defaults.  The top feature importances for the Classification-Trees model were associated with the Payment-history, Payment-amounts and August-September-related features.  This confirms that it trained well for falling average payments leading up to the defaults in the October period, which suggests increasing financial strain on accountholders."
   ]
  },
  {
   "cell_type": "markdown",
   "metadata": {},
   "source": [
    "# Thank you."
   ]
  }
 ],
 "metadata": {
  "kernelspec": {
   "display_name": "Python 3",
   "language": "python",
   "name": "python3"
  },
  "language_info": {
   "codemirror_mode": {
    "name": "ipython",
    "version": 3
   },
   "file_extension": ".py",
   "mimetype": "text/x-python",
   "name": "python",
   "nbconvert_exporter": "python",
   "pygments_lexer": "ipython3",
   "version": "3.6.5"
  }
 },
 "nbformat": 4,
 "nbformat_minor": 2
}
