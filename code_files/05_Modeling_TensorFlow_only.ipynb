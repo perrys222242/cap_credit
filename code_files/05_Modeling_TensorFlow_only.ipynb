{
 "cells": [
  {
   "cell_type": "markdown",
   "metadata": {},
   "source": [
    "# Credit-Card Default Risk\n",
    "by Perry Shyr\n",
    "## _5-of-7. Modeling with TensorFlow_\n",
    "![](../image_files/cards.png)"
   ]
  },
  {
   "cell_type": "markdown",
   "metadata": {},
   "source": [
    "## Problem Statement\n",
    "\n",
    "Given a dataset with demographic and borrowing history data for accounts classified as defaulting or not defaulting in October-2005, can I build a supervised model that performs better than identifying only members of the negative non-default class (baseline model) while minimizing the misclassification of either class?  In the context of credit-card lending, if I can predict accounts as belonging to the defaulting class, I want to minimize the number of predicted defaulters who did not actually default that October (lost revenues) while minimizing the number of predicted non-defaulters who did end up defaulting (lost profits).\n",
    "\n",
    "## Preamble for Modeling-with-TensorFlow Notebook\n",
    "\n",
    "In this notebook, I follow up the Keras neural-networks model with grid-searching to confirm the best hyperparameters for Keras modeling arrived at in the previous notebook.  An alternative neural-networks model using TensorFlow is built below as well for comparison of performance.  I will use the True-positive rate and ROC-AUC measures for misclassification in the comparison. \n"
   ]
  },
  {
   "cell_type": "markdown",
   "metadata": {},
   "source": [
    "## A. Code Libraries Used"
   ]
  },
  {
   "cell_type": "code",
   "execution_count": 1,
   "metadata": {},
   "outputs": [
    {
     "name": "stderr",
     "output_type": "stream",
     "text": [
      "/Users/perry/anaconda3/lib/python3.6/site-packages/h5py/__init__.py:36: FutureWarning: Conversion of the second argument of issubdtype from `float` to `np.floating` is deprecated. In future, it will be treated as `np.float64 == np.dtype(float).type`.\n",
      "  from ._conv import register_converters as _register_converters\n",
      "Using TensorFlow backend.\n"
     ]
    }
   ],
   "source": [
    "import numpy as np\n",
    "import pandas as pd\n",
    "import matplotlib.pyplot as plt\n",
    "import seaborn as sns\n",
    "from numpy import genfromtxt\n",
    "\n",
    "from sklearn.preprocessing import StandardScaler\n",
    "from sklearn.model_selection import train_test_split\n",
    "from sklearn.metrics import confusion_matrix\n",
    "\n",
    "from keras.models import Sequential\n",
    "from keras.layers import Dense, Dropout\n",
    "from keras import regularizers\n",
    "import tensorflow as tf\n",
    "from tensorflow.python.saved_model import tag_constants\n",
    "from sklearn import metrics\n",
    "from sklearn.pipeline import Pipeline\n",
    "from sklearn.model_selection import GridSearchCV\n",
    "\n",
    "from keras.wrappers.scikit_learn import KerasClassifier\n",
    "\n",
    "%matplotlib inline"
   ]
  },
  {
   "cell_type": "markdown",
   "metadata": {},
   "source": [
    "## B. Load data\n",
    "\n",
    "In the last notebook I was manually editing which dataset I wasnted test, either the 23-feature-set or the 35-feature-set.  I made sense now to just import all the files I might use from the beginning."
   ]
  },
  {
   "cell_type": "code",
   "execution_count": 2,
   "metadata": {},
   "outputs": [],
   "source": [
    "accts_nf = pd.read_csv('../asset_files/credit_new_features.csv', index_col='ID')"
   ]
  },
  {
   "cell_type": "code",
   "execution_count": 3,
   "metadata": {},
   "outputs": [
    {
     "name": "stdout",
     "output_type": "stream",
     "text": [
      "(29965, 43)\n"
     ]
    },
    {
     "data": {
      "text/html": [
       "<div>\n",
       "<style scoped>\n",
       "    .dataframe tbody tr th:only-of-type {\n",
       "        vertical-align: middle;\n",
       "    }\n",
       "\n",
       "    .dataframe tbody tr th {\n",
       "        vertical-align: top;\n",
       "    }\n",
       "\n",
       "    .dataframe thead th {\n",
       "        text-align: right;\n",
       "    }\n",
       "</style>\n",
       "<table border=\"1\" class=\"dataframe\">\n",
       "  <thead>\n",
       "    <tr style=\"text-align: right;\">\n",
       "      <th></th>\n",
       "      <th>credit_limit</th>\n",
       "      <th>AGE</th>\n",
       "      <th>PAY_0</th>\n",
       "      <th>PAY_2</th>\n",
       "      <th>PAY_3</th>\n",
       "      <th>PAY_4</th>\n",
       "      <th>PAY_5</th>\n",
       "      <th>PAY_6</th>\n",
       "      <th>BILL_AMT1</th>\n",
       "      <th>BILL_AMT2</th>\n",
       "      <th>...</th>\n",
       "      <th>gender_m</th>\n",
       "      <th>gender_f</th>\n",
       "      <th>edu_grad_schl</th>\n",
       "      <th>edu_college</th>\n",
       "      <th>edu_high_schl</th>\n",
       "      <th>edu_other</th>\n",
       "      <th>marital_mrrd</th>\n",
       "      <th>marital_sngl</th>\n",
       "      <th>marital_dvcd</th>\n",
       "      <th>marital_othr</th>\n",
       "    </tr>\n",
       "    <tr>\n",
       "      <th>ID</th>\n",
       "      <th></th>\n",
       "      <th></th>\n",
       "      <th></th>\n",
       "      <th></th>\n",
       "      <th></th>\n",
       "      <th></th>\n",
       "      <th></th>\n",
       "      <th></th>\n",
       "      <th></th>\n",
       "      <th></th>\n",
       "      <th></th>\n",
       "      <th></th>\n",
       "      <th></th>\n",
       "      <th></th>\n",
       "      <th></th>\n",
       "      <th></th>\n",
       "      <th></th>\n",
       "      <th></th>\n",
       "      <th></th>\n",
       "      <th></th>\n",
       "      <th></th>\n",
       "    </tr>\n",
       "  </thead>\n",
       "  <tbody>\n",
       "    <tr>\n",
       "      <th>1</th>\n",
       "      <td>20000</td>\n",
       "      <td>24</td>\n",
       "      <td>2</td>\n",
       "      <td>2</td>\n",
       "      <td>-1</td>\n",
       "      <td>-1</td>\n",
       "      <td>-2</td>\n",
       "      <td>-2</td>\n",
       "      <td>3913</td>\n",
       "      <td>3102</td>\n",
       "      <td>...</td>\n",
       "      <td>0</td>\n",
       "      <td>1</td>\n",
       "      <td>0</td>\n",
       "      <td>1</td>\n",
       "      <td>0</td>\n",
       "      <td>0</td>\n",
       "      <td>1</td>\n",
       "      <td>0</td>\n",
       "      <td>0</td>\n",
       "      <td>0</td>\n",
       "    </tr>\n",
       "    <tr>\n",
       "      <th>2</th>\n",
       "      <td>120000</td>\n",
       "      <td>26</td>\n",
       "      <td>-1</td>\n",
       "      <td>2</td>\n",
       "      <td>0</td>\n",
       "      <td>0</td>\n",
       "      <td>0</td>\n",
       "      <td>2</td>\n",
       "      <td>2682</td>\n",
       "      <td>1725</td>\n",
       "      <td>...</td>\n",
       "      <td>0</td>\n",
       "      <td>1</td>\n",
       "      <td>0</td>\n",
       "      <td>1</td>\n",
       "      <td>0</td>\n",
       "      <td>0</td>\n",
       "      <td>0</td>\n",
       "      <td>1</td>\n",
       "      <td>0</td>\n",
       "      <td>0</td>\n",
       "    </tr>\n",
       "    <tr>\n",
       "      <th>3</th>\n",
       "      <td>90000</td>\n",
       "      <td>34</td>\n",
       "      <td>0</td>\n",
       "      <td>0</td>\n",
       "      <td>0</td>\n",
       "      <td>0</td>\n",
       "      <td>0</td>\n",
       "      <td>0</td>\n",
       "      <td>29239</td>\n",
       "      <td>14027</td>\n",
       "      <td>...</td>\n",
       "      <td>0</td>\n",
       "      <td>1</td>\n",
       "      <td>0</td>\n",
       "      <td>1</td>\n",
       "      <td>0</td>\n",
       "      <td>0</td>\n",
       "      <td>0</td>\n",
       "      <td>1</td>\n",
       "      <td>0</td>\n",
       "      <td>0</td>\n",
       "    </tr>\n",
       "    <tr>\n",
       "      <th>4</th>\n",
       "      <td>50000</td>\n",
       "      <td>37</td>\n",
       "      <td>0</td>\n",
       "      <td>0</td>\n",
       "      <td>0</td>\n",
       "      <td>0</td>\n",
       "      <td>0</td>\n",
       "      <td>0</td>\n",
       "      <td>46990</td>\n",
       "      <td>48233</td>\n",
       "      <td>...</td>\n",
       "      <td>0</td>\n",
       "      <td>1</td>\n",
       "      <td>0</td>\n",
       "      <td>1</td>\n",
       "      <td>0</td>\n",
       "      <td>0</td>\n",
       "      <td>1</td>\n",
       "      <td>0</td>\n",
       "      <td>0</td>\n",
       "      <td>0</td>\n",
       "    </tr>\n",
       "    <tr>\n",
       "      <th>5</th>\n",
       "      <td>50000</td>\n",
       "      <td>57</td>\n",
       "      <td>-1</td>\n",
       "      <td>0</td>\n",
       "      <td>-1</td>\n",
       "      <td>0</td>\n",
       "      <td>0</td>\n",
       "      <td>0</td>\n",
       "      <td>8617</td>\n",
       "      <td>5670</td>\n",
       "      <td>...</td>\n",
       "      <td>1</td>\n",
       "      <td>0</td>\n",
       "      <td>0</td>\n",
       "      <td>1</td>\n",
       "      <td>0</td>\n",
       "      <td>0</td>\n",
       "      <td>1</td>\n",
       "      <td>0</td>\n",
       "      <td>0</td>\n",
       "      <td>0</td>\n",
       "    </tr>\n",
       "  </tbody>\n",
       "</table>\n",
       "<p>5 rows × 43 columns</p>\n",
       "</div>"
      ],
      "text/plain": [
       "    credit_limit  AGE  PAY_0  PAY_2  PAY_3  PAY_4  PAY_5  PAY_6  BILL_AMT1  \\\n",
       "ID                                                                           \n",
       "1          20000   24      2      2     -1     -1     -2     -2       3913   \n",
       "2         120000   26     -1      2      0      0      0      2       2682   \n",
       "3          90000   34      0      0      0      0      0      0      29239   \n",
       "4          50000   37      0      0      0      0      0      0      46990   \n",
       "5          50000   57     -1      0     -1      0      0      0       8617   \n",
       "\n",
       "    BILL_AMT2      ...       gender_m  gender_f  edu_grad_schl  edu_college  \\\n",
       "ID                 ...                                                        \n",
       "1        3102      ...              0         1              0            1   \n",
       "2        1725      ...              0         1              0            1   \n",
       "3       14027      ...              0         1              0            1   \n",
       "4       48233      ...              0         1              0            1   \n",
       "5        5670      ...              1         0              0            1   \n",
       "\n",
       "    edu_high_schl  edu_other  marital_mrrd  marital_sngl  marital_dvcd  \\\n",
       "ID                                                                       \n",
       "1               0          0             1             0             0   \n",
       "2               0          0             0             1             0   \n",
       "3               0          0             0             1             0   \n",
       "4               0          0             1             0             0   \n",
       "5               0          0             1             0             0   \n",
       "\n",
       "    marital_othr  \n",
       "ID                \n",
       "1              0  \n",
       "2              0  \n",
       "3              0  \n",
       "4              0  \n",
       "5              0  \n",
       "\n",
       "[5 rows x 43 columns]"
      ]
     },
     "execution_count": 3,
     "metadata": {},
     "output_type": "execute_result"
    }
   ],
   "source": [
    "print(accts_nf.shape)\n",
    "accts_nf.head(5)"
   ]
  },
  {
   "cell_type": "code",
   "execution_count": 4,
   "metadata": {},
   "outputs": [],
   "source": [
    "X_train = pd.read_csv('../asset_files/X_train_split.csv', index_col='ID')\n",
    "X_test = pd.read_csv('../asset_files/X_test_split.csv', index_col='ID')\n",
    "\n",
    "X_train_sc = genfromtxt('../asset_files/X_train_scaled.csv', delimiter=',')\n",
    "X_test_sc = genfromtxt('../asset_files/X_test_scaled.csv', delimiter=',')\n",
    "\n",
    "X_train_sc = genfromtxt('../asset_files/X_train_scaled.csv', delimiter=',')\n",
    "X_test_sc = genfromtxt('../asset_files/X_test_scaled.csv', delimiter=',')"
   ]
  },
  {
   "cell_type": "code",
   "execution_count": 7,
   "metadata": {},
   "outputs": [],
   "source": [
    "y_train = pd.read_csv('../asset_files/y_train_split.csv', index_col=0, header=None)\n",
    "y_test = pd.read_csv('../asset_files/y_test_split.csv', index_col=0, header=None)"
   ]
  },
  {
   "cell_type": "markdown",
   "metadata": {},
   "source": [
    "I first imagined this notebook to support the previous notebook where I got an initial working model under my belt.  I considered applying some gradient descent and back-propagation technique, on top of building Grid-tuning for my Keras model and starting a TensorFlow model, but I learned from some reading from our local instruction Team (Douglas and Tim) that gradient-descent and back-propagation are already integrated into the loss-learning and optimizer components of our neural-network packages.\n",
    "\n",
    "## C. GridSearchCV for Keras Model:"
   ]
  },
  {
   "cell_type": "code",
   "execution_count": 9,
   "metadata": {},
   "outputs": [
    {
     "name": "stdout",
     "output_type": "stream",
     "text": [
      "0.8199172297970282\n"
     ]
    },
    {
     "data": {
      "text/plain": [
       "{'nn__batch_size': 150, 'nn__epochs': 20, 'nn__layer_one_dropout': 0.6}"
      ]
     },
     "execution_count": 9,
     "metadata": {},
     "output_type": "execute_result"
    }
   ],
   "source": [
    "def model_func(layer_one_neurons=42, layer_one_dropout=.5):\n",
    "    model = Sequential()\n",
    "    model.add(Dense(layer_one_neurons, activation='relu', input_dim=42))\n",
    "    model.add(Dense(layer_one_neurons, activation='relu', input_dim=42))\n",
    "    model.add(Dropout(layer_one_dropout))\n",
    "    model.add(Dense(1, activation='sigmoid'))\n",
    "\n",
    "    model.compile(loss='logcosh', optimizer='adam', metrics=['accuracy'])\n",
    "    return model\n",
    "\n",
    "nn = KerasClassifier(build_fn=model_func, verbose=0)\n",
    "ss = StandardScaler()\n",
    "\n",
    "\n",
    "pipe = Pipeline([\n",
    "    ('ss', ss),\n",
    "    ('nn', nn)\n",
    "])\n",
    "\n",
    "params = {\n",
    "    'nn__epochs':[15, 20],\n",
    "    'nn__batch_size':[35,150,300],\n",
    "    'nn__layer_one_dropout': [.5,.6]\n",
    "}\n",
    "gs = GridSearchCV(pipe, param_grid=params)\n",
    "gs.fit(X_train, y_train)\n",
    "print(gs.best_score_)\n",
    "gs.best_params_"
   ]
  },
  {
   "cell_type": "code",
   "execution_count": 10,
   "metadata": {},
   "outputs": [
    {
     "data": {
      "text/plain": [
       "0.8179391378937593"
      ]
     },
     "execution_count": 10,
     "metadata": {},
     "output_type": "execute_result"
    }
   ],
   "source": [
    "gs.score(X_test, y_test)"
   ]
  },
  {
   "cell_type": "markdown",
   "metadata": {},
   "source": [
    "We see that the extended dataset with 12 additional features introduced some slight overfitting.  This was expected and consistent with my Keras testing in Notebook-4.  These best_params_ are very close to where I chose values for manual testing."
   ]
  },
  {
   "cell_type": "markdown",
   "metadata": {},
   "source": [
    "## D. Neural-network model using TensorFlow:"
   ]
  },
  {
   "cell_type": "code",
   "execution_count": 11,
   "metadata": {},
   "outputs": [],
   "source": [
    "y_train = y_train.values.reshape(-1, 1)\n",
    "y_test = y_test.values.reshape(-1, 1)"
   ]
  },
  {
   "cell_type": "code",
   "execution_count": 13,
   "metadata": {},
   "outputs": [],
   "source": [
    "tf.reset_default_graph()\n",
    "\n",
    "X = tf.placeholder(dtype=tf.float32, shape=(None,42))\n",
    "y = tf.placeholder(dtype=tf.float32, shape=(None,1))\n",
    "\n",
    "h1 = tf.layers.dense(X, 42, activation=tf.nn.relu)\n",
    "# h2 = tf.layers.dense(h1, 42, activation=tf.nn.relu)  # Second hidden layer excluded.\n",
    "# h3 = tf.layers.dense(h2, 42, activation=tf.nn.relu)  # Third hidden layer excluded\n",
    "y_hat = tf.layers.dense(h1, 1, activation=tf.nn.sigmoid)\n",
    "\n",
    "loss = tf.losses.sigmoid_cross_entropy(y,y_hat)\n",
    "optimizer = tf.train.AdamOptimizer(.01)\n",
    "training_op = optimizer.minimize(loss)"
   ]
  },
  {
   "cell_type": "markdown",
   "metadata": {},
   "source": [
    "The model results were worse for a second or third hidden layers."
   ]
  },
  {
   "cell_type": "code",
   "execution_count": 14,
   "metadata": {},
   "outputs": [],
   "source": [
    "init = tf.global_variables_initializer()\n",
    "\n",
    "train_losses = []\n",
    "test_losses = []\n",
    "\n",
    "with tf.Session() as sess:\n",
    "    sess.run(init)\n",
    "    \n",
    "    for epoch in range(100):\n",
    "        sess.run(training_op, feed_dict={X: X_train_sc, y: y_train})\n",
    "        trl = sess.run(loss,feed_dict = {X:X_train_sc,y:y_train})\n",
    "        tsl = sess.run(loss,feed_dict = {X:X_test_sc,y:y_test})\n",
    "        \n",
    "        train_losses.append(trl)\n",
    "        test_losses.append(tsl)\n",
    "    pred = sess.run(y_hat, feed_dict={X:X_test_sc})"
   ]
  },
  {
   "cell_type": "markdown",
   "metadata": {},
   "source": [
    "There is an alternative to using 'feed-dict' involving a built-in API named 'Dataset.' (https://towardsdatascience.com/how-to-use-dataset-in-tensorflow-c758ef9e4428)\n",
    "\n",
    "(Note: I added this research here planning to revisit it's use at some point.)"
   ]
  },
  {
   "cell_type": "code",
   "execution_count": 15,
   "metadata": {},
   "outputs": [],
   "source": [
    "predicted_classes = (pred > .10).astype(int)   # threshold set at 0.1"
   ]
  },
  {
   "cell_type": "code",
   "execution_count": 16,
   "metadata": {},
   "outputs": [
    {
     "name": "stdout",
     "output_type": "stream",
     "text": [
      "515.8538\n"
     ]
    },
    {
     "data": {
      "text/plain": [
       "array([[2.4473325e-03],\n",
       "       [5.9563723e-07],\n",
       "       [2.0784936e-03],\n",
       "       ...,\n",
       "       [1.3216457e-05],\n",
       "       [7.2859613e-05],\n",
       "       [1.4281904e-04]], dtype=float32)"
      ]
     },
     "execution_count": 16,
     "metadata": {},
     "output_type": "execute_result"
    }
   ],
   "source": [
    "print(np.sum(pred))\n",
    "pred                # ...is an array of continuous probabilities"
   ]
  },
  {
   "cell_type": "code",
   "execution_count": 17,
   "metadata": {},
   "outputs": [
    {
     "data": {
      "text/plain": [
       "array([[0],\n",
       "       [0],\n",
       "       [0],\n",
       "       ...,\n",
       "       [0],\n",
       "       [0],\n",
       "       [0]])"
      ]
     },
     "execution_count": 17,
     "metadata": {},
     "output_type": "execute_result"
    }
   ],
   "source": [
    "np.max(predicted_classes)\n",
    "predicted_classes   # ...is an array of integers."
   ]
  },
  {
   "cell_type": "code",
   "execution_count": 18,
   "metadata": {},
   "outputs": [
    {
     "data": {
      "text/plain": [
       "0.8142018152696209"
      ]
     },
     "execution_count": 18,
     "metadata": {},
     "output_type": "execute_result"
    }
   ],
   "source": [
    "metrics.accuracy_score(y_test,predicted_classes)"
   ]
  },
  {
   "cell_type": "markdown",
   "metadata": {},
   "source": [
    "We can see that the score is almost as good as the Keras score, but not quite."
   ]
  },
  {
   "cell_type": "code",
   "execution_count": 19,
   "metadata": {},
   "outputs": [
    {
     "data": {
      "text/plain": [
       "array([[5544,  290],\n",
       "       [1102,  556]])"
      ]
     },
     "execution_count": 19,
     "metadata": {},
     "output_type": "execute_result"
    }
   ],
   "source": [
    "metrics.confusion_matrix(y_test, predicted_classes)"
   ]
  },
  {
   "cell_type": "markdown",
   "metadata": {},
   "source": [
    "The True-Positive Rate (TPR) for this model is ..."
   ]
  },
  {
   "cell_type": "code",
   "execution_count": 20,
   "metadata": {},
   "outputs": [
    {
     "data": {
      "text/plain": [
       "0.3353437876960193"
      ]
     },
     "execution_count": 20,
     "metadata": {},
     "output_type": "execute_result"
    }
   ],
   "source": [
    "556 / (556+1102)"
   ]
  },
  {
   "cell_type": "markdown",
   "metadata": {},
   "source": [
    "... 33.5% for the discrete classification."
   ]
  },
  {
   "cell_type": "code",
   "execution_count": 23,
   "metadata": {},
   "outputs": [],
   "source": [
    "tn, fp, fn, tp = confusion_matrix(y_test, [np.around(y) for y in predicted_classes]).ravel()\n",
    "df_cm1 = pd.DataFrame(confusion_matrix(y_test, \n",
    "                                       [np.around(y) for y in predicted_classes]), \n",
    "                      columns=[\"\",\"Actual Oct-Default\"])"
   ]
  },
  {
   "cell_type": "code",
   "execution_count": 25,
   "metadata": {},
   "outputs": [
    {
     "data": {
      "text/plain": [
       "<matplotlib.legend.Legend at 0x1a37ac8080>"
      ]
     },
     "execution_count": 25,
     "metadata": {},
     "output_type": "execute_result"
    },
    {
     "data": {
      "image/png": "[encoded data removed]",
      "text/plain": [
       "<Figure size 432x288 with 1 Axes>"
      ]
     },
     "metadata": {},
     "output_type": "display_data"
    }
   ],
   "source": [
    "N = 2\n",
    "pred_right = (tn, tp)\n",
    "pred_wrong = (fp, fn)\n",
    "ind = np.arange(N)    # the x locations for the groups\n",
    "width = 0.35       # the width of the bars: can also be len(x) sequence\n",
    "\n",
    "p1 = plt.bar(ind, pred_right, width, color='g')\n",
    "p2 = plt.bar(ind, pred_wrong, width, color='y',\n",
    "             bottom=pred_right)\n",
    "\n",
    "plt.title('TensorFlow-NN Classification Test-counts')\n",
    "plt.xticks(ind, ('Non-Default', 'Oct-Default'))\n",
    "plt.yticks(np.arange(0, 6000, 500))\n",
    "plt.legend((p2[0], p1[0]), ('Predicted-incorrect', 'Predicted-correct'))"
   ]
  },
  {
   "cell_type": "markdown",
   "metadata": {},
   "source": [
    "We can see that the TensorFlow model suffers from incorrectly predicting the non-default status of accounts that actually defaulted.  In financial terms, this is extremely costly.\n",
    "\n",
    "Let's plot the loss history."
   ]
  },
  {
   "cell_type": "code",
   "execution_count": 38,
   "metadata": {},
   "outputs": [
    {
     "data": {
      "text/plain": [
       "<matplotlib.legend.Legend at 0x1a3d772eb8>"
      ]
     },
     "execution_count": 38,
     "metadata": {},
     "output_type": "execute_result"
    },
    {
     "data": {
      "image/png": "[encoded data removed]",
      "text/plain": [
       "<Figure size 432x288 with 1 Axes>"
      ]
     },
     "metadata": {},
     "output_type": "display_data"
    }
   ],
   "source": [
    "plt.plot(train_losses,label='train losses')\n",
    "plt.plot(test_losses,label='test losses')\n",
    "plt.legend()"
   ]
  },
  {
   "cell_type": "markdown",
   "metadata": {},
   "source": [
    "We can see that there is almost no variance problem.\n",
    "\n",
    "Then, we can look at the Receiver-Operator Characteristic plot for the misclassification rate of the probailities."
   ]
  },
  {
   "cell_type": "code",
   "execution_count": 26,
   "metadata": {},
   "outputs": [
    {
     "data": {
      "image/png": "[encoded data removed]",
      "text/plain": [
       "<Figure size 432x288 with 1 Axes>"
      ]
     },
     "metadata": {},
     "output_type": "display_data"
    }
   ],
   "source": [
    "from sklearn.metrics import roc_curve, auc\n",
    "\n",
    "# Generate False positive rate and True positive rate\n",
    "# fpr, tpr, _ = roc_curve(y_test, predicted_classes)\n",
    "fpr, tpr, _ = roc_curve(y_test, pred)\n",
    "roc_auc = auc(fpr, tpr)\n",
    "# fpr\n",
    "\n",
    "# Plot \n",
    "plt.figure()\n",
    "line_width = 2\n",
    "\n",
    "plt.plot(fpr, tpr, lw = line_width, color=\"darkorange\", label = \"ROC Curve %.2f\" % roc_auc)\n",
    "plt.plot([0,1],[0,1], lw = line_width, linestyle = \"--\", color=\"navy\")\n",
    "\n",
    "plt.xlim([0.0, 1.0])\n",
    "plt.ylim([0.0, 1.05])\n",
    "plt.xlabel('False-Positive Rate')\n",
    "plt.ylabel('True-Positive Rate')\n",
    "plt.title('ROC Curve for TensorFlow-pred')\n",
    "plt.legend(loc=\"lower right\")\n",
    "plt.show()"
   ]
  },
  {
   "cell_type": "markdown",
   "metadata": {},
   "source": [
    "The same plot for the discrete predictions from an adjusted threshold."
   ]
  },
  {
   "cell_type": "code",
   "execution_count": 27,
   "metadata": {},
   "outputs": [
    {
     "data": {
      "image/png": "[encoded data removed]",
      "text/plain": [
       "<Figure size 432x288 with 1 Axes>"
      ]
     },
     "metadata": {},
     "output_type": "display_data"
    }
   ],
   "source": [
    "fpr, tpr, _ = roc_curve(y_test, predicted_classes)\n",
    "roc_auc = auc(fpr, tpr)\n",
    "# fpr\n",
    "\n",
    "# Plot \n",
    "plt.figure()\n",
    "line_width = 2\n",
    "\n",
    "plt.plot(fpr, tpr, lw = line_width, color=\"darkgreen\", label = \"ROC Curve %.2f\" % roc_auc)\n",
    "plt.plot([0,1],[0,1], lw = line_width, linestyle = \"--\", color=\"navy\")\n",
    "\n",
    "plt.xlim([0.0, 1.0])\n",
    "plt.ylim([0.0, 1.05])\n",
    "plt.xlabel('False-Positive Rate')\n",
    "plt.ylabel('True-Positive Rate')\n",
    "plt.title('ROC Curve for TensorFlow-predicted_classes, threshold=0.1')\n",
    "plt.legend(loc=\"lower right\")\n",
    "plt.show()"
   ]
  },
  {
   "cell_type": "markdown",
   "metadata": {},
   "source": [
    "The area measured is slightly less with an adjusted threshold."
   ]
  },
  {
   "cell_type": "markdown",
   "metadata": {},
   "source": [
    "## Continue to Notebook-6: Modeling Other Classifiers - Part 3\n",
    "\n",
    "The tuning of the Keras model from Notebook-4 used GridSearch in the current notebook above.  A comparable Tensorflow version was built without a workable way to save it.  Based on a higher TPR score (0.353 to be confirmed in Notebook-7), the Keras model will be considered for the final evaluation.  As a result, saving the current Tensorflow model is not a necessity for the time being.\n",
    "\n",
    "In the next notebook, we build three basic classifier models, including Logistic Regression, Naive-Bayes, and DecisionTreeClassifier.  The best two of those models will be saved and considered for final evaluation in the last notebook in this kernel."
   ]
  }
 ],
 "metadata": {
  "kernelspec": {
   "display_name": "Python 3",
   "language": "python",
   "name": "python3"
  },
  "language_info": {
   "codemirror_mode": {
    "name": "ipython",
    "version": 3
   },
   "file_extension": ".py",
   "mimetype": "text/x-python",
   "name": "python",
   "nbconvert_exporter": "python",
   "pygments_lexer": "ipython3",
   "version": "3.6.5"
  }
 },
 "nbformat": 4,
 "nbformat_minor": 2
}
